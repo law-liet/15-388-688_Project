{
 "cells": [
  {
   "cell_type": "markdown",
   "metadata": {},
   "source": [
    "# 15-688 Final Project Report \n",
    "\n",
    "\n",
    "\n",
    "## 0. Background\n",
    "\n",
    "Social media has become a new way of communication. It has revolutionized the relationship between users and digital products. The social media users are not only consumers, they are also content creators, providers and spreaders. A massive amount of data has been generated directly by users and this allows us to measure people’s attention and attitude regarding a product in large scale. \n",
    "\n",
    "Can the social media activities reflect our behaviors in real life?  Previous research showed that the tweets in a critical time period can successfully predict real world outcomes. A study on movie showed that both tweet - rate (number of tweets per hour) and sentiments of tweets could predict the box-office revenue (Asur, 2010) and the rating  of a particular movie (Oghina,2012). Also, some other studies demonstrated that the overall attitude of tweets has high correlation with people’s behavior in the stock market (Bollen,2011), political elections (Bermingham,2011), and etc.,\n",
    "\n",
    "It might go beyond our expectations in the ways how these social media indicators are correlated with the real world outcomes. For example, products (De Vries,2012) and movies (e.g., [Tiny Times](https://en.wikipedia.org/wiki/Tiny_Times)) that have received negative comments were even more popular than those who received relatively higher ratings in social media. \n",
    "\n",
    "In this project, we use movie's box office as our subject area and try to find its correlation Twitterw :\n",
    "- This subject area has research basis, which is both a good foundation of our project and a credible resource for comparing the project results.\n",
    "- The real world outcomes (purchase behavior) can be easily measured by the box-office revenue.\n",
    "- The “quality” of a product can be indicated by the IMDb score.\n",
    "\n",
    "\n"
   ]
  },
  {
   "cell_type": "code",
   "execution_count": 105,
   "metadata": {
    "collapsed": false,
    "scrolled": true
   },
   "outputs": [
    {
     "name": "stderr",
     "output_type": "stream",
     "text": [
      "/Users/weijian/anaconda2/lib/python2.7/site-packages/matplotlib/__init__.py:1350: UserWarning:  This call to matplotlib.use() has no effect\n",
      "because the backend has already been chosen;\n",
      "matplotlib.use() must be called *before* pylab, matplotlib.pyplot,\n",
      "or matplotlib.backends is imported for the first time.\n",
      "\n",
      "  warnings.warn(_use_error_msg)\n"
     ]
    }
   ],
   "source": [
    "import pickle\n",
    "import numpy as np\n",
    "import pandas as pd\n",
    "import datetime\n",
    "import unirest\n",
    "import nltk\n",
    "import sklearn\n",
    "import string\n",
    "import csv\n",
    "import ast\n",
    "from pytagcloud import create_tag_image, make_tags\n",
    "from pytagcloud.lang.counter import get_tag_counts\n",
    "from sklearn.decomposition import TruncatedSVD\n",
    "from pattern.en import sentiment, parsetree\n",
    "from glob import glob\n",
    "from collections import Counter\n",
    "from get_tweets import get_tweets\n",
    "from text_classification import process_all, get_rare_words, create_features\n",
    "from nltk.tokenize import TweetTokenizer\n",
    "from nltk.corpus import stopwords\n",
    "import matplotlib\n",
    "matplotlib.use(\"svg\")\n",
    "import matplotlib.pyplot as plt\n",
    "plt.style.use(\"ggplot\")\n"
   ]
  },
  {
   "cell_type": "markdown",
   "metadata": {},
   "source": [
    "## 1. Data-preparation & analysis\n",
    "\n",
    "### 1.1. Movie Box Office Data  \n",
    "   \n",
    "   In the data preparation section, the first step of the project is to grasp movie data and twitter data separately:\n",
    "For the movie data part, the main information we care about here are: movie’s name, total domestic box office amount (we narrow down the research area for only focusing on North America region), movie’s release date, genre, and distributors. The first two features are the main identifiers for the movie marked as our label. The third feature (release date) is used for targeting a specific time range for tweets search, and the rest of the features can be used for movie classification since we assume that correlations between twitter and a movie’s box office may also depends on movie’s type.\n",
    "\n",
    "During the searching for box office data, we found that most of the movie box office information is either not complete or not freely available. To our best knowledge, there is no public and free API available for large scale movie box office query service. Therefore, we decide to write web scrapper by ourselves to collect box office data from [Boxoffice-Mojo](www.boxofficemojo.com). Boxoffice-Mojo is a website that tracks box office for more than 16,000 movies. \n",
    "\n",
    "Basically, we use [Beautiful Soup](https://www.crummy.com/software/BeautifulSoup/) and python [urllib2](https://docs.python.org/2/library/urllib2.html) library  to do web data scrapping and saved the data into ‘movies_data.pkl’ file. \n",
    "\n",
    "In the following code, movie data is imported and sorted by its domestic total gross in decreasing order. The top 5 ranking movies are shown below:\n"
   ]
  },
  {
   "cell_type": "code",
   "execution_count": 37,
   "metadata": {
    "collapsed": false,
    "scrolled": true
   },
   "outputs": [],
   "source": [
    "#load movie data from scrapper file\n",
    "with open('movies_data.pkl', 'r') as picklefile:\n",
    "    movies_scraped, movies_skipped = pickle.load(picklefile)"
   ]
  },
  {
   "cell_type": "code",
   "execution_count": 93,
   "metadata": {
    "collapsed": false,
    "scrolled": true
   },
   "outputs": [
    {
     "name": "stdout",
     "output_type": "stream",
     "text": [
      "14682\n"
     ]
    },
    {
     "data": {
      "text/html": [
       "<div>\n",
       "<table border=\"1\" class=\"dataframe\">\n",
       "  <thead>\n",
       "    <tr style=\"text-align: right;\">\n",
       "      <th></th>\n",
       "      <th>BOM_id</th>\n",
       "      <th>actors</th>\n",
       "      <th>budget</th>\n",
       "      <th>director</th>\n",
       "      <th>distributor</th>\n",
       "      <th>domestic_total_gross</th>\n",
       "      <th>genre</th>\n",
       "      <th>movie_title</th>\n",
       "      <th>opening_income_wend</th>\n",
       "      <th>opening_theaters</th>\n",
       "      <th>rating</th>\n",
       "      <th>release_date</th>\n",
       "      <th>runtime_mins</th>\n",
       "    </tr>\n",
       "  </thead>\n",
       "  <tbody>\n",
       "    <tr>\n",
       "      <th>9982</th>\n",
       "      <td>starwars7</td>\n",
       "      <td>John BoyegaDaisy RidleyAdam DriverOscar IsaacA...</td>\n",
       "      <td>245000000.0</td>\n",
       "      <td>J.J. Abrams</td>\n",
       "      <td>Buena Vista</td>\n",
       "      <td>936662225.0</td>\n",
       "      <td>Sci-Fi Fantasy</td>\n",
       "      <td>Star Wars: The Force Awakens</td>\n",
       "      <td>247966675.0</td>\n",
       "      <td>4134.0</td>\n",
       "      <td>PG-13</td>\n",
       "      <td>2015-12-18</td>\n",
       "      <td>136.0</td>\n",
       "    </tr>\n",
       "    <tr>\n",
       "      <th>13275</th>\n",
       "      <td>avatar</td>\n",
       "      <td>Sam WorthingtonZoe SaldanaSigourney WeaverMich...</td>\n",
       "      <td>NaN</td>\n",
       "      <td>James Cameron</td>\n",
       "      <td>Fox</td>\n",
       "      <td>749766139.0</td>\n",
       "      <td>Sci-Fi Adventure</td>\n",
       "      <td>Avatar</td>\n",
       "      <td>77025481.0</td>\n",
       "      <td>3452.0</td>\n",
       "      <td>PG-13</td>\n",
       "      <td>2009-12-18</td>\n",
       "      <td>160.0</td>\n",
       "    </tr>\n",
       "    <tr>\n",
       "      <th>1772</th>\n",
       "      <td>jurassicpark4</td>\n",
       "      <td>Nick RobinsonOmar SyChris PrattBryce Dallas Ho...</td>\n",
       "      <td>150000000.0</td>\n",
       "      <td>Colin Trevorrow</td>\n",
       "      <td>Universal</td>\n",
       "      <td>652270625.0</td>\n",
       "      <td>Action / Adventure</td>\n",
       "      <td>Jurassic World</td>\n",
       "      <td>208806270.0</td>\n",
       "      <td>4274.0</td>\n",
       "      <td>PG-13</td>\n",
       "      <td>2015-06-12</td>\n",
       "      <td>124.0</td>\n",
       "    </tr>\n",
       "    <tr>\n",
       "      <th>2616</th>\n",
       "      <td>avengers11</td>\n",
       "      <td>Robert Downey, Jr.Chris HemsworthChris EvansJe...</td>\n",
       "      <td>220000000.0</td>\n",
       "      <td>Joss Whedon</td>\n",
       "      <td>Buena Vista</td>\n",
       "      <td>623357910.0</td>\n",
       "      <td>Action / Adventure</td>\n",
       "      <td>Marvel's The Avengers</td>\n",
       "      <td>207438708.0</td>\n",
       "      <td>4349.0</td>\n",
       "      <td>PG-13</td>\n",
       "      <td>2012-05-04</td>\n",
       "      <td>142.0</td>\n",
       "    </tr>\n",
       "    <tr>\n",
       "      <th>7211</th>\n",
       "      <td>titanic</td>\n",
       "      <td>Leonardo DiCaprioKate WinsletBilly ZaneKathy B...</td>\n",
       "      <td>200000000.0</td>\n",
       "      <td>James Cameron</td>\n",
       "      <td>Paramount</td>\n",
       "      <td>600788188.0</td>\n",
       "      <td>Romance</td>\n",
       "      <td>Titanic</td>\n",
       "      <td>28638131.0</td>\n",
       "      <td>2674.0</td>\n",
       "      <td>PG-13</td>\n",
       "      <td>1997-12-19</td>\n",
       "      <td>194.0</td>\n",
       "    </tr>\n",
       "  </tbody>\n",
       "</table>\n",
       "</div>"
      ],
      "text/plain": [
       "              BOM_id                                             actors  \\\n",
       "9982       starwars7  John BoyegaDaisy RidleyAdam DriverOscar IsaacA...   \n",
       "13275         avatar  Sam WorthingtonZoe SaldanaSigourney WeaverMich...   \n",
       "1772   jurassicpark4  Nick RobinsonOmar SyChris PrattBryce Dallas Ho...   \n",
       "2616      avengers11  Robert Downey, Jr.Chris HemsworthChris EvansJe...   \n",
       "7211         titanic  Leonardo DiCaprioKate WinsletBilly ZaneKathy B...   \n",
       "\n",
       "            budget         director  distributor  domestic_total_gross  \\\n",
       "9982   245000000.0      J.J. Abrams  Buena Vista           936662225.0   \n",
       "13275          NaN    James Cameron          Fox           749766139.0   \n",
       "1772   150000000.0  Colin Trevorrow    Universal           652270625.0   \n",
       "2616   220000000.0      Joss Whedon  Buena Vista           623357910.0   \n",
       "7211   200000000.0    James Cameron    Paramount           600788188.0   \n",
       "\n",
       "                    genre                   movie_title  opening_income_wend  \\\n",
       "9982       Sci-Fi Fantasy  Star Wars: The Force Awakens          247966675.0   \n",
       "13275    Sci-Fi Adventure                        Avatar           77025481.0   \n",
       "1772   Action / Adventure                Jurassic World          208806270.0   \n",
       "2616   Action / Adventure         Marvel's The Avengers          207438708.0   \n",
       "7211              Romance                       Titanic           28638131.0   \n",
       "\n",
       "       opening_theaters rating release_date  runtime_mins  \n",
       "9982             4134.0  PG-13   2015-12-18         136.0  \n",
       "13275            3452.0  PG-13   2009-12-18         160.0  \n",
       "1772             4274.0  PG-13   2015-06-12         124.0  \n",
       "2616             4349.0  PG-13   2012-05-04         142.0  \n",
       "7211             2674.0  PG-13   1997-12-19         194.0  "
      ]
     },
     "execution_count": 93,
     "metadata": {},
     "output_type": "execute_result"
    }
   ],
   "source": [
    "movies = pd.DataFrame(movies_scraped)\n",
    "movies.dropna(axis=0, subset=['domestic_total_gross'], inplace=True)\n",
    "movies.sort_values(by='domestic_total_gross', ascending=False, inplace=True)\n",
    "print len(movies)\n",
    "movies.head()"
   ]
  },
  {
   "cell_type": "markdown",
   "metadata": {},
   "source": [
    "We can see that 14,682 movies’ information is dumped from the website and we checked our data by sorting their domestic total box office in descending order. We can see that the top 5 movies are:\n",
    "* Star War VII        : 936,662,225 \n",
    "* Avatar              : 749,766,139\n",
    "* Jurassic Park IV    : 652,270,625\n",
    "* Avengers II         : 623,357,910\n",
    "* Titanic             : 600,788,188\n",
    "\n",
    "It is already verified by other resource which means our data is reliable.\n",
    "Here is the genre information for the collected movies and their counting distribution:\n",
    "\n",
    "We can find out that the overall most frequent movies in the industry is not exactly as we expected. There are 2065 movies labeled as 'Unknown'. We think that this is because some of the old films (before 1980s) are hard to classified with type creteria nowadays. Besides, the top three types of movies are 'Foreign' (1671 movies), 'Drama' (1524 movies) and 'Documentary' (1512 movies)."
   ]
  },
  {
   "cell_type": "code",
   "execution_count": 89,
   "metadata": {
    "collapsed": false,
    "scrolled": false
   },
   "outputs": [
    {
     "name": "stdout",
     "output_type": "stream",
     "text": [
      "[u'Sci-Fi Fantasy' u'Sci-Fi Adventure' u'Action / Adventure' u'Romance'\n",
      " u'Animation' u'Action Thriller' u'Period Adventure' u'Sci-Fi Action'\n",
      " u'Fantasy' u'Historical Drama' u'Adventure' u'Action' u'Family Adventure'\n",
      " u'Sci-Fi Horror' u'Drama' u'Comedy / Drama' u'Horror' u'Family Comedy'\n",
      " u'Comedy' u'Sci-Fi Thriller' u'Horror Thriller' u'Sports Drama'\n",
      " u'Sci-Fi Comedy' u'Fantasy Comedy' u'Action Drama' u'Romantic Comedy'\n",
      " u'Action Comedy' u'Horror Comedy' u'Sci-Fi' u'Fantasy Drama' u'Thriller'\n",
      " u'War' u'Period Action' u'Action Horror' u'Historical Epic' u'Western'\n",
      " u'Crime Comedy' u'Adventure Comedy' u'Period Drama' u'Musical'\n",
      " u'Sports Comedy' u'Drama / Thriller' u'Crime Drama' u'Foreign / Action'\n",
      " u'Period Horror' u'Music Drama' u'Western Comedy' u'Documentary'\n",
      " u'War Drama' u'Sports Action' u'Period Comedy' u'Crime' u'Action / Crime'\n",
      " u'War Romance' u'IMAX' u'Action Fantasy' u'Crime Thriller'\n",
      " u'Romantic Thriller' u'Comedy Thriller' u'Family' u'Romantic Adventure'\n",
      " u'Concert' u'Foreign' u'Foreign / Horror' u'Unknown' u'Sports']\n",
      "Unknown            2065\n",
      "Foreign            1671\n",
      "Drama              1524\n",
      "Documentary        1512\n",
      "Comedy             1359\n",
      "Comedy / Drama      457\n",
      "Animation           451\n",
      "Romantic Comedy     451\n",
      "Horror              430\n",
      "Thriller            419\n",
      "Name: genre, dtype: int64\n",
      "2065\n"
     ]
    }
   ],
   "source": [
    "print movies['genre'].unique()\n",
    "print movies['genre'].value_counts().head(10)\n",
    "print movies['genre'].value_counts()['Unknown']"
   ]
  },
  {
   "cell_type": "markdown",
   "metadata": {},
   "source": [
    "Another thing we need to point out is that, since we are interested with the correlation between a movie's box office and its tweets features. It is obvious that we only care about movies released after Twitter becoming popular. In this case, we filtered out all movies released before 2008 and left with 5278 movies. In the rest part of the report, we will only focus on movies data that released after 2008.\n",
    "\n",
    "The most important difference between these two distribution we can observe is that, the popularity of Action moive raises after 2008 as we can see from the result below:"
   ]
  },
  {
   "cell_type": "code",
   "execution_count": 90,
   "metadata": {
    "collapsed": false,
    "scrolled": true
   },
   "outputs": [
    {
     "name": "stdout",
     "output_type": "stream",
     "text": [
      "5642\n",
      "\n",
      "Documentary        987\n",
      "Drama              935\n",
      "Foreign            883\n",
      "Comedy             547\n",
      "Comedy / Drama     234\n",
      "Thriller           211\n",
      "Animation          191\n",
      "Horror             171\n",
      "Romantic Comedy    112\n",
      "Action             100\n",
      "Name: genre, dtype: int64\n"
     ]
    }
   ],
   "source": [
    "#get new movies after 20008\n",
    "new_movies = movies.loc[movies['release_date'] >= np.datetime64('2008-01-01')]\n",
    "print len(new_movies)\n",
    "print \n",
    "print new_movies['genre'].value_counts().head(10)\n"
   ]
  },
  {
   "cell_type": "markdown",
   "metadata": {},
   "source": [
    "### 1.2. Twitter comments data\n",
    "  \n",
    "When collecting twitter data, we also met some challenges. Our task is to collect tweets related to a specific film during the time period of the film release (The fact is that different movies may have different time period of release length, but here we assume every movie will be released for 45 days for simplicity). When we say ‘related to a film’, we use 'OR' operator to concatenate movie's name and id as keywords and hashtags to generate a query to search for one tweet. \n",
    "\n",
    "\n",
    "At first we tried using keywords directly but it turned out that we have so many unrelated tweets returned as results. The precision for our sample is extremely low using this way. Therefore instead, if one tweet contains a film’s name or hash-tag, we regard this tweet as related to this film. \n",
    "\n",
    "Unfortunately, Twitter [streaming API](https://dev.twitter.com/streaming/overview) only allows us to fetch the latest tweets within a week when given keywords and hashtag. Therefore, most of the films’ related tweets which posted earlier than a week cannot be fetched. We also tried several reliable open-sourced twitter data fetching library, since most of them are based on Twitter streaming API so they cannot satisfy our requirement either. One of a not-very-popular library is found [here](https://github.com/Jefferson-Henrique/GetOldTweets-python). The basic idea is that when you enter on Twitter page a scroll loader starts, if you scroll down you start to get more and more tweets, all through calls to a JSON provider. After mimic we get the best advantage of Twitter Search on browsers, it can search the deepest oldest tweets. The good thing is that this library can fit most of our requirement, and the bad thing is that it is not a very reliable library due to its popularity. (As you can see we have to throw out some bad quality data and handle error by choosing this library in the following sessions).\n",
    " \n",
    "Blocks below are codes we used to collect tweets data. Temporarily, we set the max tweets number for each movie to be 1,000. We will adjust this number in the future if the training/testing performance does not go well. Basic features we used for each tweet are its word count, retweet number, and whether it contains links. Besides, we conduct sentimental analysis from a [public API](http://text-processing.com/api/sentiment/). \n",
    "\n",
    "Due to the daily usage limitation for sentimental analysis API, we only choose seven films to do the sentimental analysis here, among the seven movies, four of them are popular movies which have very high box office, while the other three are relatively normal movies:\n"
   ]
  },
  {
   "cell_type": "code",
   "execution_count": 11,
   "metadata": {
    "collapsed": true,
    "scrolled": true
   },
   "outputs": [],
   "source": [
    "time_range = datetime.timedelta(days=60)\n",
    "maxtweets = 1000\n",
    "\n",
    "def fetch_tweets(row):\n",
    "    BOM_id = row['BOM_id']\n",
    "    movie_title = row['movie_title']\n",
    "    query = BOM_id + ' OR #' + BOM_id + ' OR ' + movie_title + ' OR #' + movie_title\n",
    "    date = row['release_date']\n",
    "    start = date.date().strftime('%Y-%m-%d')\n",
    "    end = (date.date() + time_range).strftime('%Y-%m-%d')\n",
    "    get_tweets(filename='data2/' + BOM_id, maxtweets=maxtweets, query=query, since=start, until=end)\n",
    "    print movie_title, start, end"
   ]
  },
  {
   "cell_type": "code",
   "execution_count": null,
   "metadata": {
    "collapsed": false
   },
   "outputs": [],
   "source": [
    "# used for featching tweets, do not need to run it for testing, see below section 3 for instruction detail\n",
    "# for _, row in new_movies.iterrows():\n",
    "#     fetch_tweets(row)"
   ]
  },
  {
   "cell_type": "code",
   "execution_count": 13,
   "metadata": {
    "collapsed": false,
    "scrolled": true
   },
   "outputs": [
    {
     "name": "stdout",
     "output_type": "stream",
     "text": [
      "['data/avatar', 'data/avengers11', 'data/jurassicpark4', 'data/misterlonely', 'data/starwars7', 'data/totalrecall2012rerelease', 'data/womenintrouble']\n",
      "avatar\n",
      "avengers11\n",
      "jurassicpark4\n",
      "misterlonely\n",
      "starwars7\n",
      "totalrecall2012rerelease\n",
      "womenintrouble\n"
     ]
    }
   ],
   "source": [
    "#small samples for tweets sentiment feature\n",
    "fetched_movie = {}\n",
    "directories = glob('data/*')\n",
    "print directories\n",
    "for directory in directories:\n",
    "    BOM_id = directory[5:]\n",
    "    print BOM_id\n",
    "    fetched_movie[BOM_id] = pd.read_csv(directory, sep=';', index_col=0)"
   ]
  },
  {
   "cell_type": "code",
   "execution_count": 14,
   "metadata": {
    "collapsed": false,
    "scrolled": true
   },
   "outputs": [],
   "source": [
    "def sentiment(text):\n",
    "    # response = requests.post('http://text-processing.com/api/sentiment/', data={'text': text})\n",
    "    response = unirest.post(\"https://japerk-text-processing.p.mashape.com/sentiment/\",\n",
    "        headers={\n",
    "            \"X-Mashape-Key\": \"EMrBfg9GO4mshgbevq2BtBZCdet3p1iXIWejsnKRDuWRNljYxI\",\n",
    "            \"Content-Type\": \"application/x-www-form-urlencoded\",\n",
    "            \"Accept\": \"application/json\"\n",
    "          },\n",
    "        params={\n",
    "            \"language\": \"english\",\n",
    "            \"text\": text\n",
    "          }\n",
    "    )\n",
    "    if response.code != 200:\n",
    "        print response.code\n",
    "        print response.body\n",
    "        print 'failed: {}'.format(text)\n",
    "        return {'sentiment': None, 'probability': None}\n",
    "    sentiment = response.body['label']\n",
    "    if sentiment == 'pos':\n",
    "        return {'sentiment': 1, 'probability': response.body['probability']}\n",
    "    elif sentiment == 'neg':\n",
    "        return {'sentiment': -1, 'probability': response.body['probability']}\n",
    "    else:\n",
    "        return {'sentiment': 0, 'probability': response.body['probability']}"
   ]
  },
  {
   "cell_type": "code",
   "execution_count": 15,
   "metadata": {
    "collapsed": false,
    "scrolled": true
   },
   "outputs": [],
   "source": [
    "def get_sentiments(movie_dict):\n",
    "    for BOM_id, movie in movie_dict.items():\n",
    "        sentiments = pd.DataFrame([sentiment(text) for text in movie['text']])\n",
    "        movie_dict[BOM_id] = pd.concat([movie, sentiments], axis=1)\n",
    "        #movie.to_csv('data/' + BOM_id, sep=';')\n",
    "        print BOM_id"
   ]
  },
  {
   "cell_type": "code",
   "execution_count": 16,
   "metadata": {
    "collapsed": true
   },
   "outputs": [],
   "source": [
    "def ouput_csv(movie_dict):\n",
    "    for BOM_id, movie in movie_dict.items():\n",
    "        movie.to_csv('data/' + BOM_id, sep=';')"
   ]
  },
  {
   "cell_type": "markdown",
   "metadata": {},
   "source": [
    "From the following result we can see that, '1.0' represents a posive tweet, '-1.0' represents a negative tweet while '0.0' represents a neutral tweet. According to the sample we collected, popular movies tend to have more positive reviews and more tweets and retweets amount as a whole.\n",
    "More detailed research and their correlation will be studied in the next section."
   ]
  },
  {
   "cell_type": "code",
   "execution_count": 17,
   "metadata": {
    "collapsed": false,
    "scrolled": false
   },
   "outputs": [
    {
     "name": "stdout",
     "output_type": "stream",
     "text": [
      "starwars7  :  Counter({0.0: 650, 1.0: 335, -1.0: 11, nan: 1, nan: 1}) total:  998\n",
      "avengers11  :  Counter({1: 777, 0: 183, -1: 39}) total:  999\n",
      "womenintrouble  :  Counter({0: 370, 1: 192, -1: 113}) total:  675\n",
      "misterlonely  :  Counter({0: 16, 1: 16, -1: 6}) total:  38\n",
      "totalrecall2012rerelease  :  Counter({-1: 635, 1: 253, 0: 111}) total:  999\n",
      "avatar  :  Counter({1: 467, 0: 287, -1: 246}) total:  1000\n",
      "jurassicpark4  :  Counter({0: 481, 1: 334, -1: 185}) total:  1000\n"
     ]
    }
   ],
   "source": [
    "for title, movie in fetched_movie.items():\n",
    "    counter = Counter(movie['sentiment'])\n",
    "    print title, \" : \", counter, 'total: ', sum(counter.values())"
   ]
  },
  {
   "cell_type": "markdown",
   "metadata": {},
   "source": [
    "## 2. Data Visualization\n",
    "\n",
    "The first step towards a successful ML model is understanding what's in the dataset. By using basic statistic metholody and data visualization, we could easily achieve that.  Since there are so many fileds in the movie dataset, throw everything together into the machinel learning blackbox is definitely not a good idea, therefore, we need to study these fields one by one to get some idea about whether they could be useful or not."
   ]
  },
  {
   "cell_type": "code",
   "execution_count": 95,
   "metadata": {
    "collapsed": true
   },
   "outputs": [],
   "source": [
    "with open('movies_tweets_combined.pkl', 'r') as picklefile:\n",
    "    movies_tweets_combined = pickle.load(picklefile)\n",
    "    \n",
    "with open('movies_after_2008_tweets.pkl', 'r') as picklefile:\n",
    "    tweets = pickle.load(picklefile)    "
   ]
  },
  {
   "cell_type": "code",
   "execution_count": 98,
   "metadata": {
    "collapsed": false
   },
   "outputs": [],
   "source": [
    "movies = pd.DataFrame(movies_scraped)\n",
    "movies.dropna(axis=0, subset=['domestic_total_gross'], inplace=True)\n",
    "movies.sort_values(by='domestic_total_gross', ascending=True, inplace=True)\n",
    "movies = movies.set_index('BOM_id')\n",
    "all_movies = movies.loc[movies_tweets_combined['name']]\n",
    "all_movies.sort_values(by='domestic_total_gross', ascending=True, inplace=True)"
   ]
  },
  {
   "cell_type": "markdown",
   "metadata": {},
   "source": [
    "### 2.1.Diversity\n",
    "The first thing we want to explore is the diversity of tweets.\n",
    "This includes:\n",
    "1. Are the tweets from a few users or widely spread users?\n",
    "2. Are the tweets from a few locations or globally?\n",
    "\n",
    "we define the diversity of users as the ratio of\n",
    "\\begin{equation*}\n",
    "\\frac{NumofUniqueUsers}{NumOfTweets}\n",
    "\\end{equation*}.\n",
    "\n",
    "Similarly, the diversity of locations as the ratio of \n",
    "\n",
    "\\begin{equation*}\n",
    "\\frac{NumofUniqueLocations}{NumOfTweets}\n",
    "\\end{equation*}.\n"
   ]
  },
  {
   "cell_type": "code",
   "execution_count": 99,
   "metadata": {
    "collapsed": false
   },
   "outputs": [
    {
     "data": {
      "image/png": "[encoded data removed]",
      "text/plain": [
       "<matplotlib.figure.Figure at 0x2a74a7d10>"
      ]
     },
     "metadata": {},
     "output_type": "display_data"
    }
   ],
   "source": [
    "def diversity_user(df):\n",
    "    return float(df['\"username'].unique().shape[0]) / df.shape[0]\n",
    "    \n",
    "def diversity_location(df):    \n",
    "    return float(df['geo'].unique().shape[0]) / df.shape[0]\n",
    "\n",
    "diversity_users = np.array([diversity_user(tweets[BOM_id]) for BOM_id in all_movies.index])\n",
    "diversity_locations = np.array([diversity_location(tweets[BOM_id]) for BOM_id in all_movies.index])\n",
    "\n",
    "# N = len(diversity_users)\n",
    "# Plot outputs\n",
    "diversity_users.sort()\n",
    "diversity_locations.sort()\n",
    "fig, ax = plt.subplots()\n",
    "ax.plot(diversity_users, 'r,', label='user diversity')\n",
    "ax.plot(diversity_locations, 'b,', label='location diversity')\n",
    "plt.xlabel('Number of movies')\n",
    "plt.ylabel('Diversity Ratio')\n",
    "plt.title(r'Diversity Exploration')\n",
    "\n",
    "legend = ax.legend(loc='center right', shadow=True)\n",
    "plt.show()"
   ]
  },
  {
   "cell_type": "markdown",
   "metadata": {},
   "source": [
    "The figure above gives us a visible understanding of our dataset:\n",
    "1. the posts for each movie are generally from a pretty widely spread user base\n",
    "2. However, the geo locations are pretty centralized. After a close investigation, it turns out for most of the tweets, there are actually no geo infomation at all. This indicates that the data quality of geo is pretty bad and we should not consider use it for training.\n",
    "\n",
    "Then we have to ask, would the tweets diversity has something to do with the box office gross of that movie?\n",
    "The following image can explain this."
   ]
  },
  {
   "cell_type": "code",
   "execution_count": 110,
   "metadata": {
    "collapsed": false
   },
   "outputs": [
    {
     "data": {
      "image/png": "[encoded data removed]",
      "text/plain": [
       "<matplotlib.figure.Figure at 0x2c2328590>"
      ]
     },
     "metadata": {},
     "output_type": "display_data"
    }
   ],
   "source": [
    "diversity_users = np.array([diversity_user(tweets[BOM_id]) for BOM_id in all_movies.index])\n",
    "plt.plot(all_movies['domestic_total_gross'], diversity_users, 'r,')\n",
    "plt.xlabel('Normalized Box Office')\n",
    "plt.ylabel('Normalized User diversity')\n",
    "plt.title(r'Correlation between box office and user diversity')\n",
    "\n",
    "plt.show()"
   ]
  },
  {
   "cell_type": "markdown",
   "metadata": {},
   "source": [
    "You can see that for those few high gross movies, there user diversities are pretty good, but just as good as the remaining. so we can hardly relate user diversity with movie gross."
   ]
  },
  {
   "cell_type": "markdown",
   "metadata": {},
   "source": [
    "### 2.2. Sparsity\n",
    "\n",
    "We notices that in the dataset, there are some othere fields that maybe useful. These fields include `retweets`, `favorites`, `mentions`, `hashtags` and of course `geo`. we want to know if these fields have something to do with the box office gross."
   ]
  },
  {
   "cell_type": "code",
   "execution_count": 108,
   "metadata": {
    "collapsed": false
   },
   "outputs": [
    {
     "data": {
      "image/png": "[encoded data removed]",
      "text/plain": [
       "<matplotlib.figure.Figure at 0x319504dd0>"
      ]
     },
     "metadata": {},
     "output_type": "display_data"
    }
   ],
   "source": [
    "def sparsity_int(s):\n",
    "    return np.sum(s != 0) / float(len(s))\n",
    "\n",
    "def sparsity_str(s):\n",
    "    return np.sum(s.apply(lambda x: type(x) != float)) / float(len(s))\n",
    "\n",
    "sparsity_retweets = np.array([sparsity_int(tweets[BOM_id]['retweets']) for BOM_id in all_movies.index])\n",
    "sparsity_favorites = np.array([sparsity_int(tweets[BOM_id]['favorites']) for BOM_id in all_movies.index])\n",
    "sparsity_mentions = np.array([sparsity_str(tweets[BOM_id]['mentions']) for BOM_id in all_movies.index])\n",
    "sparsity_hashtags = np.array([sparsity_str(tweets[BOM_id]['hashtags']) for BOM_id in all_movies.index])\n",
    "\n",
    "fig, ((ax1, ax2), (ax3, ax4)) = plt.subplots(2, 2, sharex='col', sharey='row')\n",
    "ax1.plot(sparsity_retweets, 'r,', label='retweets sparsity')\n",
    "ax1.set_title('retweets sparsity')\n",
    "ax2.plot(sparsity_favorites, 'b,', label='favorites sparsity')\n",
    "ax2.set_title('favorites sparsity')\n",
    "\n",
    "ax3.plot(sparsity_mentions, 'g,', label='mentions sparsity')\n",
    "ax3.set_title('mentions sparsity')\n",
    "\n",
    "ax4.plot(sparsity_hashtags, 'y,', label='hashtags sparsity')\n",
    "ax4.set_title('hashtags sparsity')\n",
    "\n",
    "plt.show()"
   ]
  },
  {
   "cell_type": "markdown",
   "metadata": {},
   "source": [
    "Sadly the results are pretty much the same as `geo`. Most of these fields are very sparse. and these aren't any very strong correlation between these fields and the box office gross. \n",
    "\n",
    "However, during the calculation, we found following interesting plot. it shows that the more people mentions others in their posts about centain movie, the bigger chance that movie could have more gorss. We'll see if we can levarage this in our training phase"
   ]
  },
  {
   "cell_type": "code",
   "execution_count": 111,
   "metadata": {
    "collapsed": false
   },
   "outputs": [
    {
     "data": {
      "image/png": "[encoded data removed]",
      "text/plain": [
       "<matplotlib.figure.Figure at 0x2a00d1610>"
      ]
     },
     "metadata": {},
     "output_type": "display_data"
    }
   ],
   "source": [
    "count_mentions = np.array([np.sum(tweets[BOM_id]['mentions'].apply(lambda x: type(x) != float)) for BOM_id in all_movies.index])\n",
    "plt.plot(count_mentions, 'r,')\n",
    "plt.xlabel('Number of movies')\n",
    "plt.ylabel('Number of mentions')\n",
    "plt.title(r'Relation between box office and number of metions')\n",
    "\n",
    "plt.show()\n",
    "                           "
   ]
  },
  {
   "cell_type": "markdown",
   "metadata": {},
   "source": [
    "### 2.3. Tag Cloud\n",
    "An interesting visualization is tag cloud. It's pretty popular around the social network nowadays. You probably already saw many of them. Here we could use the `pytagcloud` to easily create our own tag cloud. Let's build one for the best selling movie and one for the worst. "
   ]
  },
  {
   "cell_type": "code",
   "execution_count": 103,
   "metadata": {
    "collapsed": true
   },
   "outputs": [],
   "source": [
    "# print movies_tweets_combined.head()\n",
    "aggregated_tweets = movies_tweets_combined.set_index('name')\n",
    "all_movies = movies.loc[movies_tweets_combined['name']]"
   ]
  },
  {
   "cell_type": "code",
   "execution_count": 106,
   "metadata": {
    "collapsed": false
   },
   "outputs": [],
   "source": [
    "best_movie = all_movies.loc[all_movies['domestic_total_gross'].idxmax()]\n",
    "worst_movie = all_movies.loc[all_movies['domestic_total_gross'].idxmin()]\n",
    "\n",
    "tags = make_tags(get_tag_counts(aggregated_tweets.loc[best_movie.name].text)[:60], maxsize=120)\n",
    "create_tag_image(tags, 'best_movie.png', size=(600, 300), background=(0, 0, 0, 255), fontname='Lobster')\n",
    "\n",
    "tags = make_tags(get_tag_counts(aggregated_tweets.loc[worst_movie.name].text)[:60], maxsize=120)\n",
    "create_tag_image(tags, 'worst_movie.png', size=(600, 300), background=(0, 0, 0, 255), fontname='Lobster')"
   ]
  },
  {
   "cell_type": "markdown",
   "metadata": {},
   "source": [
    "The following two images is the tag cloud we created.\n",
    "<img src=\"best_movie.png\">\n",
    "<h4 align=\"center\">Cloud tag for best movies</h4> \n",
    "<img src=\"worst_movie.png\">\n",
    "<h4 align=\"center\">Cloud tag for worst movies</h4> \n",
    "From the above tag cloud, we could observe that :\n",
    "1. see that some common words are everywhere. These words are generally something like 'twitter', 'http', 'com', 'www' that actually belongs to the link of a tweet. \n",
    "2. Movie name is another popular tag but may actually meaningless for our training purpose\n",
    "3. There are some words like 'million', 'billion' that seems to be interesting. \n",
    "\n",
    "In the trining section, we should see if we could make use of all the observations above."
   ]
  },
  {
   "cell_type": "markdown",
   "metadata": {},
   "source": [
    "### 2.4. Sentiment\n",
    "It's hard to get meaningful data from raw tweets. However, it's intuitive to assume that box office has something to do with at least user sentiment.\n",
    "\n",
    "In the following section, we first calculate the sentiment of each tweet and then visualize it's relation againt box office."
   ]
  },
  {
   "cell_type": "code",
   "execution_count": null,
   "metadata": {
    "collapsed": false
   },
   "outputs": [],
   "source": [
    "sentiments = np.array([np.mean(tweets[BOM_id]['text'].apply(lambda x: sentiment(x)[0])) for BOM_id in all_movies.index])\n",
    "with open('sentiments.pkl', 'w') as picklefile:\n",
    "    pickle.dump(sentiments, picklefile, protocol=pickle.HIGHEST_PROTOCOL)"
   ]
  },
  {
   "cell_type": "code",
   "execution_count": 112,
   "metadata": {
    "collapsed": true
   },
   "outputs": [],
   "source": [
    "with open('sentiments.pkl', 'r') as picklefile:\n",
    "    sentiments = pickle.load(picklefile)"
   ]
  },
  {
   "cell_type": "markdown",
   "metadata": {},
   "source": [
    "From the following plot we can find out that, the movies which have highest box office do not have the highest sentiment score. It makes sense since the most 'popular' movie must have a group of people discussing it, including both positive and negative voices. "
   ]
  },
  {
   "cell_type": "code",
   "execution_count": 119,
   "metadata": {
    "collapsed": false
   },
   "outputs": [
    {
     "data": {
      "image/png": "[encoded data removed]",
      "text/plain": [
       "<matplotlib.figure.Figure at 0x2a525f850>"
      ]
     },
     "metadata": {},
     "output_type": "display_data"
    }
   ],
   "source": [
    "plt.suptitle('Sentiment vs Normalized Movie Box Office')\n",
    "plt.xlabel('Sentiment')\n",
    "plt.ylabel('Normalized Movie Box Office')\n",
    "plt.xlim(-1.1, 1.1)\n",
    "plt.plot(sentiments, all_movies['domestic_total_gross'], 'r,')\n",
    "plt.show()"
   ]
  },
  {
   "cell_type": "markdown",
   "metadata": {},
   "source": [
    "## 3. Feature Extraction\n",
    "\n",
    "After playing with small data-set on movie's box office, we are moving on to the full data set of movies. Since the whole tweets data and movie data is larger than 1 GB, it is not realistic to re-run everything we do for all the code blocks we list below. Therefore, just for convenience, we provide a quicker version for you, using [Pickle](https://docs.python.org/2/library/pickle.html) to dump all the results file which takes long to run(more than several hours), and you can simply load these files into the notebook in order to catch up with our code and save a lot of time.\n"
   ]
  },
  {
   "cell_type": "code",
   "execution_count": 19,
   "metadata": {
    "collapsed": false
   },
   "outputs": [],
   "source": [
    "with open('movies_clean_tweets_combined.pkl', 'r') as picklefile:\n",
    "     movies_clean_tweets_combined = pickle.load(picklefile)\n",
    "with open('movies_clean_features.pkl', 'r') as picklefile:\n",
    "    clean_features = pickle.load(picklefile)\n",
    "with open('movies_after_2008_tweets.pkl', 'r') as picklefile:\n",
    "    movies_after_2008 = pickle.load(picklefile)\n",
    "with open('movies_features.pkl', 'r') as picklefile:\n",
    "    ori_features = pickle.load(picklefile)\n"
   ]
  },
  {
   "cell_type": "markdown",
   "metadata": {},
   "source": [
    "We are now try to extract features from the raw text of tweets. The most simple feature would be just the word count of each tweet. Two sophisticated features for text documents would be the token count matrix, which counts the frequency of each word in each tweet, and the [frequency–inverse document frequency](https://en.wikipedia.org/wiki/Tf%E2%80%93idf) (IF-TDF) matrix, is a numerical statistic that is intended to reflect how important a word is to a document in a collection or corpus. Also, as mentioned above, the sentiment value of each tweet may also be a useful feature.\n",
    "\n",
    "Notice that we have about 1000 tweets per movie, which means the feature space of each movie will likely be very large while domestic gross income is just one value. To prevent overfitting, we need to reduce the feature space. \n",
    "\n",
    "### 3.1. General Idea: Extract features from raw text but also try to reduce feature space.\n",
    "1. Tokenize and lemmatize each tweet.\n",
    "2. Reduce feature space.\n",
    "3. Create word count, DF-IDF, sentiment, and length features.\n",
    "\n",
    "Here are a few method we have thought about.\n",
    "\n",
    "### 3.2. Pre feature extraction: \n",
    "1. create a parse tree for each tweet and only keep nouns, verbs and adjectives, which seems to contain most of the information of a tweet. However, this method is too computational expansive as we have tried for hours and got no results.\n",
    "2. just pick the top $n$ of the most frequent words in the whole corpus and extract features only from those words.\n",
    "3. combine all tweets corresponding to each movie into a single long text.\n",
    "\n",
    "### 3.3. Post  feature extraction:\n",
    "1. Use dimension reduction methods on the feature matrix. A common method used in natural language processing is [latent semantics analysis](https://en.wikipedia.org/wiki/Latent_semantic_analysis)(LSA) which is basically the used of [singular value decomposition](https://en.wikipedia.org/wiki/Singular_value_decomposition) on the token count matrix. We tried this with the feature matrix from the original tweets, but with 1000 components produced the ration of variance explained is only 0.02.\n",
    "\n",
    "### 3.4. On response variable:\n",
    "1. Add Gaussian noise to domestic gross income to create more data points for each movie. This method was come up when we planned to analyze only on 50 ~ 100 movies, but now we have 5000+ data points, so it seems unnecessay.\n",
    "\n",
    "After several trials, the final choice is combine all tweets of each movie and pick the top $n$ words in the whole corpus and extract features."
   ]
  },
  {
   "cell_type": "code",
   "execution_count": 92,
   "metadata": {
    "collapsed": false
   },
   "outputs": [],
   "source": [
    "directories = glob('data2/*')"
   ]
  },
  {
   "cell_type": "code",
   "execution_count": null,
   "metadata": {
    "collapsed": false
   },
   "outputs": [],
   "source": [
    "movies_after_2008 = {}\n",
    "for directory in directories:\n",
    "    try:\n",
    "        movies_after_2008[directory.rsplit('/',1)[1]] = pd.read_csv(directory, sep='\",\"', engine='python', quoting=csv.QUOTE_ALL)\n",
    "    except:\n",
    "        print \"something wrong with\"+directory\n",
    "with open('movies_after_2008_tweets.pkl', 'w') as picklefile:\n",
    "    pickle.dump(movies_after_2008, picklefile, protocol=pickle.HIGHEST_PROTOCOL)"
   ]
  },
  {
   "cell_type": "code",
   "execution_count": 21,
   "metadata": {
    "collapsed": true
   },
   "outputs": [],
   "source": [
    "def clean(text):\n",
    "    _text = text.lower()\n",
    "    for char in string.punctuation:\n",
    "        _text = _text.replace(char, \" \")\n",
    "    return _text\n",
    "\n",
    "# create features for the 'text' column in df\n",
    "def get_features(df):\n",
    "#     trees = [parsetree(clean(text), lemmata=True)[0] for text in df['text']]\n",
    "#     processed_tweets = df.assign(text=[\n",
    "#         [word.lemma for word in tree if word.tag.startswith(('JJ', 'NN', 'VB', '!'))] # only keep verbs, noun, adjective\n",
    "#         for tree in trees\n",
    "#     ])\n",
    "    processed_tweets = df\n",
    "    rare_words = get_rare_words(processed_tweets) # get rare words\n",
    "    lengths = [len(tweet) for tweet in processed_tweets['text']] # get length of words remaining\n",
    "    sentiments = [sentiment(tweet)[0] for tweet in processed_tweets['text']] # get sentiment -1.0 ~ 1.0\n",
    "    # create TfidfVectorizer, CountVectorizer and corresponding feature matrix\n",
    "    tfidf, X_tfidf, count, X_count = create_features(processed_tweets, rare_words) \n",
    "    return tfidf, X_tfidf, count, X_count, lengths, sentiments\n",
    "\n",
    "# combine multiple data frames into one by combining all texts in a data frame into one string\n",
    "def combine_df(dfs):\n",
    "    X = pd.DataFrame()\n",
    "    text = []\n",
    "    names = []\n",
    "    for df_key in dfs:\n",
    "        text.append(clean(' '.join(dfs[df_key]['text'])))\n",
    "        names.append(df_key)\n",
    "    X['name'] = names\n",
    "    return X.assign(text=text)\n",
    "\n",
    "def get_topn_words(processed_tweets,n):\n",
    "    counter = Counter()\n",
    "    for _, row in processed_tweets.iterrows():\n",
    "        counter.update(row['text'])\n",
    "    return counter"
   ]
  },
  {
   "cell_type": "code",
   "execution_count": null,
   "metadata": {
    "collapsed": false
   },
   "outputs": [],
   "source": [
    "combined_df = combine_df(movies_after_2008)\n",
    "combined_df.to_pickle(\"movies_tweets_combined.pkl\")\n",
    "tknzr = TweetTokenizer()\n",
    "counter = Counter()\n",
    "tmp = []\n",
    "for _,row in combined_df.iterrows():\n",
    "    tmp.append([ word for word in tknzr.tokenize(row['text']) if word not in stopwords.words('english')])\n",
    "combined_df['text'] = tmp\n",
    "with open('movies_clean_tweets_combined.pkl', 'w') as picklefile:\n",
    "    pickle.dump(combined_df, picklefile)\n"
   ]
  },
  {
   "cell_type": "code",
   "execution_count": null,
   "metadata": {
    "collapsed": false
   },
   "outputs": [],
   "source": [
    "topn_words =  get_topn_words(movies_clean_tweets_combined,500)\n",
    "clean_features = get_features(movies_clean_tweets_combined)\n",
    "with open('movies_clean_features.pkl', 'w') as picklefile:\n",
    "    pickle.dump(clean_features, picklefile)\n"
   ]
  },
  {
   "cell_type": "code",
   "execution_count": 22,
   "metadata": {
    "collapsed": false
   },
   "outputs": [
    {
     "name": "stdout",
     "output_type": "stream",
     "text": [
      "(5278, 479)\n",
      "(5278, 479)\n"
     ]
    }
   ],
   "source": [
    "tfidf = clean_features[1].todense()\n",
    "count = clean_features[3].todense()\n",
    "ori_length = ori_features[4]\n",
    "ori_sentiments = ori_features[5]\n",
    "\n",
    "clean_length = clean_features[4]\n",
    "clean_sentiments = clean_features[5]\n",
    "\n",
    "max_ori_length = max(ori_length)*1.0\n",
    "ori_normal_length = [item/max_ori_length for item in ori_length]\n",
    "max_clean_length = max(clean_length)*1.0\n",
    "clean_normal_length = [item/max_clean_length for item in clean_length]\n",
    "\n",
    "feature_matrix = np.append(tfidf, np.array(ori_normal_length).reshape(5278,1), 1)\n",
    "feature_matrix = np.append(feature_matrix, np.array(ori_sentiments).reshape(5278,1), 1)\n",
    "feature_matrix = np.append(feature_matrix, np.array(clean_normal_length).reshape(5278,1), 1)\n",
    "feature_matrix = np.append(feature_matrix, np.array(clean_sentiments).reshape(5278,1), 1)\n",
    "\n",
    "feature_matrix1 = np.append(count, np.array(ori_normal_length).reshape(5278,1), 1)\n",
    "feature_matrix1 = np.append(feature_matrix1, np.array(ori_sentiments).reshape(5278,1), 1)\n",
    "feature_matrix1 = np.append(feature_matrix1, np.array(clean_normal_length).reshape(5278,1), 1)\n",
    "feature_matrix1 = np.append(feature_matrix1, np.array(clean_sentiments).reshape(5278,1), 1)\n",
    "\n",
    "print feature_matrix.shape\n",
    "print feature_matrix1.shape"
   ]
  },
  {
   "cell_type": "markdown",
   "metadata": {},
   "source": [
    "## 4. Prediction\n",
    "\n",
    "### 4.1.  Value Prediction\n",
    "  For the machine learning training&predicting session, we first regard the problem as a real-value prediction problem. Given the training data size and formoat, we decide to first use Linear regression for trial. The advantage of using linear regression are basically these two:\n",
    "  1. stable with optimized solution\n",
    "  2. fast to calculate , easy to implement and run\n",
    "  \n",
    "It turns out that the performance of linear regression method is very acceprtable. From the code results below (in the final blcok), we can see that when define the \"Relative Estimate Error\" as :\n",
    "\\begin{equation*}\n",
    "\\frac{|RealBoxOffice-PredictBoxOffice|}{RealBoxOffice}\n",
    "\\end{equation*}.\n",
    "\n",
    "Our linear regression model gives 0.127 relative error on average.\n"
   ]
  },
  {
   "cell_type": "markdown",
   "metadata": {},
   "source": [
    "### 4.2 Classification Predition"
   ]
  },
  {
   "cell_type": "code",
   "execution_count": null,
   "metadata": {
    "collapsed": false
   },
   "outputs": [],
   "source": [
    "with open('movies_after_2008_tweets.pkl', 'r') as picklefile:\n",
    "    movies_after_2008 = pickle.load(picklefile)"
   ]
  },
  {
   "cell_type": "markdown",
   "metadata": {},
   "source": [
    "Most of the time, prediction for precise box office number is not that useful in the real world. Promotor, advertiser or customer care more about a movie's box office's number of scale. For example, a movie A which has about 100,000 dollar box office is regarded as 'different' to a movie B which has about 100,000,000 dollar box office. But how do we classify box office which is a continuous value into separate discrete classes?\n",
    "\n",
    "We take log function on each box office value to emphasize on scale of number only, by narrowing down the scale number, we try to find the nature gap between each class which can be regarded as an acceptable reason for classification.\n",
    "\n",
    "From the plot below we can see that when dividing the whole movie set into 20 subgroups, the boundary is still not very clear. When dividing in to 10 sub-groups, there is a nature gap between group 1 to 5 and group 6 to 10. If we keep decreasing the number of group, the natural gap between each group becomes more and more clear.\n"
   ]
  },
  {
   "cell_type": "code",
   "execution_count": 23,
   "metadata": {
    "collapsed": false
   },
   "outputs": [
    {
     "name": "stdout",
     "output_type": "stream",
     "text": [
      "5278\n",
      "[  5.14900000e+03   5.50526700e+06   5.94780000e+04   6.19796800e+07\n",
      "   4.97000000e+03   1.07352000e+05   1.23960000e+04   4.94940000e+04\n",
      "   2.86639000e+05   2.79558000e+05]\n"
     ]
    }
   ],
   "source": [
    "box_office =[]\n",
    "for name in movies_clean_tweets_combined['name']:\n",
    "    box_office.append(new_movies.loc[new_movies['BOM_id'] == name]['domestic_total_gross'].iloc[0])\n",
    "box_office = np.array(box_office)\n",
    "print len(box_office)\n",
    "print box_office[:10]"
   ]
  },
  {
   "cell_type": "code",
   "execution_count": 82,
   "metadata": {
    "collapsed": false
   },
   "outputs": [
    {
     "data": {
      "image/png": "[encoded data removed]",
      "text/plain": [
       "<matplotlib.figure.Figure at 0x12da55ed0>"
      ]
     },
     "metadata": {},
     "output_type": "display_data"
    },
    {
     "name": "stdout",
     "output_type": "stream",
     "text": [
      "[  8.  15.  10. ...,  10.  17.   9.]\n"
     ]
    }
   ],
   "source": [
    "%matplotlib inline\n",
    "plt.rcParams['figure.figsize'] = (16, 6)\n",
    "\n",
    "box_office_log = np.trunc(np.log(box_office))\n",
    "box_office_log_2 = np.trunc(np.log(box_office)/2)\n",
    "box_office_log_4 = np.trunc(np.log(box_office)/4)\n",
    "box_office_log_8 = np.trunc(np.log(box_office)/8)\n",
    "\n",
    "plt.hist(box_office_log)\n",
    "plt.hist(box_office_log_2)\n",
    "plt.hist(box_office_log_4)\n",
    "plt.hist(box_office_log_8)\n",
    "plt.xlabel('Box Office Log E')\n",
    "plt.ylabel('Number of Movies')\n",
    "plt.title(r'Try to Find Nature Gap of Grouping')\n",
    "plt.grid(True)\n",
    "legend = plt.legend(loc='upper right', shadow=True)\n",
    "\n",
    "plt.show()\n",
    "print box_office_log"
   ]
  },
  {
   "cell_type": "code",
   "execution_count": 35,
   "metadata": {
    "collapsed": false
   },
   "outputs": [
    {
     "name": "stdout",
     "output_type": "stream",
     "text": [
      "20.0\n",
      "10.0\n",
      "5.0\n",
      "2.0\n"
     ]
    }
   ],
   "source": [
    "print max(box_office_log)\n",
    "print max(box_office_log_2)\n",
    "print max(box_office_log_4)\n",
    "print max(box_office_log_8)"
   ]
  },
  {
   "cell_type": "markdown",
   "metadata": {},
   "source": [
    "This conclusion can also be verified by the following machine learning session: \n",
    "\n",
    "We tried four different models for training:\n",
    "1. Linear Regression\n",
    "2. Logistic Regression\n",
    "3. Artificial Neural Network\n",
    "4. Gradient Boosting Classifier\n",
    "\n",
    "By split the data into training (5000 samples) and testing (200 samples). For each method, the validation accuracy becomes higher when better classification label is chosen using method mentioned above. With the best method, we can achieve about 90% accuracy for box office prediction."
   ]
  },
  {
   "cell_type": "code",
   "execution_count": 115,
   "metadata": {
    "collapsed": false
   },
   "outputs": [
    {
     "name": "stdout",
     "output_type": "stream",
     "text": [
      "=================LINEAR REGRESSION================\n",
      "Relative Estimate Error Ratio: 0.127022445872,in 0.323698997498 seconds\n",
      "\n",
      "======LOGESTIC REGRESSION CLASSIFICATION==========\n",
      "Validation accuracy USING 20 GROUP: 0.21 in 13.2697110176 seconds\n",
      "Validation accuracy USING 10 GROUP: 0.355 in 3.26784896851 seconds\n",
      "Validation accuracy USING 5 GROUP: 0.63 in 4.05537199974 seconds\n",
      "Validation accuracy USING 3 GROUP: 0.85 in 3.1152009964 seconds\n",
      "\n",
      "=========ARTIFICIAL NEURAL NETWORK=============\n"
     ]
    },
    {
     "name": "stderr",
     "output_type": "stream",
     "text": [
      "/Users/weijian/anaconda2/lib/python2.7/site-packages/ipykernel/__main__.py:23: DeprecationWarning: using a non-integer number instead of an integer will result in an error in the future\n",
      "/Users/weijian/anaconda2/lib/python2.7/site-packages/ipykernel/__main__.py:25: DeprecationWarning: using a non-integer number instead of an integer will result in an error in the future\n"
     ]
    },
    {
     "name": "stdout",
     "output_type": "stream",
     "text": [
      "Validation accuracy USING 20 GROUP: 0.155 in 43.8408131599 seconds\n",
      "Validation accuracy USING 10 GROUP: 0.29 in 38.7547240257 seconds\n",
      "Validation accuracy USING 5 GROUP: 0.51 in 38.357665062 seconds\n",
      "Validation accuracy USING 3 GROUP: 0.795 in 37.7205359936 seconds\n",
      "\n",
      "========GradientBoostingClassifier============\n",
      "Validation accuracy USING 20 GROUP: 0.22 in 2654.17671299 seconds\n",
      "Validation accuracy USING 10 GROUP: 0.42 in 1485.96691394 seconds\n",
      "Validation accuracy USING 5 GROUP: 0.725 in 800.284039974 seconds\n",
      "Validation accuracy USING 3 GROUP: 0.91 in 486.070210218 seconds\n"
     ]
    }
   ],
   "source": [
    "from sklearn import linear_model\n",
    "from keras.models import Sequential\n",
    "from keras.layers.core import Flatten, Dense, Dropout\n",
    "from keras.layers.convolutional import Convolution2D, MaxPooling2D, ZeroPadding2D\n",
    "from keras.optimizers import SGD\n",
    "from keras.layers.core import Activation, Dense\n",
    "from sklearn.ensemble import GradientBoostingClassifier\n",
    "import time\n",
    "\n",
    "def linear(X, y, X_te):\n",
    "    model = linear_model.LinearRegression()\n",
    "    model.fit(X,y)\n",
    "    return model.predict(X_te)\n",
    "\n",
    "def logistic(X, y, X_te, c):\n",
    "    model = linear_model.LogisticRegression(C=c)\n",
    "    model.fit(X,y)\n",
    "    return model.predict(X_te)\n",
    "\n",
    "def ann(X, y, X_te):\n",
    "    setY = set(y)\n",
    "    type_num = max(setY)+1\n",
    "    y_train = np.zeros([len(y),type_num])\n",
    "    for i,item in enumerate(y):\n",
    "        y_train[i][item] = 1\n",
    "    model = Sequential()\n",
    "    model.add(Dense(512, input_dim=479, init=\"uniform\",activation=\"relu\"))\n",
    "    model.add(Dense(512, init=\"uniform\", activation=\"sigmoid\"))\n",
    "    model.add(Dense(type_num))\n",
    "    model.add(Activation(\"softmax\"))  \n",
    "    sgd = SGD(lr=0.003)\n",
    "    model.compile(loss=\"binary_crossentropy\", optimizer=sgd,metrics=[\"accuracy\"])\n",
    "    model.fit(X, y_train, nb_epoch=15, batch_size=5,verbose = 0)\n",
    "    predictions = model.predict(X_te)\n",
    "    # round predictions\n",
    "    rounded = [np.argmax(item) for item in predictions]\n",
    "    return rounded\n",
    "\n",
    "def gbdt(X_tr, y_tr, X_eval, y_eval):\n",
    "    params = {'n_estimators': 1200, 'max_depth': 3, 'subsample': 0.5,\n",
    "              'learning_rate': 0.01, 'min_samples_leaf': 1, 'random_state': 3}\n",
    "    clf = GradientBoostingClassifier(**params)\n",
    "    clf.fit(X_tr, y_tr)\n",
    "    acc = clf.score(X_eval, y_eval)\n",
    "    return acc\n",
    "\n",
    "\n",
    "print \"=================LINEAR REGRESSION================\"\n",
    "start = time.time()\n",
    "y_p = linear(feature_matrix1[:5000], box_office[:5000], feature_matrix1[-200:])\n",
    "end = time.time()\n",
    "print \"Relative Estimate Error Ratio: {},in {} seconds\".format(np.mean(np.abs(y_p-box_office[-200:])/y_p), end-start)\n",
    "print \n",
    "print \"======LOGISTIC REGRESSION CLASSIFICATION==========\"\n",
    "\n",
    "start = time.time()\n",
    "y_p = logistic(feature_matrix[:5000], box_office_log[:5000], feature_matrix[-200:],50)\n",
    "end = time.time()\n",
    "print \"Validation accuracy USING 20 GROUP: {} in {} seconds\".format(np.mean(y_p==box_office_log[-200:]), end-start)\n",
    "\n",
    "start = time.time()\n",
    "y_p = logistic(feature_matrix[:5000], box_office_log_2[:5000], feature_matrix[-200:],2)\n",
    "end = time.time()\n",
    "print \"Validation accuracy USING 10 GROUP: {} in {} seconds\".format(np.mean(y_p==box_office_log_2[-200:]), end-start)\n",
    "\n",
    "start = time.time()\n",
    "y_p = logistic(feature_matrix[:5000], box_office_log_4[:5000], feature_matrix[-200:],50)\n",
    "end = time.time()\n",
    "print \"Validation accuracy USING 5 GROUP: {} in {} seconds\".format(np.mean(y_p==box_office_log_4[-200:]), end-start)\n",
    "\n",
    "start = time.time()\n",
    "y_p = logistic(feature_matrix[:5000], box_office_log_8[:5000], feature_matrix[-200:],100)\n",
    "end = time.time()\n",
    "print \"Validation accuracy USING 3 GROUP: {} in {} seconds\".format(np.mean(y_p==box_office_log_8[-200:]), end-start)\n",
    "print \n",
    "\n",
    "print \"=========ARTIFICIAL NEURAL NETWORK=============\"\n",
    "\n",
    "start = time.time()\n",
    "y_p = ann(feature_matrix[:5000], box_office_log[:5000], feature_matrix[-200:])\n",
    "end = time.time()\n",
    "print \"Validation accuracy USING 20 GROUP: {} in {} seconds\".format(np.mean(y_p==box_office_log[-200:]), end-start)\n",
    "\n",
    "start = time.time()\n",
    "y_p = ann(feature_matrix[:5000], box_office_log_2[:5000], feature_matrix[-200:])\n",
    "end = time.time()\n",
    "print \"Validation accuracy USING 10 GROUP: {} in {} seconds\".format(np.mean(y_p==box_office_log_2[-200:]), end-start)\n",
    "\n",
    "start = time.time()\n",
    "y_p = ann(feature_matrix[:5000], box_office_log_4[:5000], feature_matrix[-200:])\n",
    "end = time.time()\n",
    "print \"Validation accuracy USING 5 GROUP: {} in {} seconds\".format(np.mean(y_p==box_office_log_4[-200:]), end-start)\n",
    "\n",
    "start = time.time()\n",
    "y_p = ann(feature_matrix[:5000], box_office_log_8[:5000], feature_matrix[-200:])\n",
    "end = time.time()\n",
    "print \"Validation accuracy USING 3 GROUP: {} in {} seconds\".format(np.mean(y_p==box_office_log_8[-200:]), end-start)\n",
    "print\n",
    "\n",
    "print \"========GradientBoostingClassifier============\"\n",
    "start = time.time()\n",
    "acc = gbdt(feature_matrix[:5000], box_office_log[:5000], feature_matrix[-200:],box_office_log[-200:])\n",
    "end = time.time()\n",
    "print \"Validation accuracy USING 20 GROUP: {} in {} seconds\".format(acc, end-start)\n",
    "\n",
    "start = time.time()\n",
    "acc = gbdt(feature_matrix[:5000], box_office_log_2[:5000], feature_matrix[-200:],box_office_log_2[-200:])\n",
    "end = time.time()\n",
    "print \"Validation accuracy USING 10 GROUP: {} in {} seconds\".format(acc, end-start)\n",
    "\n",
    "start = time.time()\n",
    "acc = gbdt(feature_matrix[:5000], box_office_log_4[:5000], feature_matrix[-200:],box_office_log_4[-200:])\n",
    "end = time.time()\n",
    "print \"Validation accuracy USING 5 GROUP: {} in {} seconds\".format(acc, end-start)\n",
    "\n",
    "start = time.time()\n",
    "acc = gbdt(feature_matrix[:5000], box_office_log_8[:5000], feature_matrix[-200:],box_office_log_8[-200:])\n",
    "end = time.time()\n",
    "print \"Validation accuracy USING 3 GROUP: {} in {} seconds\".format(acc, end-start)\n"
   ]
  },
  {
   "cell_type": "markdown",
   "metadata": {
    "collapsed": false
   },
   "source": [
    "## 5. Conclusion\n",
    "   During this project, we tried to discover the correlation between tweets and movie's box office. It turned out that this correlation does exist and can be used for movie industry or fans for marketing research and box office prediction. In the future, we want to dig into a more specific vertical movies' market, for example, to do geo-location based, audience wealth level based or movie type based research to give more precise results.\n"
   ]
  },
  {
   "cell_type": "markdown",
   "metadata": {
    "collapsed": true
   },
   "source": [
    "## 6. References\n",
    "Asur, Sitaram, and Bernardo A. Huberman. \"Predicting the future with social media.\" Web Intelligence and Intelligent Agent Technology (WI-IAT), 2010 IEEE/WIC/ACM International Conference on. Vol. 1. IEEE, 2010.\n",
    "\n",
    "Bermingham, Adam, and Alan F. Smeaton. \"On using Twitter to monitor political sentiment and predict election results.\" (2011).\n",
    "\n",
    "Bollen, Johan, Huina Mao, and Xiaojun Zeng. \"Twitter mood predicts the stock market.\" Journal of Computational Science 2.1 (2011): 1-8.\n",
    "\n",
    "De Vries, Lisette, Sonja Gensler, and Peter SH Leeflang. \"Popularity of brand posts on brand fan pages: An investigation of the effects of social media marketing.\" Journal of Interactive Marketing 26.2 (2012): 83-91.\n",
    "\n",
    "Oghina, Andrei, et al. \"Predicting imdb movie ratings using social media.\" European Conference on Information Retrieval. Springer Berlin Heidelberg, 2012."
   ]
  }
 ],
 "metadata": {
  "anaconda-cloud": {},
  "kernelspec": {
   "display_name": "Python [Root]",
   "language": "python",
   "name": "Python [Root]"
  },
  "language_info": {
   "codemirror_mode": {
    "name": "ipython",
    "version": 2
   },
   "file_extension": ".py",
   "mimetype": "text/x-python",
   "name": "python",
   "nbconvert_exporter": "python",
   "pygments_lexer": "ipython2",
   "version": "2.7.12"
  }
 },
 "nbformat": 4,
 "nbformat_minor": 0
}
