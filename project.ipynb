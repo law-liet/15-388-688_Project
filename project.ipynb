{
 "cells": [
  {
   "cell_type": "markdown",
   "metadata": {},
   "source": [
    "# Midterm Report \n",
    "\n",
    "\n",
    "\n",
    "## Background\n",
    "\n",
    "Social media has become a new way of communication. It has revolutionized the relationship between users and digital products. The social media users are not only consumers, they are also content (comments) creators and spreaders. A massive amount of data has been generated directly by users and this allows us to measure people’s attention and attitude regarding a product in large scale. \n",
    "\n",
    "However, can the social media activities reflect our behaviors in real life?  Previous research showed that the tweets in a critical time period can successfully predict real world outcomes. A study on movie showed that both tweet - rate (number of tweets per hour) and sentiments could predict the box-office revenue (Asur, 2010) and the rating (Oghina,2012) of a particular movie. Also, the overall attitude of tweets has high correlations with people’s behavior in the stock market (Bollen,2011), political elections (Bermingham,2011), and etc.,\n",
    "\n",
    "However, it may go beyond our expectations in the ways how these social media indicators are correlated with the real world outcomes. For example, products (De Vries,2012) and movies (e.g., [Tiny Times](https://en.wikipedia.org/wiki/Tiny_Times)) that have received negative comments were even more popular than those who received relatively higher ratings in social media. \n",
    "In this project, we are interested in how social media is related with users’ behavior in recreational activities. Also, we are curious about how the accuracy affected by factors such as the popularity of the social media and the diversity of information sources. \n",
    "\n",
    "Our hypothesis are:\n",
    "- Both attention and attitude can predict the outcomes. Polarity will cause more attention \n",
    "- The popularity of social media and the diversity of information sources positively related with the accuracy.\n",
    "\n",
    "In this project, we use movie as our subject area because:\n",
    "- This subject area has research basis, which is both a good foundation of our project and a credible resource for comparing the project results.\n",
    "- The real world outcomes (purchase behavior) can be easily measured by the box-office revenue.\n",
    "- The “quality” of a product can be indicated by the IMDb score.\n",
    "\n",
    "\n"
   ]
  },
  {
   "cell_type": "markdown",
   "metadata": {},
   "source": [
    "## Data-preparation & analysis\n",
    "\n",
    "### 1. Movie Box Office Data  \n",
    "   \n",
    "   In the data preparation section, the first step of the project is to grasp movie data and twitter data separately:\n",
    "For the movie data part, the main information we care about are movie’s name, total domestic box office amount (we narrow down the research area for only focus on North America region), movie’s release date, genre, and distributors. The first two features are the main identifier for the movie marked as our label. The third feature (release date) is used for targeting a specific time range for tweets search, and the rest of the features can be used for movie classification since we assume that correlations between twitter and a movie’s box office may also depends on movie’s type.\n",
    "\n",
    "During the searching for box office data, we found that most of the movie box office information is either not complete or not freely available. There is no public free API available for large scale movie box office query. Therefore, we decide to write web scrapper by ourselves to collect box office data from [Boxoffice-Mojo](www.boxofficemojo.com). Boxoffice-Mojo is a website that tracks box office for more than 16,000 movies, basically, we use [Beautiful Soup](https://www.crummy.com/software/BeautifulSoup/) and python [urllib2](https://docs.python.org/2/library/urllib2.html) library  to do web data scrapping and saved the data into ‘movies_data.pkl’ file. \n",
    "\n",
    "In the following code, movie data is exported and sorted by its domestic total gross in decreasing order. The top 5 ranking movies are shown below:\n"
   ]
  },
  {
   "cell_type": "code",
   "execution_count": 1,
   "metadata": {
    "collapsed": false,
    "scrolled": true
   },
   "outputs": [
    {
     "name": "stderr",
     "output_type": "stream",
     "text": [
      "/Users/weijian/anaconda2/lib/python2.7/site-packages/matplotlib/font_manager.py:273: UserWarning: Matplotlib is building the font cache using fc-list. This may take a moment.\n",
      "  warnings.warn('Matplotlib is building the font cache using fc-list. This may take a moment.')\n"
     ]
    }
   ],
   "source": [
    "import pickle\n",
    "import numpy as np\n",
    "import pandas as pd\n",
    "import datetime\n",
    "import unirest\n",
    "import nltk\n",
    "import sklearn\n",
    "import string\n",
    "import csv\n",
    "from sklearn.decomposition import TruncatedSVD\n",
    "from pattern.en import sentiment, parsetree\n",
    "from glob import glob\n",
    "from collections import Counter\n",
    "from get_tweets import get_tweets\n",
    "from text_classification import process_all, get_rare_words, create_features\n",
    "from nltk.tokenize import TweetTokenizer\n",
    "from nltk.corpus import stopwords\n",
    "import matplotlib\n",
    "matplotlib.use(\"svg\")\n",
    "import matplotlib.pyplot as plt\n",
    "plt.style.use(\"ggplot\")\n"
   ]
  },
  {
   "cell_type": "code",
   "execution_count": 3,
   "metadata": {
    "collapsed": false,
    "scrolled": true
   },
   "outputs": [],
   "source": [
    "#load movie data from scrapper file\n",
    "with open('movies_data.pkl', 'r') as picklefile:\n",
    "    movies_scraped, movies_skipped = pickle.load(picklefile)"
   ]
  },
  {
   "cell_type": "code",
   "execution_count": 8,
   "metadata": {
    "collapsed": false,
    "scrolled": true
   },
   "outputs": [
    {
     "name": "stdout",
     "output_type": "stream",
     "text": [
      "14682\n"
     ]
    }
   ],
   "source": [
    "movies = pd.DataFrame(movies_scraped)\n",
    "movies.dropna(axis=0, subset=['domestic_total_gross'], inplace=True)\n",
    "movies.sort_values(by='domestic_total_gross', ascending=False, inplace=True)\n",
    "movies.sort_values(by='release_date', ascending=False, inplace=True)\n",
    "print len(movies)"
   ]
  },
  {
   "cell_type": "code",
   "execution_count": 10,
   "metadata": {
    "collapsed": false,
    "scrolled": true
   },
   "outputs": [
    {
     "name": "stdout",
     "output_type": "stream",
     "text": [
      "5642\n",
      "\n",
      "BOM_id                          object\n",
      "actors                          object\n",
      "budget                         float64\n",
      "director                        object\n",
      "distributor                     object\n",
      "domestic_total_gross           float64\n",
      "genre                           object\n",
      "movie_title                     object\n",
      "opening_income_wend            float64\n",
      "opening_theaters               float64\n",
      "rating                          object\n",
      "release_date            datetime64[ns]\n",
      "runtime_mins                   float64\n",
      "dtype: object\n"
     ]
    }
   ],
   "source": [
    "#get new movies after 20008\n",
    "new_movies = movies.loc[movies['release_date'] >= np.datetime64('2008-01-01')]\n",
    "print len(new_movies)\n",
    "print \n",
    "print movies.dtypes"
   ]
  },
  {
   "cell_type": "markdown",
   "metadata": {},
   "source": [
    "We can see that 14,682 movies’ information is dumped from the website and we checked our data by sorting their domestic total box office in descending order. We can see that the top 5 movies are:\n",
    "* Star War VII        : 936,662,225 \n",
    "* Avatar              : 749,766,139\n",
    "* Jurassic Park IV    : 652,270,625\n",
    "* Avengers II         : 623,357,910\n",
    "* Titanic             : 600,788,188\n",
    "\n",
    "It is already verified by other resource which means our data is reliable.\n",
    "Here is the genre information for the collected movies and their counting distribution:"
   ]
  },
  {
   "cell_type": "code",
   "execution_count": 11,
   "metadata": {
    "collapsed": false,
    "scrolled": false
   },
   "outputs": [
    {
     "name": "stdout",
     "output_type": "stream",
     "text": [
      "[u'Drama' u'Animation' u'Documentary' u'Thriller' u'Action / Adventure'\n",
      " u'Comedy' u'Action Drama' u'Crime Drama' u'Fantasy' u'Horror' u'Western'\n",
      " u'Drama / Thriller' u'Western Comedy' u'Romantic Comedy' u'Horror Comedy'\n",
      " u'Comedy / Drama' u'Action' u'Concert' u'Horror Thriller' u'Sports'\n",
      " u'Action / Crime' u'Crime Thriller' u'Romance' u'Sports Drama' u'Family'\n",
      " u'Adventure Comedy' u'Sci-Fi Thriller' u'Action Comedy' u'Historical Epic'\n",
      " u'War Drama' u'Romantic Thriller' u'Action Fantasy' u'Sci-Fi'\n",
      " u'Sci-Fi Adventure' u'Sci-Fi Action' u'Action Thriller' u'Adventure'\n",
      " u'Family Adventure' u'Comedy Thriller' u'Fantasy Comedy' u'Action Horror'\n",
      " u'Foreign' u'Musical' u'Music Drama' u'Historical Drama' u'Fantasy Drama'\n",
      " u'Unknown' u'Sci-Fi Comedy' u'Family Comedy' u'Sci-Fi Fantasy' u'Crime'\n",
      " u'Period Drama' u'Crime Comedy' u'Foreign / Action' u'Foreign / Horror'\n",
      " u'War' u'Sci-Fi Horror' u'IMAX' u'Period Action' u'Sports Comedy'\n",
      " u'Period Adventure' u'Period Comedy' u'War Romance' u'Romantic Adventure']\n",
      "Documentary        987\n",
      "Drama              935\n",
      "Foreign            883\n",
      "Comedy             547\n",
      "Comedy / Drama     234\n",
      "Thriller           211\n",
      "Animation          191\n",
      "Horror             171\n",
      "Romantic Comedy    112\n",
      "Action             100\n",
      "Name: genre, dtype: int64\n"
     ]
    }
   ],
   "source": [
    "print new_movies['genre'].unique()\n",
    "print new_movies['genre'].value_counts().head(10)"
   ]
  },
  {
   "cell_type": "markdown",
   "metadata": {},
   "source": [
    "### 2. Twitter comments data\n",
    "  \n",
    "  When collecting twitter data, we also met some challenges. Our task is to collect tweets related to a specific film during the time period of the film release. By ‘related to a film’, we use keyword and hashtag search within one tweet. If one tweet contains a film’s name or hash-tag, we regard this tweet as related to this film. Unfortunately, Twitter [streaming API](https://dev.twitter.com/streaming/overview) only allows us to fetch the latest tweets within a week when given keywords and hashtag. Therefore, most of the films’ related tweets which posted earlier than a week cannot be fetched. We also tried several reliable open-sourced twitter data fetching library, since most of them are based on Twitter streaming API so they cannot satisfy our requirement. One of a not-very-popular library is found [here](https://github.com/Jefferson-Henrique/GetOldTweets-python). The basic idea is that when you enter on Twitter page a scroll loader starts, if you scroll down you start to get more and more tweets, all through calls to a JSON provider. After mimic we get the best advantage of Twitter Search on browsers, it can search the deepest oldest tweets. The good thing is that this library can fit most of our requirement, and the bad thing is that it is not a very reliable library due to its popularity, but so far we do not find any side effect or flaws when using this library.\n",
    " \n",
    "Blocks below are codes we used to collect tweets data. Temporarily, we set the max tweets number for each movie to be 1,000. We will adjust this number in the future if the training/testing performance does not go well. Basic features we used for each tweet are its word count, retweet number, and whether it contains links. Besides, we conduct sentimental analysis from a [public API](http://text-processing.com/api/sentiment/). Due to the daily usage limitation for sentimental analysis API, we only choose seven films to do the sentimental analysis here, among the seven movies, four of them are popular movies which have very high box office,while the other threes are relatively normal movies:\n"
   ]
  },
  {
   "cell_type": "code",
   "execution_count": 39,
   "metadata": {
    "collapsed": true,
    "scrolled": true
   },
   "outputs": [],
   "source": [
    "time_range = datetime.timedelta(days=60)\n",
    "maxtweets = 1000\n",
    "\n",
    "def fetch_tweets(row):\n",
    "    BOM_id = row['BOM_id']\n",
    "    movie_title = row['movie_title']\n",
    "    query = BOM_id + ' OR #' + BOM_id + ' OR ' + movie_title + ' OR #' + movie_title\n",
    "    date = row['release_date']\n",
    "    start = date.date().strftime('%Y-%m-%d')\n",
    "    end = (date.date() + time_range).strftime('%Y-%m-%d')\n",
    "    get_tweets(filename='data2/' + BOM_id, maxtweets=maxtweets, query=query, since=start, until=end)\n",
    "    print movie_title, start, end"
   ]
  },
  {
   "cell_type": "code",
   "execution_count": null,
   "metadata": {
    "collapsed": false
   },
   "outputs": [],
   "source": [
    "for _, row in new_movies.iterrows():\n",
    "    fetch_tweets(row)"
   ]
  },
  {
   "cell_type": "code",
   "execution_count": 12,
   "metadata": {
    "collapsed": false,
    "scrolled": true
   },
   "outputs": [
    {
     "name": "stdout",
     "output_type": "stream",
     "text": [
      "['data/avatar', 'data/avengers11', 'data/jurassicpark4', 'data/misterlonely', 'data/starwars7', 'data/totalrecall2012rerelease', 'data/womenintrouble']\n",
      "avatar\n",
      "avengers11\n",
      "jurassicpark4\n",
      "misterlonely\n",
      "starwars7\n",
      "totalrecall2012rerelease\n",
      "womenintrouble\n"
     ]
    }
   ],
   "source": [
    "#small samples for tweets sentiment feature\n",
    "fetched_movie = {}\n",
    "directories = glob('data/*')\n",
    "print directories\n",
    "for directory in directories:\n",
    "    BOM_id = directory[5:]\n",
    "    print BOM_id\n",
    "    fetched_movie[BOM_id] = pd.read_csv(directory, sep=';', index_col=0)"
   ]
  },
  {
   "cell_type": "code",
   "execution_count": 19,
   "metadata": {
    "collapsed": false,
    "scrolled": true
   },
   "outputs": [],
   "source": [
    "def sentiment(text):\n",
    "    # response = requests.post('http://text-processing.com/api/sentiment/', data={'text': text})\n",
    "    response = unirest.post(\"https://japerk-text-processing.p.mashape.com/sentiment/\",\n",
    "        headers={\n",
    "            \"X-Mashape-Key\": \"EMrBfg9GO4mshgbevq2BtBZCdet3p1iXIWejsnKRDuWRNljYxI\",\n",
    "            \"Content-Type\": \"application/x-www-form-urlencoded\",\n",
    "            \"Accept\": \"application/json\"\n",
    "          },\n",
    "        params={\n",
    "            \"language\": \"english\",\n",
    "            \"text\": text\n",
    "          }\n",
    "    )\n",
    "    if response.code != 200:\n",
    "        print response.code\n",
    "        print response.body\n",
    "        print 'failed: {}'.format(text)\n",
    "        return {'sentiment': None, 'probability': None}\n",
    "    sentiment = response.body['label']\n",
    "    if sentiment == 'pos':\n",
    "        return {'sentiment': 1, 'probability': response.body['probability']}\n",
    "    elif sentiment == 'neg':\n",
    "        return {'sentiment': -1, 'probability': response.body['probability']}\n",
    "    else:\n",
    "        return {'sentiment': 0, 'probability': response.body['probability']}"
   ]
  },
  {
   "cell_type": "code",
   "execution_count": 20,
   "metadata": {
    "collapsed": false,
    "scrolled": true
   },
   "outputs": [],
   "source": [
    "def get_sentiments(movie_dict):\n",
    "    for BOM_id, movie in movie_dict.items():\n",
    "        sentiments = pd.DataFrame([sentiment(text) for text in movie['text']])\n",
    "        movie_dict[BOM_id] = pd.concat([movie, sentiments], axis=1)\n",
    "        #movie.to_csv('data/' + BOM_id, sep=';')\n",
    "        print BOM_id"
   ]
  },
  {
   "cell_type": "code",
   "execution_count": 21,
   "metadata": {
    "collapsed": true
   },
   "outputs": [],
   "source": [
    "def ouput_csv(movie_dict):\n",
    "    for BOM_id, movie in movie_dict.items():\n",
    "        movie.to_csv('data/' + BOM_id, sep=';')"
   ]
  },
  {
   "cell_type": "markdown",
   "metadata": {},
   "source": [
    "From the following result we can see that, according to the sample we collected, popular movies tend to have more positive reviews and more tweets and retweets amount as a whole. More detailed research and their correlation will be studied after midterm report."
   ]
  },
  {
   "cell_type": "code",
   "execution_count": 13,
   "metadata": {
    "collapsed": false,
    "scrolled": false
   },
   "outputs": [
    {
     "name": "stdout",
     "output_type": "stream",
     "text": [
      "starwars7  :  Counter({0.0: 650, 1.0: 335, -1.0: 11, nan: 1, nan: 1}) total:  998\n",
      "avengers11  :  Counter({1: 777, 0: 183, -1: 39}) total:  999\n",
      "womenintrouble  :  Counter({0: 370, 1: 192, -1: 113}) total:  675\n",
      "misterlonely  :  Counter({0: 16, 1: 16, -1: 6}) total:  38\n",
      "totalrecall2012rerelease  :  Counter({-1: 635, 1: 253, 0: 111}) total:  999\n",
      "avatar  :  Counter({1: 467, 0: 287, -1: 246}) total:  1000\n",
      "jurassicpark4  :  Counter({0: 481, 1: 334, -1: 185}) total:  1000\n"
     ]
    }
   ],
   "source": [
    "for title, movie in fetched_movie.items():\n",
    "    counter = Counter(movie['sentiment'])\n",
    "    print title, \" : \", counter, 'total: ', sum(counter.values())"
   ]
  },
  {
   "cell_type": "markdown",
   "metadata": {},
   "source": [
    "# Feature Extraction\n",
    "\n",
    "Current Idea: Extract features from raw text but also try to reduce feature space.\n",
    "1. Create parse tree and lemmatize each tweet.\n",
    "2. Keep nouns, adjectives, and verbs.\n",
    "3. Create word count, DF-IDF, sentiment, and length features\n",
    "4. (If needed) use latent semantics analysis (i.e. Trucated SVD)\n",
    "5. Add gaussian noise to response values"
   ]
  },
  {
   "cell_type": "code",
   "execution_count": 21,
   "metadata": {
    "collapsed": false
   },
   "outputs": [
    {
     "name": "stdout",
     "output_type": "stream",
     "text": [
      "(TfidfVectorizer(analyzer=u'word', binary=False, decode_error=u'strict',\n",
      "        dtype=<type 'numpy.int64'>, encoding=u'utf-8', input=u'content',\n",
      "        lowercase=True, max_df=1.0, max_features=None, min_df=1,\n",
      "        ngram_range=(1, 1), norm=u'l2', preprocessor=None, smooth_idf=True,\n",
      "        stop_words=[u'i', u'me', u'my', u'myself', u'we', u'our', u'ours', u'ourselves', u'you', u'your', u'yours', u'yourself', u'yourselves', u'he', u'him', u'his', u'himself', u'she', u'her', u'hers', u'herself', u'it', u'its', u'itself', u'they', u'them', u'their', u'theirs', u'themselves', u'what', u'w...n', u'ma', u'mightn', u'mustn', u'needn', u'shan', u'shouldn', u'wasn', u'weren', u'won', u'wouldn'],\n",
      "        strip_accents=None, sublinear_tf=False,\n",
      "        token_pattern=u'(?u)\\\\b\\\\w\\\\w+\\\\b', tokenizer=None, use_idf=True,\n",
      "        vocabulary=None), <5278x475 sparse matrix of type '<type 'numpy.float64'>'\n",
      "\twith 1605674 stored elements in Compressed Sparse Row format>, CountVectorizer(analyzer=u'word', binary=False, decode_error=u'strict',\n",
      "        dtype=<type 'numpy.int64'>, encoding=u'utf-8', input=u'content',\n",
      "        lowercase=True, max_df=1.0, max_features=None, min_df=1,\n",
      "        ngram_range=(1, 1), preprocessor=None,\n",
      "        stop_words=[u'i', u'me', u'my', u'myself', u'we', u'our', u'ours', u'ourselves', u'you', u'your', u'yours', u'yourself', u'yourselves', u'he', u'him', u'his', u'himself', u'she', u'her', u'hers', u'herself', u'it', u'its', u'itself', u'they', u'them', u'their', u'theirs', u'themselves', u'what', u'w...n', u'ma', u'mightn', u'mustn', u'needn', u'shan', u'shouldn', u'wasn', u'weren', u'won', u'wouldn'],\n",
      "        strip_accents=None, token_pattern=u'(?u)\\\\b\\\\w\\\\w+\\\\b',\n",
      "        tokenizer=None, vocabulary=None), <5278x475 sparse matrix of type '<type 'numpy.int64'>'\n",
      "\twith 1605674 stored elements in Compressed Sparse Row format>, [72, 1795, 4676, 5120, 905, 4087, 4906, 3413, 7248, 10675, 5534, 5629, 109, 4230, 1552, 4767, 6041, 1017, 2548, 3236, 442, 2567, 4050, 2702, 6488, 381, 7615, 4528, 5046, 1875, 115, 5321, 4606, 797, 373, 5846, 5401, 5835, 563, 487, 9410, 1274, 2148, 4753, 3119, 3179, 3609, 5787, 2901, 5578, 2492, 939, 4636, 4816, 3364, 5523, 4385, 4409, 5071, 6804, 4172, 5592, 6352, 1726, 3463, 3104, 5409, 1641, 2160, 2906, 7250, 4930, 4824, 1794, 4646, 5638, 5522, 3605, 191, 3374, 3956, 655, 4051, 443, 4533, 2708, 4153, 779, 5418, 4754, 5981, 4682, 1315, 4241, 57, 650, 3807, 5432, 6168, 4770, 174, 2628, 811, 5211, 6359, 1215, 4, 3311, 65, 6017, 5063, 3483, 5618, 10, 4009, 7681, 34, 4578, 4975, 4130, 6554, 99, 5067, 4343, 5776, 5461, 4610, 622, 6051, 1005, 6845, 6167, 387, 3129, 4386, 5088, 4954, 5190, 3987, 2893, 2919, 1916, 6407, 5225, 5391, 5831, 5520, 1725, 7294, 3605, 27, 6547, 4156, 4711, 6702, 845, 9345, 1935, 6115, 63, 6888, 5505, 3095, 6083, 4269, 3879, 1586, 7604, 5407, 1757, 5517, 2188, 3208, 7978, 556, 4411, 7194, 6822, 1932, 5740, 1643, 3859, 4084, 682, 5236, 3827, 298, 261, 6443, 5314, 4277, 3388, 1708, 3056, 5556, 4264, 2197, 4552, 4935, 4353, 5940, 4480, 2337, 8081, 3902, 8493, 4500, 4059, 3509, 4178, 5112, 3265, 4294, 149, 3480, 4784, 6596, 2656, 5413, 6732, 4122, 3422, 3789, 4754, 3609, 3784, 4102, 4096, 4923, 4214, 3515, 47, 132, 4552, 5120, 183, 6017, 26, 6114, 4246, 5263, 3685, 3390, 5775, 1060, 735, 4275, 5589, 4617, 3319, 4537, 596, 6548, 5884, 4, 4504, 3514, 5257, 1843, 828, 1081, 6762, 526, 4086, 4039, 6702, 968, 4113, 4026, 5122, 6385, 4655, 3800, 4085, 5882, 6270, 3786, 5149, 6177, 4325, 5243, 6400, 832, 5752, 7868, 6610, 4119, 5000, 9262, 3276, 5605, 6707, 6575, 10340, 2816, 3517, 15, 409, 4682, 5766, 27, 5701, 245, 5210, 775, 5816, 4098, 7020, 3815, 5377, 7268, 6950, 55, 3381, 6910, 667, 4251, 4204, 3666, 4167, 4609, 1616, 136, 4328, 4990, 2467, 1791, 3592, 3949, 6183, 4808, 2864, 5253, 5354, 948, 167, 3470, 3998, 3535, 774, 5782, 1708, 242, 7253, 3609, 5840, 5619, 6322, 4462, 5769, 4872, 5107, 6538, 1055, 2598, 5052, 5969, 4698, 5972, 4701, 3232, 4812, 255, 3592, 3505, 5492, 4166, 1066, 7370, 7678, 6168, 5608, 4676, 2382, 5746, 1670, 4160, 5599, 6153, 3931, 5500, 5677, 3297, 5613, 5004, 7795, 2701, 2336, 5996, 59, 4534, 1453, 4282, 2355, 1576, 4495, 2564, 3665, 3609, 4395, 474, 15, 831, 4164, 5868, 5585, 2773, 6753, 6640, 3607, 4221, 5309, 5410, 514, 1672, 3267, 535, 3450, 5899, 1714, 4987, 4637, 3985, 3852, 1874, 3254, 3846, 6496, 4855, 3763, 6133, 3777, 529, 409, 1055, 5328, 5566, 3977, 158, 1977, 18, 3863, 5403, 3725, 4048, 5244, 4247, 5112, 551, 5676, 978, 3772, 6215, 4118, 4510, 3581, 5652, 3888, 6284, 6221, 2235, 43, 6547, 4396, 4105, 5032, 5349, 6915, 318, 5514, 4167, 7975, 6237, 4347, 4436, 3461, 4427, 5504, 5463, 3621, 337, 4342, 3454, 6029, 5590, 6978, 110, 4719, 4587, 68, 3403, 4696, 1956, 5517, 349, 1037, 5713, 6172, 4320, 6237, 755, 4103, 5286, 6180, 4105, 4051, 5566, 4387, 3413, 5521, 144, 5657, 717, 243, 5311, 6394, 2834, 3449, 4189, 4851, 7023, 4327, 5965, 7252, 5230, 3700, 505, 4567, 4082, 6330, 4446, 2677, 4531, 5608, 1332, 247, 4647, 5849, 5119, 579, 5559, 6184, 6960, 34, 4640, 455, 1547, 2, 103, 4783, 5382, 5263, 5057, 5307, 6068, 36, 2898, 6422, 4523, 3738, 4076, 97, 4696, 6010, 4290, 4458, 4647, 6319, 422, 5092, 6457, 667, 4374, 379, 7979, 5541, 4970, 10069, 6161, 1244, 5093, 3, 3641, 3544, 5200, 4171, 5119, 3909, 2986, 763, 228, 5626, 3450, 446, 5849, 4761, 4130, 3606, 5526, 311, 3019, 535, 5033, 959, 3564, 7849, 5783, 6721, 4973, 3945, 5019, 4828, 319, 5416, 1134, 69, 6009, 2680, 208, 12781, 1966, 1115, 3838, 5125, 4959, 37, 5503, 1036, 5387, 4616, 328, 4825, 5053, 5519, 32, 4204, 4874, 2585, 4350, 4613, 6349, 5246, 7111, 5108, 765, 2093, 4713, 4017, 5524, 6141, 6681, 5002, 4178, 6729, 440, 4054, 4092, 3506, 4112, 5347, 5615, 5063, 5137, 3965, 9449, 5003, 5384, 6028, 5565, 3397, 2897, 4975, 533, 4396, 5951, 4044, 1225, 4724, 5270, 36, 6947, 6427, 3046, 5861, 38, 6427, 4283, 798, 128, 3450, 4317, 659, 2621, 1280, 5803, 5195, 225, 590, 5363, 4510, 107, 456, 6746, 4246, 5207, 4053, 22, 6410, 4014, 4506, 3820, 4786, 2682, 3875, 5018, 6936, 5738, 6430, 4955, 5927, 4468, 5503, 2009, 2671, 2690, 4001, 3580, 2097, 2911, 3096, 5980, 5232, 974, 542, 193, 5937, 3442, 5506, 4989, 4621, 3391, 7969, 239, 4477, 4390, 1379, 580, 4446, 4530, 3944, 3893, 5808, 4198, 6063, 2813, 4319, 5670, 7545, 5862, 1899, 4262, 194, 6470, 2636, 5838, 4154, 4113, 4096, 4469, 3914, 4151, 5025, 5512, 2462, 9728, 3737, 5776, 1258, 222, 4470, 2454, 6288, 4487, 2760, 3841, 126, 2548, 3192, 3955, 3876, 4813, 4472, 5193, 3688, 149, 4350, 4485, 4451, 2039, 7038, 4683, 232, 37, 5310, 7208, 898, 5002, 6263, 4546, 5110, 5286, 4687, 4393, 3860, 7161, 4597, 4310, 6857, 5138, 5002, 3518, 4929, 5000, 7301, 3754, 4453, 3044, 2693, 4382, 6128, 1176, 5630, 5070, 7317, 4790, 74, 7091, 4587, 5514, 3733, 5232, 4822, 33, 4949, 5665, 4441, 6188, 2736, 3829, 4673, 4429, 4723, 5064, 3898, 4817, 13940, 53, 6199, 345, 126, 2414, 3840, 5845, 5331, 5387, 5371, 6321, 3213, 4941, 1939, 6555, 1293, 5015, 836, 5888, 3491, 5722, 4397, 3793, 899, 4221, 4480, 2802, 838, 4429, 3707, 5355, 1398, 326, 6369, 2931, 5712, 74, 3510, 6147, 904, 2442, 333, 5637, 670, 5357, 6070, 1213, 4809, 4576, 4152, 458, 30, 5787, 138, 3632, 5352, 2866, 7123, 5007, 3050, 4058, 5752, 4788, 7207, 117, 4278, 801, 428, 4805, 2654, 6887, 4373, 7938, 1435, 5901, 5428, 2486, 7211, 5429, 5463, 2408, 5861, 254, 3369, 3003, 4862, 539, 4952, 1875, 7249, 8627, 4562, 4558, 4744, 3653, 3795, 4915, 4384, 4162, 895, 3330, 3396, 1993, 6426, 7552, 5421, 4393, 3950, 84, 6469, 3800, 5822, 18, 6850, 7230, 5051, 4978, 5302, 1330, 3668, 4930, 1280, 3895, 6660, 296, 5821, 1448, 6612, 5219, 1312, 5832, 51, 16, 4717, 228, 6193, 5514, 5266, 1463, 7520, 5049, 4284, 6140, 1998, 3708, 3209, 5203, 4927, 4461, 4764, 40, 2402, 8508, 2581, 6350, 464, 5715, 4687, 6951, 3458, 4318, 7809, 4175, 7121, 4803, 4728, 4604, 6808, 5556, 53, 855, 5368, 4441, 3078, 4453, 271, 4189, 398, 4875, 5757, 2240, 5126, 4567, 5421, 367, 4930, 5810, 5634, 5537, 5806, 277, 2488, 243, 272, 4386, 5588, 4385, 2271, 5069, 3517, 8802, 4656, 7365, 5594, 6306, 6072, 5245, 1869, 4398, 3209, 4647, 3433, 4211, 1305, 5992, 4272, 1863, 695, 477, 5864, 3832, 329, 907, 344, 4814, 1729, 5083, 1472, 2413, 1881, 4533, 4811, 4672, 3709, 758, 4075, 4041, 5006, 5418, 7776, 7486, 4151, 4923, 3024, 7072, 3883, 3902, 1185, 2583, 6067, 4938, 3161, 1845, 208, 2303, 6575, 4255, 655, 2339, 1720, 3832, 4213, 5005, 1967, 56, 3583, 5685, 6569, 2673, 1842, 4188, 4933, 2786, 2510, 4936, 8350, 5073, 5585, 1583, 5395, 5791, 3283, 1676, 2515, 3323, 4982, 5244, 3824, 6247, 4881, 1845, 3483, 8603, 441, 819, 4223, 7065, 4762, 8499, 4640, 3031, 6328, 4901, 7095, 11499, 6588, 8705, 4073, 738, 5449, 5296, 3579, 2143, 1149, 5273, 2649, 4305, 548, 1858, 6337, 5264, 4290, 5875, 6430, 5152, 5067, 2689, 4422, 6621, 3288, 4288, 2696, 8108, 283, 4857, 4745, 6317, 6388, 5752, 1211, 7080, 3572, 1036, 4818, 3472, 6478, 4303, 3542, 4694, 881, 5288, 1717, 4114, 4600, 6543, 3224, 2312, 6225, 749, 5016, 6538, 6407, 3424, 5523, 4239, 5626, 560, 4758, 2420, 3967, 38, 5831, 3691, 3232, 3031, 1190, 5254, 4813, 13, 230, 5342, 4419, 5419, 6355, 7804, 5440, 3916, 4645, 4388, 923, 1711, 7495, 723, 5590, 110, 4066, 4168, 1406, 5824, 4071, 6806, 1893, 5988, 5110, 3419, 6079, 4485, 1019, 3984, 4736, 64, 36, 4413, 7020, 6022, 5280, 141, 5084, 4054, 3684, 8000, 208, 3991, 366, 6095, 5120, 32, 4875, 5330, 4315, 5698, 1499, 3086, 4352, 1701, 1625, 4076, 506, 4605, 7103, 6297, 345, 6503, 1659, 3738, 7143, 3102, 8370, 4986, 5883, 6166, 5623, 7134, 1416, 4993, 563, 4048, 4449, 881, 6650, 4799, 4386, 3145, 1360, 5119, 4956, 4066, 545, 3821, 3, 6935, 7666, 6401, 57, 4617, 5952, 5160, 4023, 5629, 1882, 6319, 5074, 5347, 423, 4227, 4371, 3688, 5390, 3658, 4928, 5574, 7713, 1832, 499, 5005, 843, 4948, 6540, 4303, 6087, 12, 5063, 1500, 4186, 4966, 67, 18, 1103, 7339, 3038, 3138, 4658, 7068, 1758, 6481, 4189, 5150, 1737, 1254, 2098, 4381, 5318, 6369, 6106, 416, 3898, 6357, 7091, 4646, 1072, 2040, 5515, 9894, 5379, 5728, 4117, 4952, 11, 6019, 5756, 5194, 4810, 4244, 383, 3569, 3039, 300, 4435, 6288, 3045, 2981, 3904, 4134, 4912, 6450, 3900, 4941, 7991, 1434, 4280, 1373, 7521, 4466, 4718, 1413, 3888, 5979, 3188, 3480, 4441, 6141, 1150, 3698, 625, 2775, 4847, 4293, 3150, 66, 5440, 4116, 2445, 3811, 83, 5795, 6159, 1231, 2496, 3953, 3383, 100, 4501, 3274, 2875, 7037, 4759, 6653, 14, 4606, 1852, 8274, 4417, 5615, 5445, 2524, 3784, 681, 4488, 4841, 4884, 5312, 6904, 68, 4442, 7447, 7072, 3904, 2127, 5020, 5965, 3105, 3679, 3990, 3140, 6918, 2132, 4541, 4328, 4510, 3568, 5387, 5275, 6034, 7620, 2780, 2834, 5374, 662, 137, 218, 4675, 167, 3812, 5786, 3154, 6495, 17, 3698, 4426, 6539, 8474, 329, 1238, 3787, 7012, 3923, 4570, 5109, 5474, 4016, 4159, 5140, 4976, 4316, 4195, 169, 5190, 924, 4607, 4067, 3831, 3536, 5677, 5575, 4583, 4426, 996, 565, 4947, 3813, 3337, 5605, 4539, 335, 1, 374, 4530, 4219, 217, 3743, 4919, 3664, 4322, 1908, 4364, 305, 5269, 4083, 2726, 4344, 3973, 4385, 1500, 4639, 1392, 4367, 9320, 5928, 5732, 761, 5922, 4834, 6429, 3377, 5676, 4519, 3232, 4186, 6670, 4061, 2119, 2266, 1162, 927, 4436, 6755, 6308, 233, 4716, 4119, 4507, 7464, 4736, 4683, 38, 4281, 6735, 1840, 4969, 4349, 5056, 7108, 937, 5171, 4391, 5926, 1482, 3605, 3806, 4509, 3775, 4490, 4415, 3448, 3674, 4070, 5648, 3592, 3685, 5874, 28, 392, 5697, 269, 4580, 4575, 3935, 5871, 4979, 5864, 5098, 4810, 4834, 16, 1046, 7615, 4794, 4795, 5515, 2764, 3975, 1830, 4331, 5897, 2089, 5278, 5908, 3764, 1560, 3033, 3916, 698, 4284, 3974, 5632, 4020, 3914, 1604, 6701, 66, 2614, 5178, 4429, 5268, 4173, 3603, 37, 4114, 4577, 4153, 6578, 3946, 52, 4918, 4661, 1908, 4968, 5870, 4055, 5748, 4048, 3357, 1188, 2064, 6765, 5829, 3827, 3827, 6479, 4282, 5892, 4016, 5836, 4394, 6617, 4036, 4955, 2486, 4293, 3273, 7733, 245, 2604, 5454, 5966, 1866, 5502, 3911, 38, 4619, 1587, 7274, 6786, 3527, 2344, 5432, 3712, 6417, 5260, 5045, 746, 3376, 3523, 3596, 4108, 7253, 5022, 4886, 4605, 7279, 6300, 5806, 4557, 1439, 5286, 1495, 6477, 41, 455, 65, 4678, 7144, 278, 4198, 4518, 1741, 1365, 4085, 6425, 4663, 1944, 5641, 688, 6658, 7461, 3373, 6953, 6447, 962, 2660, 4395, 7130, 4, 5161, 3539, 4754, 3170, 4074, 3626, 4159, 5912, 5179, 4759, 6777, 7535, 4083, 7357, 4498, 1408, 4175, 7685, 4488, 380, 6149, 3498, 91, 7739, 3669, 4417, 4038, 318, 6291, 5236, 7728, 6083, 4300, 2943, 4859, 5189, 5773, 6912, 4497, 129, 4701, 6, 4203, 222, 1479, 5530, 6337, 4310, 8564, 5616, 7529, 9254, 3796, 5229, 1927, 4225, 4176, 3775, 4413, 4603, 5968, 4449, 400, 4918, 3917, 5854, 4440, 4419, 1782, 5143, 3470, 5340, 9231, 5671, 3430, 5623, 3651, 6071, 694, 6080, 5788, 7097, 4727, 4153, 6715, 6053, 6069, 4785, 5127, 2369, 6848, 2103, 3232, 5770, 410, 4418, 3889, 4577, 2731, 1818, 3885, 2184, 663, 3130, 3145, 6026, 1349, 2824, 1024, 4714, 2630, 6048, 6533, 5320, 4157, 313, 6587, 6944, 3355, 4226, 4618, 1371, 5839, 3365, 2779, 4564, 33, 3551, 6157, 1378, 4201, 367, 4863, 7346, 14, 5731, 108, 2716, 4564, 4662, 5283, 4241, 4075, 5466, 3012, 5975, 5389, 5984, 5149, 2011, 3891, 5130, 3922, 980, 2454, 265, 4610, 5949, 7716, 318, 4775, 4897, 4075, 3928, 3091, 5300, 5339, 3658, 5918, 633, 4515, 4159, 2155, 4148, 5821, 3891, 3693, 643, 7016, 5502, 5148, 4445, 1222, 3815, 5021, 5686, 3608, 4066, 4429, 4248, 2984, 7663, 2179, 4360, 5485, 6693, 3234, 259, 5638, 5152, 5849, 1487, 4940, 4599, 4234, 3513, 3032, 3649, 4362, 6755, 84, 8909, 497, 7154, 2038, 3330, 7184, 5576, 1090, 79, 4739, 5685, 5390, 5016, 5998, 6228, 665, 4592, 4601, 820, 4327, 6842, 6174, 4772, 4781, 5381, 2949, 3063, 5479, 3560, 6305, 2841, 303, 5524, 6125, 5341, 2369, 721, 628, 5768, 5650, 3389, 919, 4216, 3290, 460, 1105, 357, 4075, 5839, 5501, 5456, 3729, 4231, 2679, 4900, 3784, 3833, 4135, 5734, 5220, 7539, 4054, 1894, 3834, 393, 6408, 649, 7365, 4870, 5142, 6694, 4077, 1769, 7019, 6070, 1311, 4290, 252, 1307, 4339, 79, 4327, 4541, 3644, 12, 3945, 5794, 7050, 605, 1380, 119, 1034, 1001, 4648, 610, 4917, 526, 6022, 1926, 91, 6551, 5598, 6560, 40, 4792, 4637, 1225, 1260, 6556, 1577, 6029, 4832, 3200, 3306, 5719, 984, 6258, 6609, 3734, 24, 6512, 3390, 4857, 5895, 6024, 2803, 314, 4615, 5666, 3183, 3618, 5207, 5130, 5323, 4617, 6544, 4754, 5611, 7754, 5110, 7059, 6137, 5640, 7484, 6507, 6, 2409, 1441, 4918, 162, 4040, 2259, 4873, 8188, 1303, 9134, 4402, 1492, 4194, 806, 5223, 1601, 5655, 4210, 294, 5148, 4466, 6187, 4598, 5208, 665, 2122, 796, 5109, 26, 3783, 8183, 4821, 4209, 5662, 6854, 6725, 4781, 5940, 406, 308, 5872, 2196, 6310, 5184, 5164, 4624, 7875, 4484, 1337, 1993, 552, 4288, 59, 1347, 3741, 3791, 3738, 5304, 3347, 1899, 3615, 6258, 4488, 4198, 4556, 4438, 4094, 3933, 3834, 409, 3774, 4746, 1093, 4940, 1933, 2937, 116, 7825, 6017, 4302, 3214, 6581, 6960, 5272, 3814, 360, 4981, 1029, 4503, 4637, 5488, 3732, 3615, 2616, 5964, 4658, 4874, 3848, 4718, 7813, 5015, 3361, 5612, 6323, 5139, 5000, 5390, 48, 23, 741, 5102, 3219, 4005, 1660, 6844, 7178, 5986, 6932, 5455, 509, 1394, 4146, 4959, 3864, 5949, 4422, 466, 5980, 75, 6816, 6667, 5749, 3784, 5249, 3048, 4015, 4366, 4908, 1092, 6601, 6631, 6185, 7444, 4612, 4240, 3951, 3759, 2033, 7287, 5042, 4841, 3469, 4875, 6019, 955, 5715, 294, 4592, 5315, 3362, 4491, 3630, 6753, 5696, 138, 4347, 83, 4123, 4881, 42, 172, 5440, 7006, 4447, 3764, 5751, 5615, 4966, 5882, 3986, 7503, 2230, 1822, 3725, 2639, 5518, 3113, 1119, 3854, 7999, 6891, 117, 3460, 1274, 568, 7465, 3778, 4834, 1905, 4581, 2574, 5183, 9922, 7397, 804, 6474, 6504, 161, 3783, 7270, 225, 4556, 1500, 5437, 2535, 5700, 1718, 6447, 1071, 5997, 4259, 3472, 3193, 4280, 4916, 4747, 1104, 3832, 6046, 6858, 5966, 6702, 3243, 172, 322, 4157, 5569, 5083, 3817, 5161, 400, 5896, 86, 2593, 4354, 3104, 5105, 4218, 3777, 6057, 2604, 127, 988, 5644, 4219, 6136, 4194, 3846, 5600, 3937, 5644, 6545, 6185, 4735, 4471, 4302, 3627, 4078, 2638, 3377, 6123, 4737, 4291, 42, 254, 6368, 5113, 406, 6780, 1772, 3706, 1421, 318, 3722, 5380, 4741, 4780, 4942, 6166, 2272, 5357, 5041, 9, 4527, 139, 5404, 1987, 6446, 6590, 4592, 778, 6128, 5763, 7164, 3394, 52, 5982, 5312, 139, 79, 4352, 4288, 22, 3276, 8742, 4931, 463, 3901, 4982, 5700, 4496, 7, 284, 5106, 5075, 201, 4888, 1807, 5122, 5374, 4660, 3823, 6110, 5443, 6810, 3561, 4475, 3630, 6936, 9107, 5062, 5098, 6581, 5280, 5955, 5607, 4703, 7408, 11, 3828, 2851, 6922, 2581, 5172, 4114, 5285, 4006, 4089, 4693, 4562, 4236, 66, 6381, 7549, 3364, 3453, 543, 4328, 4473, 1849, 3998, 6049, 580, 941, 5060, 3838, 5910, 7608, 151, 4876, 3959, 4333, 4427, 4434, 4094, 5494, 4590, 7981, 3832, 1908, 5418, 4902, 31, 5671, 7827, 3067, 1997, 8125, 3145, 4752, 4839, 26, 982, 4098, 3872, 6, 1529, 705, 5356, 4729, 1025, 7816, 6471, 3024, 455, 2451, 4393, 4787, 5648, 4011, 5958, 5166, 4230, 3926, 910, 366, 5615, 4211, 4785, 4591, 6253, 5806, 4950, 347, 4496, 3249, 6742, 3773, 2844, 3724, 1515, 346, 5530, 135, 4706, 813, 5977, 8456, 101, 268, 5632, 4819, 541, 4197, 2342, 4990, 2623, 1466, 52, 3666, 7316, 6831, 356, 4890, 5710, 4551, 4158, 7099, 6830, 4491, 1016, 668, 5798, 4140, 5276, 1687, 3291, 147, 3647, 5845, 4753, 4630, 32, 831, 495, 3367, 1808, 4663, 5367, 4866, 4686, 3449, 2874, 573, 2547, 7002, 6456, 6529, 4851, 579, 3263, 5220, 523, 4680, 161, 2894, 6033, 1031, 6614, 4213, 368, 4904, 4239, 4248, 3183, 1659, 1066, 7069, 3488, 70, 5721, 5258, 6282, 5375, 7977, 6120, 523, 3497, 499, 5689, 6798, 3481, 2927, 5290, 7286, 4214, 1076, 5693, 3250, 5108, 4721, 2471, 625, 3729, 5478, 5959, 7628, 5209, 6328, 6958, 8632, 6325, 1756, 8662, 5983, 4372, 4482, 6358, 4231, 3455, 4713, 980, 5645, 4299, 6369, 4568, 3747, 4707, 4591, 865, 3576, 1574, 2486, 5088, 4995, 4214, 5558, 3028, 784, 4349, 4377, 861, 4494, 6643, 3592, 2564, 2939, 4636, 1269, 6233, 6253, 5827, 6829, 5355, 4484, 5152, 5209, 207, 1830, 4943, 5651, 3996, 5422, 4682, 6850, 92, 4911, 4190, 3399, 6562, 3981, 6664, 3981, 4676, 1342, 4084, 7415, 4446, 30, 4591, 5001, 4365, 1762, 5103, 3546, 3741, 4482, 160, 5220, 5305, 4581, 2968, 4334, 4626, 883, 2244, 5058, 3079, 1132, 3579, 5607, 2094, 5439, 5164, 5119, 6474, 5020, 4766, 4370, 7098, 4127, 27, 3979, 4429, 5077, 4339, 4245, 1366, 3778, 702, 3219, 4027, 4961, 5697, 3199, 4146, 5626, 3483, 2118, 4493, 378, 5067, 3053, 3375, 7328, 4053, 4660, 5260, 8321, 4547, 515, 5562, 3088, 6423, 5134, 5868, 139, 6079, 1575, 6228, 4843, 5857, 4553, 1462, 3356, 4757, 5319, 7405, 5460, 5174, 360, 3881, 4, 5192, 5586, 1186, 296, 3075, 84, 1073, 1027, 5488, 6650, 5009, 6193, 6507, 769, 4256, 10782, 6810, 4481, 5660, 3072, 6020, 4385, 1830, 5091, 4370, 5564, 5475, 151, 7311, 6034, 4547, 4136, 6717, 6270, 319, 7497, 6415, 6130, 7184, 1245, 26, 4262, 3966, 2275, 3730, 2022, 6612, 5216, 6674, 3843, 37, 6272, 979, 8218, 4059, 4031, 6664, 4045, 4967, 6777, 3998, 5541, 224, 5569, 5463, 1321, 5892, 6072, 4593, 2275, 5722, 3477, 6269, 2861, 6276, 4464, 3425, 6233, 4191, 6005, 4705, 5978, 6818, 8996, 5859, 7178, 2914, 1082, 4865, 4769, 3975, 7020, 2970, 3905, 645, 20, 54, 71, 4547, 1044, 3311, 4121, 2531, 5350, 2841, 8304, 7076, 5379, 3423, 4086, 5090, 141, 1788, 120, 4739, 5416, 5285, 1612, 4182, 4881, 4846, 6097, 4283, 3911, 6211, 3593, 7150, 4772, 6558, 5038, 53, 3774, 5758, 4688, 4421, 5133, 3753, 5179, 4930, 3604, 5544, 289, 960, 4839, 6778, 7119, 4899, 4276, 4525, 6180, 5248, 7766, 1108, 6071, 2884, 1927, 3580, 6136, 1618, 2745, 1618, 2330, 5877, 4529, 4471, 4212, 4350, 5500, 5640, 4251, 2140, 4345, 4835, 7947, 30, 8236, 4713, 4820, 6908, 4462, 4337, 3842, 8014, 6396, 6238, 4117, 6156, 6779, 7940, 11, 4037, 95, 5204, 1800, 6747, 3292, 3801, 639, 6795, 5620, 1005, 4679, 4158, 6485, 6573, 5940, 7176, 4208, 5336, 6540, 5012, 4361, 4072, 4103, 1574, 5891, 6392, 4975, 5427, 6336, 3811, 5448, 4736, 5836, 5015, 4430, 3394, 3656, 3252, 3305, 7481, 4744, 5195, 80, 484, 4943, 114, 4714, 2530, 198, 3778, 6087, 4633, 327, 3710, 4059, 4722, 116, 6382, 6875, 4421, 6141, 2849, 4071, 2154, 4534, 5823, 1072, 6080, 1420, 10362, 60, 2838, 7498, 5158, 5066, 6580, 6311, 1512, 4698, 4272, 4388, 4215, 8096, 6499, 4907, 551, 6965, 4807, 268, 4508, 4762, 4420, 4577, 5091, 5431, 2707, 5430, 7029, 8156, 64, 566, 4435, 554, 4995, 5758, 5887, 5956, 3819, 4, 4537, 3138, 3869, 6004, 5298, 5064, 3297, 2579, 4639, 5286, 4050, 6579, 5403, 3713, 5367, 3899, 5707, 3757, 6005, 5425, 4796, 4155, 5498, 5364, 6397, 6052, 5927, 4678, 34, 2699, 436, 3970, 1654, 6303, 5251, 3823, 236, 5699, 985, 4261, 3893, 831, 18, 5946, 4754, 4294, 4272, 1205, 4986, 5543, 1030, 17, 5579, 595, 1572, 3293, 3556, 6569, 783, 4187, 347, 4375, 1209, 3972, 4753, 4660, 6844, 234, 5246, 1103, 5168, 5032, 2926, 5239, 3742, 4414, 2324, 71, 5734, 5370, 5012, 5057, 4033, 372, 5747, 3529, 5385, 4020, 7143, 4194, 2079, 98, 4582, 5717, 4624, 6987, 4558, 7445, 3573, 2701, 5284, 5791, 8162, 1418, 3353, 3463, 5845, 6594, 3755, 4218, 4254, 6176, 6313, 3945, 3154, 1075, 5520, 659, 7060, 5466, 3409, 5239, 2257, 6599, 4219, 4472, 5861, 351, 3705, 5905, 6614, 367, 4799, 2221, 4645, 2157, 6989, 79, 1584, 4411, 5051, 6351, 6124, 857, 5904, 4060, 202, 4863, 6446, 2798, 6919, 611, 4175, 4088, 4965, 4590, 69, 877, 6466, 2561, 3339, 430, 2821, 549, 4515, 6527, 9949, 1405, 1253, 2845, 5118, 4433, 4985, 3816, 5897, 3880, 4204, 6474, 3483, 2629, 4802, 6698, 4907, 6087, 4637, 4462, 3755, 5847, 5502, 1315, 5250, 4199, 5070, 4963, 5034, 7401, 569, 6107, 6685, 3514, 2467, 6169, 7776, 5239, 572, 6100, 3791, 8831, 3178, 312, 289, 4876, 5614, 636, 6991, 5195, 114, 6562, 345, 4308, 1074, 4749, 5309, 5584, 7110, 1784, 6014, 7230, 5028, 4265, 310, 5, 4237, 4688, 1405, 4540, 1912, 440, 5805, 4814, 1360, 3778, 1045, 4943, 6859, 105, 4506, 5390, 4700, 6317, 4673, 7333, 867, 4174, 3370, 5836, 4902, 7425, 360, 5954, 4709, 2533, 189, 606, 2901, 3912, 5790, 4633, 5468, 2658, 7852, 6860, 6625, 4795, 10065, 6020, 6432, 3867, 6577, 2509, 438, 937, 3796, 5790, 618, 3255, 1946, 9798, 3248, 3447, 1312, 3608, 7348, 4243, 2190, 5425, 4254, 6712, 4709, 2052, 5536, 4540, 1851, 2328, 5131, 413, 3006, 825, 3346, 4774, 434, 132, 3779, 858, 6374, 5584, 5320, 2085, 5752, 5102, 2759, 5893, 7552, 7031, 2176, 8560, 6919, 796, 7269, 4229, 2650, 6172, 3632, 4063, 5556, 6180, 4288, 3951, 4839, 4923, 3036, 7301, 4612, 797, 5728, 4624, 509, 5746, 3918, 6231, 5840, 21, 4030, 3754, 4593, 5879, 496, 140, 2674, 980, 5445, 5689, 3948, 960, 6638, 4097, 7041, 4613, 1734, 3393, 3864, 5735, 3821, 4658, 303, 402, 6341, 6638, 5472, 7558, 4301, 4945, 5451, 5429, 731, 8142, 6440, 5011, 4331, 350, 5931, 5041, 6972, 564, 176, 5432, 5557, 3417, 4084, 6353, 7378, 3528, 7203, 5028, 4544, 4693, 7327, 6437, 5519, 3863, 2616, 1388, 5496, 5146, 3983, 6290, 4076, 9130, 7623, 34, 5552, 5777, 4096, 5096, 483, 4641, 5242, 3915, 4504, 5489, 3166, 4070, 2748, 5233, 6073, 5085, 2881, 4721, 7046, 5064, 4981, 4931, 11102, 7188, 5970, 3671, 5030, 3699, 991, 3908, 1527, 6082, 4821, 5676, 4791, 4572, 3307, 4595, 9961, 6072, 4616, 5690, 7054, 6454, 6115, 2975, 4408, 4472, 5110, 7004, 3688, 4955, 402, 867, 4687, 2678, 3549, 23, 4385, 7092, 4858, 253, 4265, 5919, 183, 4201, 4633, 5534, 879, 2986, 5700, 5847, 5881, 4170, 1762, 1170, 518, 5000, 6118, 4117, 2434, 3096, 4813, 3558, 4940, 7299, 41, 4303, 6910, 3783, 4089, 4220, 65, 3858, 3647, 4622, 4052, 6063, 437, 6702, 4206, 382, 6412, 4483, 8635, 4688, 8739, 4963, 3192, 5097, 927, 5026, 4755, 4621, 1311, 12323, 3685, 4022, 5737, 3939, 5406, 5271, 4615, 203, 2409, 5011, 1139, 4258, 4236, 4884, 3881, 831, 4460, 3658, 3755, 2923, 4289, 7880, 99, 3620, 4129, 5139, 5452, 1468, 4627, 649, 6351, 6046, 5282, 5179, 4545, 4442, 5598, 4592, 151, 5603, 3352, 4950, 6185, 5147, 4401, 5295, 5409, 755, 6092, 44, 7709, 15, 6835, 4548, 2341, 5403, 5386, 4226, 2601, 5476, 155, 3758, 5848, 7733, 1276, 4188, 2655, 3763, 572, 4196, 2268, 7167, 4840, 5111, 2835, 678, 2514, 4492, 7617, 2160, 3641, 5365, 3598, 18, 2419, 1138, 4871, 72, 4227, 3426, 3216, 2801, 4777, 3573, 748, 2467, 4137, 5962, 450, 1043, 4396, 5465, 4215, 5673, 6358, 6128, 3588, 269, 5409, 3630, 5564, 9061, 2271, 5454, 4452, 1378, 5921, 355, 5692, 3970, 4136, 5133, 424, 1791, 4414, 6265, 2120, 3697, 2255, 3677, 6474, 3240, 4859, 5005, 5024, 5256, 4075, 7532, 23, 5388, 4263, 2897, 2471, 5697, 3211, 22, 3091, 7, 1576, 8259, 8919, 7520, 5066, 6134, 2995, 3711, 3964, 3610, 75, 3786, 2808, 5653, 1473, 6792, 2314, 20, 4934, 5124, 1190, 4667, 1588, 4472, 3801, 1404, 1052, 53, 3516, 4315, 1895, 1022, 4777, 10323, 5382, 5003, 1016, 5986, 140, 1048, 6186, 5288, 5583, 1998, 5151, 4292, 4792, 4841, 4921, 4314, 4597, 6147, 2283, 2154, 3928, 5373, 1956, 6546, 6084, 2393, 4551, 4717, 4754, 4377, 3859, 4001, 5497, 3758, 4573, 5427, 4847, 4591, 10347, 87, 4890, 4208, 2142, 4788, 2988, 5009, 4774, 4898, 6204, 5120, 215, 531, 4510, 4109, 2405, 5340, 2761, 5056, 6642, 3081, 3209, 3038, 4853, 1951, 2837, 3715, 8574, 7056, 1517, 725, 8223, 4501, 4837, 8046, 5592, 5323, 752, 7700, 33, 5580, 5793, 5477, 71, 4325, 4853, 854, 4970, 197, 5791, 4295, 2058, 8742, 6165, 4672, 1701, 1753, 6721, 5652, 4687, 5296, 856, 3201, 6028, 929, 4951, 4424, 780, 4904, 3504, 192, 4603, 6188, 4196, 15, 5570, 4697, 5344, 3065, 6301, 266, 4863, 4344, 4742, 2342, 1308, 5155, 2779, 5265, 947, 6378, 3833, 6443, 5669, 4052, 114, 4282, 1147, 5544, 1391, 686, 3790, 4757, 3931, 1996, 4638, 4435, 1725, 1429, 1506, 4890, 372, 346, 129, 3058, 438, 65, 4476, 6768, 338, 6531, 448, 4578, 2924, 4894, 948, 5975, 4601, 4548, 6137, 1270, 3835, 3460, 3114, 7730, 5947, 4023, 6464, 1483, 5719, 5426, 59, 6259, 4062, 3425, 486, 5099, 1183, 5768, 5352, 6651, 3348, 3870, 4263, 4682, 28, 5947, 6423, 4832, 4732, 5100, 3011, 4896, 4311, 5330, 8177, 4686, 4655, 5841, 6232, 2022, 6818, 3445, 5511, 2213, 6163, 6482, 4440, 5911, 5287, 5483, 6, 5624, 4452, 3669, 3445, 80, 3977, 4373, 1379, 7822, 6488, 637, 3745, 6772, 1481, 4497, 4784, 7445, 4458, 4311, 4555, 4626, 126, 7539, 5261, 295, 4815, 3783, 6379, 5409, 4456, 1412, 4517, 7136, 4974, 3548, 3207, 928, 3072, 4887, 5453, 4984, 4249, 553, 108, 3938, 1056, 6140, 5593, 5980, 5865, 13, 522, 3765, 6992, 5212, 1539, 3097, 6080, 5332, 275, 5633, 3531, 336, 2947, 7088, 3300, 908, 1355, 3756, 3069, 4922, 5711, 4074, 245, 3402, 1125, 6393, 5722, 7, 3605, 4430, 18, 1172, 7626, 4616, 505, 4857, 5379, 4504, 6350, 7885, 4178, 4066, 1150, 4136, 6704, 2953, 4922, 154, 4865, 4651, 3789, 5683, 5, 119, 1259, 4688, 6069, 8452, 5889, 1504, 3923, 6651, 356, 4807, 3589, 4861, 4849, 950, 5355, 5766, 1022, 5151, 8012, 3496, 3110, 199, 4251, 4142, 5236, 4493, 6424, 4373, 5912, 2420, 5709, 4334, 18, 6825, 4328, 4007, 4846, 1174, 4274, 6174, 3710, 6185, 4860, 3014, 482, 6448, 1466, 5248, 6741, 5740, 4007, 2499, 5892, 5865, 5988, 5449, 4894, 4199, 4625, 4465, 4685, 5705, 3742, 889, 4941, 6337, 5307, 5535, 5347, 4107, 6091, 5840, 4533, 3439, 8212, 4817, 2050, 2713, 1516, 5771, 5964, 1003, 1498, 4004, 462, 1063, 4188, 96, 5531, 1690, 4781, 5638, 7122, 5366, 227, 4859, 8453, 4970, 6221, 6242, 903, 1111, 3830, 4851, 809, 73, 5420, 6025, 4762, 1154, 6083, 3500, 7093, 6140, 6928, 4255, 1900, 3711, 3690, 6808, 2131, 85, 396, 3207, 6895, 1229, 834, 4937, 912, 5430, 5310, 3804, 6402, 854, 5, 6227, 7721, 3864, 2672, 5689, 897, 1775, 4012, 5760, 4275, 1049, 6665, 5465, 3314, 4203, 5452, 7348, 6229, 3563, 5187, 2240, 7576, 3013, 6381, 5523, 3178, 4554, 5888, 138, 6709, 3672, 5694, 3762, 4150, 4154, 760, 6414, 3497, 1034, 6470, 5090, 1011, 1173, 6673, 5105, 233, 8673, 420, 3792, 4813, 5519, 4248, 6228, 3136, 1825, 473, 6173, 7450, 5417, 3772, 7781, 3753, 4331, 89, 1270, 3517, 6069, 4759, 608, 3464, 129, 4509, 4709, 5712, 6882, 4902, 319, 3543, 3392, 6257, 6326, 4647, 5703, 4770, 4064, 1756, 2904, 3899, 3628, 3989, 4367, 4629, 3416, 1389, 816, 4569, 4486, 4976, 5958, 5202, 7029, 86, 4471, 4771, 9493, 5788, 6238, 5002, 5989, 6373, 6854, 5408, 4735, 20, 6661, 5801, 5738, 4610, 2104, 3986, 4595, 4081, 1329, 404, 6700, 649, 3790, 6632, 71, 4309, 4452, 3470, 450, 4687, 5977, 5399, 1219, 392, 1678, 5798, 4365, 4130, 3404, 4524, 5701, 5645, 325, 564, 4820, 8480, 5132, 5346, 5181, 715, 6430, 1559, 3702, 222, 733, 8278, 34, 5209, 3471, 4891, 109, 4088, 1781, 4007, 1604, 565, 143, 5131, 4423, 4385, 325, 4940, 4434, 9008, 4329, 5088, 4195, 7445, 4266, 1212, 3335, 2371, 2412, 3891, 81, 2372, 6205, 4832, 4953, 4818, 3064, 1, 35, 4890, 5826, 4516, 6372, 6953, 4338, 4101, 5303, 4017, 3047, 4685, 3492, 4876, 693, 1142, 6919, 6124, 6934, 4096, 5034, 3714, 2486, 4523, 4285, 5073, 152, 728, 5748, 7351, 4279, 5435, 4381, 4456, 345, 4011, 5011, 4319, 4548, 5877, 4660, 2671, 1475, 5949, 191, 605, 651, 848, 41, 12, 333, 5551, 472, 56, 1661, 101, 4336, 5717, 4132, 4643, 8171, 5261, 7240, 5633, 6018, 5005, 5674, 4289, 3076, 2822, 4485, 4273, 4019, 129, 5835, 4506, 6235, 81, 5241, 27, 3690, 3451, 3617, 96, 3713, 131, 73, 629, 7699, 4675, 3450, 1405, 2397, 4851, 5982, 5197, 5835, 5510, 6190, 890, 5042, 6762, 5691, 4411, 4689, 4296, 1172, 4609, 3279, 4355, 4873, 1781, 5962, 1895, 3710, 4826, 3774, 6249, 6394, 1257, 3374, 153, 1519, 3927, 5544, 5709, 4997, 7535, 5550, 47, 6652, 189, 6031, 5139, 5585, 1342, 5347, 3856, 4892, 2308, 5940, 4721, 7237, 1608, 5142, 5643, 6636, 5010, 6215, 51, 19, 3646, 283, 3362, 5476, 4213, 5849, 4450, 2502, 5079, 1379, 5756, 7195, 3871, 3567, 3698, 7022, 720, 6864, 706, 508, 3902, 5318, 4208, 426, 443, 582, 3691, 587, 4001, 6142, 3473, 2087, 5830, 5500, 4562, 3857, 4094, 5577, 5001, 1418, 445, 5087, 2329, 114, 439, 1676, 5003, 4990, 523, 26, 3383, 3626, 443, 5868, 6058, 6436, 793, 235, 6038, 6118, 3752, 5356, 4064, 24, 4938, 4206, 347, 5792, 3902, 4656, 3401, 1299, 3802, 5250, 6119, 6497, 2873, 2319, 5003, 2640, 4701, 3558, 5501, 4301, 4608, 4913, 5421, 2516, 3877, 15, 1467, 2282, 6312, 5782, 4104, 2131, 4896, 6415, 5524, 424, 3640, 4570, 3832, 4481, 4418, 4826, 4458, 2517, 1619, 5480, 87, 4750, 8500, 4593, 3892, 4064, 3304, 4587, 2135, 482, 3586, 349, 4361, 4587, 4267, 4949, 4380, 4608, 4107, 115, 1914, 4385, 5636, 6441, 594, 3979, 50, 5778, 2684, 1057, 4701, 3240, 5385, 4090, 6544, 4682, 4669, 4806, 2084, 5290, 1409, 232, 1501, 5487, 4322, 4526, 1795, 345, 5609, 303, 3826, 1685, 4154, 5010, 4315, 3940, 5859, 5321, 59, 6422, 5238, 8093, 5412, 5752, 1306, 1099, 2855, 3447, 5448, 130, 6855, 5701, 5375, 2467, 5411, 4488, 912, 5861, 5610, 5271, 6523, 6600, 5480, 7553, 509, 4070, 6685, 2111, 2405, 4685, 4866, 1545, 4195, 4621, 5818, 1224, 3976, 1772, 5079, 5243, 4399, 8903, 6851, 4682, 3245, 6119, 4912, 3966, 4847, 6990, 3993, 5546, 3951, 5531, 6840, 6152, 4748, 841, 4442, 4261, 3826, 344, 1508, 4718, 8, 4429, 4795, 4368, 5097, 3146, 5043, 5984, 4243, 3533, 12, 4841, 1129, 4206, 4660, 2011, 5035, 2083, 7740, 2257, 795, 5126, 3414, 3742, 3997, 3137, 2146, 2268, 2754, 5508, 543, 1304, 4688, 8230, 77, 79, 4844, 4386, 1822, 2195, 4543, 3176, 2639, 6088, 5685, 5396, 4768, 4399, 6054, 6002, 5467, 4185, 4642, 2163, 3891, 811, 4106, 4207, 4317, 4330, 3312, 317, 2603, 10238, 473, 3530, 5023, 4008, 637, 5489, 4889, 4389, 6121, 4698, 4031, 901, 6973, 5762, 3629, 5692, 3762, 4401, 2963, 3855, 260, 4169, 3225, 8146, 4340, 10, 3325, 7060, 6369, 2607, 1681, 4273, 4739, 88, 4732, 1563, 556, 4774, 535, 4084, 5492, 5804, 4983, 132, 4041, 5433, 328, 9590, 292, 4929, 3748, 1465, 3703, 3997, 1742, 6126, 3741, 1277, 7088, 6438, 7946, 4635, 6541, 6983, 4627, 5530, 7025, 6596, 4751, 4871, 5388, 4798, 8544, 110, 2157, 4617, 349, 1917, 3112, 7417, 4697, 6691, 6093, 4877, 5572, 136, 4657, 17, 5994, 194, 2516, 3960, 2547, 3293, 4378, 5402, 5751, 5867, 3157, 5217, 4693, 3969, 3821, 3870, 7553, 5709, 1217, 3582, 746, 4406, 5475, 5511, 4053, 6235, 4318, 2804, 6661, 7308, 5567, 4563, 6055, 4199, 5812, 3224, 5529, 4700, 4175, 2498, 3445, 4126, 4314, 4364, 4448, 4436, 5742, 1546, 4149, 6163, 5389, 3969, 3722, 21, 6880, 536, 4776, 5652, 3415, 6563, 4482, 6077, 5786, 5704, 4071, 8723, 4153, 5890, 2222, 1697, 4115, 4900, 7532, 5731, 2160, 4241, 1295, 1100, 119, 100, 4336, 395, 1010, 3712, 7413, 4087, 3187, 443, 1074, 5181, 5, 4627, 4195, 5093, 2702, 6857, 957, 1191, 3588, 1164, 3025, 3773, 2246, 7471, 4574, 7475, 69, 6591, 4982, 5229, 27, 4463, 4564, 7202, 3482, 5767, 4507, 3792, 3877, 856, 88, 4712, 5528, 3727, 1189, 4615, 5619, 843, 4344, 4180, 4293, 182, 6042, 4640, 61, 505, 2927, 871, 1711, 6504, 6610, 497, 1889, 4437, 6500, 2444, 5489, 1553, 4802, 3353, 4153, 12, 3825, 6995, 1703, 4947, 2746, 5927, 6047, 6952, 1727, 5236, 1501, 3088, 95, 5876, 4154, 6600, 4795, 5406, 4566, 7072, 3747, 4200, 5052, 5990, 4536, 2579, 6576, 6232, 1959, 6779, 3292, 5366, 8164, 5921, 5483, 3460, 462, 5146, 619, 703, 3462, 2518, 1386, 4323, 7613, 3508, 5205, 4541, 4759, 864, 5012, 2878, 4525, 1912, 4812, 2961, 4133, 8, 6420, 302, 3579, 656, 1861, 4014, 4490, 4665, 1944, 3891, 4378, 62, 653, 5620, 3859, 4175, 4587, 5132, 2965, 5102, 942, 5604, 4870, 4582, 3423, 1189, 4455, 6697, 4426, 5233, 5475, 3980, 6428, 3733, 6945, 6927, 6335], [0.23701298701298698, 0.36400757575757786, 0.24380136808964545, 0.2737315862524441, 0.3053641804461477, 0.2929008771079666, 0.30209155442750213, 0.28547573133936716, 0.2968572443181821, 0.5897362089706123, 0.25393984044769796, 0.3480594775290495, 0.24034090909090905, 0.2906989254184135, 0.10667082917082917, 0.2594902086605624, 0.36324274432253906, 0.2641804954304954, 0.23806054392178796, 0.13715858326636757, 0.05214097496706192, 0.11599137546302496, 0.23191869605803947, 0.6178427358204474, 0.4161600824325371, 0.16033910533910536, 0.22423962401235223, 0.012818656539283161, 0.35491859516392105, 0.3415683845012472, 0.24956293706293706, 0.30031840370229446, 0.24000644855676737, 0.30298930867112694, 0.0418076109936575, 0.09078682946242461, 0.2795107729865466, 0.2807351230858691, 0.5667968749999996, 0.17808905380333948, 0.1796950502595095, 0.257736260914227, 0.3415677539514749, 0.3583248568414705, 0.34060722016079176, 0.28746251149759905, 0.33600990600990527, 0.1978722603154417, 0.24070945945945965, 0.657190309690315, 0.3406828681268976, 0.1489718614718615, 0.25411226002258597, 0.23304328647150394, 0.1023813285644837, 0.21374957279562554, 0.29532627661454103, 0.41145592796024383, 0.07426680731607563, 0.20917794597177752, 0.28109881614983645, 0.31775606410122337, 0.35266804447518624, 0.4088651983755076, 0.26787781047633247, 0.2671816263904872, 0.348748001248, -0.015743102474736665, 0.2241049651567946, 0.2236681096681095, 0.3106676887926885, -0.18588336783988837, 0.34491190230921, 0.1985774316829004, 0.24311695416181173, 0.29447547633772087, 0.3116798412062727, 0.2794245221071063, 0.12272727272727271, 0.22453431444402094, 0.19250993749241402, 0.3289944903581266, 0.15843323343323348, 0.04195804195804195, 0.25428341617230504, 0.21616501430117482, 0.250221483942414, 0.2598514635211882, 0.41882014834758696, 0.23791171321628146, 0.1882973136907875, 0.23646554088702756, 0.19238663878494397, 0.2503926837725388, 0.2818181818181818, 0.26363636363636367, 0.32725892340143853, 0.35306033549783455, 0.25247791932643626, 0.22067069399821992, 0.2277161862527716, 0.25931170470943193, 0.14027155794397173, 0.7529398487115683, 0.47325079738123377, 0.22198077715934858, 0.0, 0.19551202251979405, 0.4807692307692308, 0.2159773981012328, 0.3267678280653369, 0.31736900252525246, 0.307986202564985, 0.21818181818181817, 0.2805959494339774, 0.7558014838287385, 0.03409090909090909, 0.2748808483183482, 0.20404990288545385, 0.26743558479366264, 0.4076493027793089, 0.2744318181818181, 0.20377280895205413, 0.3433435327298956, 0.219381309502034, 0.5605333191398759, 0.34916377227423645, 0.29363595265493997, 0.3230574937484868, 0.21418665340036314, 0.3593287989382876, 0.1443742009996759, 0.394789356984479, 0.08526421854008055, 0.2216807318000064, 0.08290457659660976, 0.1727358168147641, 0.11141448335761137, 0.17907298501638136, 0.30325804732667466, 0.1817313541578245, 0.19366196614330955, 0.17021668612949253, 0.1661353619157611, 0.24737568937911397, 0.2025486017050434, 0.3165715831787256, 0.17369955609362395, 0.3194511186964984, 0.3005464543916312, 0.11212121212121214, 0.3701390763945659, 0.2958517836502908, 0.2931826461334661, 0.11370539370539343, 0.4798160173160173, 0.14261498917748977, 0.24149066140045503, 0.22947284197284196, 0.6, 0.05530992225021783, 0.17953457519371344, 0.21414419819311106, 0.4451950221555173, 0.4682373547505107, 0.17278576185719033, 0.3483325933325934, 0.28923873312118353, 0.11419956991060876, 0.1678868387709852, 0.3510923484438024, 0.320856105699855, 0.14187453806356246, 0.26355105678635055, 0.3497159090909091, -0.036132045598479365, 0.13481510773177435, 0.1553860153042596, 0.06897343179696122, 0.27411252758679233, 0.2611243853234145, 0.3756765479009948, 0.10562647579693038, 0.20408113391984362, 0.34771164151164113, 0.19778300460968815, 0.5880531732418526, 0.2435705960705961, 0.24145906718851864, 0.17543299261783063, 0.273450676036292, 0.13204719317986466, 0.03293871661218601, 0.1142534730078284, 0.29773449926005846, 0.14115667576510946, 0.06549567099567102, 0.32504514254514155, 0.3037036492918836, 0.23027084069002432, 0.2076650035014005, 0.20145716333216307, 0.2312310295068915, 0.3268207991624489, 0.09192590416918059, 0.15065817035256737, 0.29474803227075963, 0.22112208624708676, 0.19456862964621574, 0.1732901752718824, 0.44821165482767655, 0.11308169737239494, 0.2211347960901532, 0.29554195804195804, 0.25150747417444136, 0.2463173947264854, 0.3101931763364472, 0.09648722778493778, 0.2782732386115411, 0.06251454107556341, 0.23713492441241063, 0.2637517852517842, -0.041300872920938245, 0.29473319942874476, 0.19693557062976674, 0.288119516731684, 0.24105686546463226, 0.18597541300745346, 0.22511366355587462, 0.29470702908202856, 0.2182542591816786, 0.4611570247933884, 0.2740909090909091, 0.3445638779824821, 0.10971871934711815, 0.4039393939393939, 0.196471036185074, 0.3621212121212121, 0.2941150387171512, 0.189182278011503, 0.16092529161266417, 0.24614082207936044, 0.344425568562891, 0.29049549296302496, 0.3327492482072636, 0.32703089091978, 0.03232788910074265, 0.2996621030857477, 0.20803705591928776, 0.20201334234870807, 0.29094181544049647, 0.24123273551844976, 0.25641557998919945, 0.30105059119984495, 0.0, 0.42810281065088696, 0.21109215585503235, 0.3000994933097195, 0.11757198541430923, 0.2122588126159556, 0.21387559808612444, 0.04897854022854032, -0.005867112685294521, 0.30902943606572625, 0.28073226464177736, 0.31980158156628724, 0.23390439347886158, 0.26145211911744126, 0.1881204212454208, 0.3533111338797816, -0.05258510396234964, 0.2796431702715603, 0.24306617996646873, 0.31555566542876123, 0.261544792272404, 0.38425968902892044, 0.27626752170269, 0.16979492772649826, 0.23857548701298725, 0.2222928913192068, 0.2062190543831166, 0.12062250741384586, 0.07942260442260442, 0.3186925054112549, 0.24222908316692338, 0.33601186904404634, 0.21444606206801314, 0.1157104698090755, -0.33994915845310336, 0.04223780086580092, 0.2257158854427493, 0.31247128413717634, 0.3586599280093689, 0.33058287627762334, 0.31333069014319, 0.34939043934788616, 0.35, 0.28243801652892553, 0.36853267995399885, 0.6826428164129642, 0.0, -0.013580354614233096, 0.5900457497048405, 0.28784593747447523, 0.26661025145067707, 0.22751140465076852, 0.11422930882676638, 0.20275850264901327, 0.13297625173568547, 0.3157708333333329, 0.255735147036871, 0.14436061540378098, 0.17500000000000002, 0.23620455209412264, 0.11488573741688328, 0.12197085357390705, 0.310746205271521, 0.7296154392307047, 0.37542652049596487, 0.20918696448779422, 0.2527649739437299, 0.4314860814291195, 0.16666666666666666, 0.2645981615786812, 0.3714918028208345, 0.09118462448404316, 0.32891110011065205, 0.38551643841677913, 0.16302297510287592, 0.27122625567203784, 0.24261191729501522, 0.3869050084936158, 0.25855773044581787, 0.26809140512265484, 0.29160079051383403, 0.15149147727272727, 0.15217648029936157, 0.26890436397400186, 0.21148651607795543, 0.2156228956228957, 0.03167450790942744, 0.22515224203657064, 0.2680368906455863, 0.35084208894553676, 0.16434696032153653, 0.28497777425826204, 0.3535725402897414, 0.3696187859160147, 0.29492641992642005, 0.2293087949465499, 0.3302389566535716, 0.26394543792449504, 0.2519171667682505, 0.3190111093725552, -0.09834935321595419, 0.062405691964285734, 0.24655140089155328, 0.1665485607654283, 0.22798356775865436, 0.22525312650312637, 0.19212173888058842, 0.3342262876843714, 0.2775252525252525, -0.2502107164358844, 0.26417945105909374, 0.23274799867954135, -0.3436364043735403, 0.20030344128445396, -0.2112047023772684, 0.09623545015590435, 0.7044451318677707, 0.2977450276298195, 0.31276742341627745, 0.31798297033705597, 0.5668947124304361, 0.1546793358156995, 0.23150669770481083, 0.18319827267911268, 0.1983824456987593, 0.2512677395068696, 0.2534558019528473, 0.4843732035805207, 0.27095674751856963, 0.08055011631527853, 0.10958600486950984, 0.010688389850889867, 0.15878654410825974, -0.10739394826484969, 0.34621207087486194, 0.27454545454545454, 0.2964117051779386, 0.16736002886002868, 0.16768795584308555, -0.24879503792667632, 0.27688066835125646, 0.40273496427859296, 0.2722226175650835, 0.30756677469606886, 0.2055985879200165, 0.38084557417890824, 0.2725687103594081, 0.125, 0.1601832276250881, 0.18033222949889566, 0.3660426195320186, 0.1988935645360229, 0.17440319204604923, 0.32408617804959167, 0.3054208218590267, 0.2441300590943443, 0.20253927571522656, 0.3350735479125931, 0.2556578118850844, 0.27017543859649124, 0.2393385070214339, 0.279843715606427, 0.12559185606060608, 0.19263322052854379, 0.46872321628988367, 0.15032840722495905, 0.3137137381211081, 0.26409020780737047, 0.1780515763997907, 0.4988148205410122, 0.15833230494995215, 0.20340245023080897, -0.017101413177676494, 0.21702720697024427, 0.26228862035963063, 0.2784451184780131, 0.2133358222311709, 0.22605235611383154, 0.35363831770081755, 0.22029367029367028, 0.25193944313262495, 0.16515774255317955, 0.41436776519111873, 0.2596620605004751, 0.2621212121212121, 0.03516308190376959, 0.13636363636363635, 0.28374327153109974, 0.32919142261247414, 0.25299343185550077, 0.11766897081413223, -0.14752078803549615, 0.2728329346092501, 0.219278671464352, 0.27641184573002753, 0.2512908997055337, 0.3252774498229045, 0.03923146178534107, 0.3408286444385902, -0.029535601384916496, 0.22260822510822512, 0.11318510530322239, 0.20623406567082414, 0.34879412254412223, 0.2667184272161471, 0.3296876379841675, 0.04405752881656495, 0.45, 0.3024321031532567, 0.2509106663378815, 0.20031780659645965, 0.1914300344537583, 0.35873746598847367, 0.32919586894075975, -0.4121621621621621, 0.20067362760456073, 0.2223997185080924, 0.28238225653243587, 0.0791796619306149, 0.34916325957992556, 0.42856766917293126, 0.2421041035740602, 0.19097671520398773, 0.19139404313303243, 0.2585536639895186, 0.24682294695354387, 0.33802899686520377, 0.2779000379182857, 0.14019069705804385, -0.023114430638767922, 0.26851472681076766, 0.31013056277056045, 0.05162337662337663, 0.3031343404472373, 0.1784684065934066, 0.14285714285714285, 0.1853349567099567, 0.2901157880200898, 0.36647709910410425, 0.23047210147826144, 0.14517813267813273, 0.15636055754590242, 0.349467834271756, 0.11918659209642835, 0.05244656994657004, 0.26095593842126336, 0.34519499178981944, 0.21318077051394713, 0.026244509361868784, 0.2968465393355419, 0.23652422546853358, 0.36120273109243695, 0.37129578187480133, 0.27706233397284524, 0.16660097447134473, 0.2452863057785482, 0.24265734265734265, 0.23841231209735145, 0.07532454171343063, 0.319599885408709, 0.0355647905326103, 0.1668882495392394, 0.07381419608291873, 0.16103003087286, 0.3205099645491994, 0.1556293154670408, 0.1824418791085453, 0.164538418422716, 0.16108745150952927, -0.07550092971905156, 0.31614080193205685, 0.196427816720704, 0.27938803620621805, 0.2983978594080322, 0.25044280036902977, 0.21266142820764672, 0.09059625854446557, 0.19644396344396356, 0.4105340842434903, 0.0506149421641396, 0.2963729273870784, 0.08789569805194805, 0.25876629935720863, 0.21173570856307983, 0.2523112270243415, 0.42958511789628817, 0.32443783364965556, 0.20030905976956717, 0.14157804246047404, 0.4625, 0.28687340343590284, 0.35894000365831363, 0.29673824107334756, 0.0, 0.35, 0.1535868742907576, 0.23817628010010863, 0.4511527982570558, 0.20980230994032217, 0.2732986406117246, 0.3359754650328415, -0.10227272727272728, 0.005182178932178931, 0.3034800730843895, 0.23878588785428387, 0.29355044886807163, 0.28505505806917014, 0.06603396603396605, 0.219283468104222, 0.4061299013987603, 0.297297676512278, 0.19750427010631, 0.2588592985065368, 0.3116413790196819, 0.3064965694682676, 0.24569545252255534, 0.20621719818148385, 0.29859848484848484, 0.19322161099453702, 0.35404040404040404, 0.46330448054845685, 0.25392728572558815, 0.3359973069566093, 0.040335186164381705, 0.5566641925798227, 0.22211352244246993, 0.3541225494250972, 0.0, 0.2454620237831916, 0.09997838955506691, 0.23500133689839578, 0.2312763667542057, 0.26165872789697203, 0.22244777426520865, 0.32557060667320065, 0.34203463203463214, 0.17769607843137256, 0.22981577263316377, 0.07689106106659299, 0.062481962481962486, 0.19572598027348584, 0.24330944041999295, 0.2668690165867573, 0.30799141164754845, 0.3398686665447218, 0.15500623114259474, 0.24510617579615102, -0.24521841794569063, 0.2731939237738206, 0.28911963036963056, 0.462423414820473, 0.20903198364135994, 0.3493929212483208, -0.08026817179266531, 0.2608569817171422, 0.30657984959079854, 0.18550415541017024, 0.35014786012390864, 0.23941622103386812, 0.16826708372049543, 0.22483846071960828, 0.29454545454545455, 0.2348082824616403, 0.2826888980873045, 0.25881045145330855, 0.22032591725214687, 0.16334029558551855, 0.18584626755358463, 0.19716313005536457, 0.2880865773673551, 0.18231404607297433, 0.1708333333333333, 0.2226801349661035, 0.4899113082039921, 0.2896398624970051, 0.18682477446217896, 0.05924322590989258, 0.2881063622170176, 0.19792099567099558, 0.2267224318201971, 0.24545454545454545, 0.3329277454615744, 0.22368037727776094, 0.29908412483039354, 0.14388547733603432, 0.19522178801590553, 0.35247177445669836, 0.300611801707353, 0.11327571753872326, 0.4847602787627021, 0.18489288897377135, 0.327220453157953, 0.34700426126282996, 0.19659239340331172, 0.18830874283829144, 0.2426611043277703, 0.33521319682362544, 0.1476298558709625, 0.23668849651297497, 0.1408246689771589, 0.14934604402689505, -0.34770605310745895, 0.23937331438529508, 0.17875849150849163, 0.3098706577974862, 0.29977898095359495, 0.1974298231888592, 0.3025751672569853, 0.3496056462916915, 0.18356556725028686, 0.11818851966538794, -0.16081348877797164, 0.15942208518550802, 0.23107434455624754, 0.19370612682026286, 0.17959330871471427, 0.2511508057160234, 0.25200058107440576, 0.31382575757575754, 0.32824428612461587, 0.2446541382346465, 0.09847558363675314, 0.24531080031080024, 0.3410343869315161, 0.23136281647645301, 0.17857142857142858, 0.24270137712529072, 0.08423773224704889, 0.2356531286894923, 0.2586973370500821, 0.040000000000000015, 0.6048951959498725, 0.27030650457497035, 0.3216225749559084, 0.08942307692307692, 0.25783870565884953, 0.3522818945760118, 0.21653525046382194, 0.2561120917917035, 0.3389605186480187, 0.10884237966921237, 0.23391614823734044, 0.27655502392344505, 0.3225510923185341, 0.027067950688080555, 0.2795553413416378, 0.5327532467532468, 0.2700803957946816, -0.004129546262659412, 0.09504299754299751, 0.3922419892024503, 0.1298256490860397, 0.24318181818181817, 0.24680512457061143, 0.23436705490276918, 0.3225299808066791, 0.3246037786502895, 0.1821529641157738, 0.27680881110759153, 0.22233093441954163, 0.22064218439218358, 0.36141105970053244, 0.4332304962396235, 0.4144427053432437, 0.18554698486227136, 0.3006246842171218, 0.24943328068328063, 0.18358023021217462, 0.22455913817982776, 0.2623243302591128, 0.14906451477325264, 0.2258910327767464, 0.2698874458874456, 0.24662601723599895, 0.3063093850593848, 0.20622606341945976, 0.07691165297287732, 0.31360528106871804, 0.26504010695187163, 0.05897259520140875, 0.37030303030303036, 0.2914534542096868, 0.17763794281943096, 0.28439364903389264, 0.23702896954236227, 0.3251950941074264, 0.26921294970894133, 0.4047165507240136, 0.32080172020961484, 0.11312511623221624, 0.2953570138257161, 0.1606945366069454, 0.29078932178932193, 0.1489818979902776, 0.2397348144517954, 0.24110430194805174, 0.32007442408781633, 0.08507737473254698, 0.2979135286327063, 0.07835568344787751, 0.04072275749638238, 0.14714443606440736, 0.19014980527526987, 0.05386890709503569, 0.057168118548118464, 0.19228219197776386, 0.28624994888152683, 0.2796953046953047, 0.11329836829836785, 0.43305431965154173, 0.225880593973126, 0.22371741379965038, 0.3308760119353329, 0.4776597697301597, 0.2928947612102691, 0.3241139069264062, 0.4769839720606589, 0.3448231931112361, 0.09207421661376769, 0.327685452162516, 0.3381870799550354, 0.2200117611979853, 0.32480465120876045, 0.31069190518219664, 0.21036501377410471, 0.0645505586116941, 0.1626217780690258, 0.2305830086580044, 0.2894030263869902, 0.3660656764495347, 0.5023109340154791, 0.15745129870129865, 0.14277000777000784, 0.3627394790324174, 0.2390725271378536, 0.22543124214495172, 0.1070151336880917, 0.30788993506493445, 0.24616749244678907, 0.34584771811260795, -0.0060606060606060675, 0.11714979794552213, 0.35285667498978, 0.19045737087340125, 0.22859225014116297, 0.20999148882942817, 0.26739701858554293, 0.47841614906832297, 0.12110389610389612, 0.3429418569935807, 0.2007437116260639, 0.3784157240608856, 0.30264563471210865, 0.09934563632615541, 0.297841541820599, 0.30242164897015567, 0.275273693091153, 0.17507222369467249, 0.2394922787918229, 0.4952442834942854, 0.2989582069021315, 0.37235639226364947, 0.22227559081644657, 0.22524189965783828, -0.0496955006388386, 0.251619728586022, 0.2562664579010733, 0.20743194805194629, 0.3342942496864066, 0.2800820491310919, 0.31567021061839695, 0.1179691062313665, 0.37968333545539346, 0.2678306044890207, 0.4826564548304425, 0.1716839420360545, 0.15226043503821274, 0.25440715224251786, 0.21155494304285796, 0.21043306250045002, 0.23326633562515972, 0.27168560606060604, 0.06984361678135499, 0.19967283454009105, 0.41010538728372625, 0.2554602315372888, 0.2599577007499537, 0.2661547358712304, 0.32727272727272727, 0.4025956985388225, 0.2859365673945699, 0.3196299567099561, 0.3134164090563622, 0.14087510885615842, 0.18669057278083648, 0.22131535131535118, 0.06462645506385789, 0.3680439273860314, 0.44263019561891953, 0.1888598580906273, 0.1567259206629016, 0.33072448384948383, 0.44000000000000006, 0.18280909031930825, 0.4387559808612439, 0.1581096681096681, 0.22972646484970421, 0.33599784401949756, 0.26332915079907465, -0.02916813806348687, -0.03617233031985675, 0.32087028115253824, 0.17950899539538354, 0.22973231140444245, 0.237644835912162, 0.19121716351829984, 0.2746488794652057, 0.07715984346779046, 0.5589042367510607, 0.1821047323888233, 0.2119402006480206, 0.27210231041010907, 0.43727717234278185, 0.3043994455836555, 0.15956492794486227, 0.3812852664576806, -0.32348030902146785, 0.34510511710511793, 0.2792256985438801, 0.31253108225108234, 0.2713917318884201, 0.22239550910522007, 0.22115382881007895, 0.2901639292080468, 0.21287878787878786, 0.06163649096002028, 0.33038064876300144, 0.41904746702572804, 0.05263157894736842, 0.2983164677961631, 0.4893072102182998, 0.23506493506493506, 0.14925170852835828, 0.19935064935064936, 0.2553590741469525, 0.08187799043062201, 0.3493178480278134, 0.24314995495198577, 0.20495384245384243, 0.18922914262340462, 0.2687875520705709, 0.18730802148274714, 0.170565953654189, 0.0, 0.32413382529962786, 0.1795454545454545, 0.34430379802261113, 0.09159995418207066, 0.2930309411500449, -0.012567114019347826, 0.2659465221495294, 0.29094663974237117, 0.13299907773386035, 0.21750978306063048, 0.2539975413668794, 0.6580083779741315, 0.5242063492063491, 0.25848572825024413, 0.4190292758089368, -0.07575757575757575, 0.30624384556787976, 0.2742709928354034, 0.25125482532329635, 0.24965010002877064, 0.35905640253466203, 0.20672777336042647, 0.17334537528199453, 0.3342859224109215, 0.24435994687131057, 0.20634298506168258, 0.2998627756666341, 0.268211167363709, 0.23209480004122854, -0.29339001329459835, 0.2789628007651263, 0.31721071667303286, 0.020132167695692288, 0.3273486154368497, 0.1396233766233767, 0.36081722255017606, 0.0280619311436486, 0.4311720279509664, 0.28804719179020805, 0.34743749306249216, 0.15649911616161655, 0.08026230978947273, 0.48075776467920844, 0.33673653679653587, 0.31760255026730694, -0.010156545332601682, 0.18461321958548582, 0.2740262725779968, 0.19847021399652978, 0.21173357594786166, 0.26603838639236876, 0.16664065864327615, -0.10184948719523157, 0.16123188810044486, 0.26949727861135614, 0.17362511946927497, 0.4125, 0.2945276097947856, 0.25152528278173425, 0.17866331853158512, 0.0, 0.17570744761043272, -0.23589654635662202, 0.22569837289147623, 0.40738347315210666, 0.24041216088028777, 0.34725222146274776, 0.2822328734133343, 0.34754356446511725, 0.2596136736826394, 0.20941011332006587, 0.2656344787037193, 0.24627344877344876, 0.039593757957728806, 0.3115178200794639, 0.23787218259049206, 0.29560640508916375, 0.11456067645092037, 0.050878994057295755, 0.10909090909090907, -0.3, 0.2814237658366098, 0.11645021645021644, 0.05288156356590407, 0.09934218121060209, 0.21095093094607645, 0.26421250318309153, 0.18053877474984031, 0.28739756835481706, 0.2869325912183052, 0.26619670887276314, 0.3152267052547955, 0.15248218913140363, 0.29048361445465065, 0.32247470062405065, -0.04851291432448074, 0.22929472243442822, 0.29773561215119637, 0.375, 0.2019302615193026, 0.17478513816200364, 0.05505291005291004, 0.15032275428145372, 0.15424031986531989, -0.03715108397891467, 0.2597104854810331, 0.6118383091267589, 0.3205459307359304, 0.24867955929729196, 0.18454825594758759, 0.16492199290071624, 0.08196690257899238, 0.20317415531262709, 0.45187433663673304, 0.1565202791617881, 0.18906285376436452, 0.128032908449575, 0.23110795454545452, 0.21949378236142944, 0.20782763115021144, 0.22925978582820705, 0.24603340662864476, 0.21269845256033143, 0.1919191919191919, 0.23667020273455855, 0.36937064208056586, 0.29738556100996205, 0.5443228777443296, 0.5926050140335841, 0.13465687876065244, 0.09080226793605707, 0.6596822759485937, 0.18174390968508616, 0.32304203206587145, 0.08566671423814284, 0.32075741334608954, 0.27775861814401964, -0.041925991160567014, 0.22968181818181815, 0.18027871209525761, 0.18442513368983962, 0.5175391556009538, 0.3192961684246889, 0.14321806761378553, 0.11223762248581734, 0.23912620177680355, 0.42982692825716123, 0.32423293984095547, 0.367337582466734, 0.12463640855192219, -0.19721612139204203, 0.29838765401265344, 0.2484128396703694, 0.265789956432011, 0.13518241578847648, 0.12072489177489175, 0.31262500454727243, 0.2394349327997581, 0.280769728223645, 0.21041767874685588, 0.15219131422813104, 0.26186079545454544, 0.30723359433651093, 0.14483882245996774, 0.2195944406470722, 0.3225815001325206, -0.07737535453052696, 0.1627003905575332, 0.12548805902895113, 0.1921072974644403, 0.10207273019773022, 0.1447019647019647, 0.31101808397471886, 0.24222421442570688, 0.24217740069155122, 0.13709658698789132, 0.466890702755189, 0.20967412217412226, 0.3058837445082789, 0.31357668433099367, 0.28662593730674074, 0.31044285775001007, -0.6523997459626204, -0.0518909529935474, 0.2935789557664554, 0.24360278558506127, 0.18504792580031393, 0.5974508103444985, 0.23764350852908867, 0.48730036459766346, 0.19780797809443626, 0.067360130811218, 0.1838045274746552, 0.2042827054741947, 0.22640721660043406, 0.15845170454545457, 0.26866096893302766, 0.27503050395455425, 0.15029790535742907, 0.2760234522758792, 0.08992863572071495, 0.4121212121212121, 0.49096753631895707, 0.1262119654925409, 0.13154123173603688, 0.3327586206896553, 0.15937904087254745, 0.3621466666666666, 0.27909357517917016, 0.3248566914917624, 0.28654041376413336, 0.19498477253740407, 0.1590909090909091, 0.197126954280731, 0.08434204223623314, -0.09460242295018373, 0.5336238095238086, 0.2097934059987632, 0.3502352304558171, 0.1974564373897705, 0.30378393066161286, 0.24772461087995054, 0.05280099064807314, 0.28617768779285546, 0.22795038295038272, -0.16721550139358474, 0.1757734248374059, 0.19554180471642924, 0.23759150871650844, 0.3272865068357433, 0.37351677734030786, 0.23484848484848492, 0.16620429850904547, 0.3990764516638364, 0.3741384429867933, 0.44307799618978305, 0.13914507193549894, 0.36681169409139913, 0.2163862999745353, 0.3455629163750414, 0.24081848806668907, 0.13599257884972177, 0.36079873883342, 0.3365963732940247, 0.38570646486676907, 0.2919180920705307, 0.17654821458347986, 0.1849810755542799, 0.2659656247707096, 0.1960421380528776, 0.25759110365290017, 0.17720399144506266, 0.27524015228270465, -0.11685379542937704, -0.44906165216578814, 0.18474049619847893, 0.2741891706177421, 0.35227084355163085, 0.2872133590584077, 0.2417213119350426, 0.27033637207731886, 0.1933881051266838, 0.22520642937309585, 0.3235341671751066, 0.23545870586699658, 0.3006043771043771, 0.20152503746253794, 0.23533621681348932, 0.2899305606508987, 0.34611256607112867, 0.2562311246737474, 0.26821910378957314, 0.1823364849259045, 0.2261966089466091, 0.30527391651441077, 0.12642364180322277, 0.3459523690333161, 0.20092971857963723, 0.3240337245679819, 0.19979886607049235, 0.40797558715659227, -0.036389230139230136, 0.2109184117318084, 0.23463560182833873, 0.12763809523809513, 0.10134133923241652, -0.12222225524285248, -0.10125534075045434, 0.14201558596719885, 0.10242581510267938, 0.16736400392060777, 0.045403408490991656, 0.19486138326627866, 0.23895838164811362, 0.3058570671982517, 0.17680941852615667, 0.3122498051421399, 0.24990031897926634, -0.16888323891736495, 0.101867825375288, 0.26601803369044746, 0.21724353377714714, -0.003296002791068717, 0.15397202628167087, 0.09199494949494949, 0.17470276747062552, 0.18477474906046337, 0.3619200231412207, 0.26079780603340846, -0.31124733265947435, 0.2643870176347167, 0.2618361773885032, 0.30850758525100647, 0.23763435661912757, 0.1238492654886098, 0.2970848484848481, 0.2472252073044326, 0.4649287677661651, 0.3090909090909091, 0.12350794992753368, 0.20506701965770965, 0.23181802572427557, 0.47954481575934904, 0.771743759487266, 0.3231924297591443, 0.21083024347447446, 0.0, 0.30490702479338844, 0.2814479367899553, 0.13768065856952688, 0.1526166541791543, 0.25497530707244626, 0.22659034579300408, 0.047937410298596314, 0.11477773214927364, 0.21591125541125622, 0.27894038299134905, 0.26701243201243213, 0.18257511427965992, 0.1838386320346318, 0.2245564516129034, 0.2692110481660905, 0.43409090909090914, 0.30076439642229086, 0.1541659800772703, 0.22808431537598212, 0.1573361215473969, 0.37491765935214133, 0.25247039724980863, -0.4384977732100049, 0.3784142803126753, 0.17411728157437956, 0.48284319993180747, 0.4339961373801141, 0.23523406245967182, 0.2523841354723708, 0.21456719128329302, 0.1602333254384924, 0.38831168831168833, 0.5576923076923077, 0.22677898961879567, -0.0331232814648162, 0.339587521961998, 0.26105501414324894, 0.14292929292929293, 0.29565688144694097, 0.22883121686006247, 0.15671415245874495, 0.1428356111602191, 0.2306818181818181, 0.2904626892593305, 0.26144867037724184, 0.2399920079920082, 0.30440725373627237, 0.5666666666666667, 0.17500797165061557, 0.19625574398632606, 0.24288808609231116, 0.290465068806532, 0.02158906134515888, 0.18880838858111593, 0.7692534622606185, 0.050773788468341005, 0.20405936920222636, 0.32137788266260464, 0.30089962121212116, 0.4398424613103516, 0.25135441323864954, 0.31526653621350587, 0.2534665334665335, -0.12208358351605363, 0.21155532753410103, 0.2691697477163986, -0.5446844821844736, 0.3575660890502387, 0.2964329325889218, 0.18730043062500348, 0.2527856775992364, -0.07744159860462252, 0.19023961496787672, 0.32879883700416546, -0.04263016066707341, 0.30290757147748637, 0.33936301793444645, 0.2711964681057141, 0.2524559790858484, 0.1108044064988509, 0.4048276268002838, 0.3031239886731385, 0.3557645666962434, 0.10149575789174346, 0.2798092252575011, 0.2505616373155629, 0.3453603063603059, 0.08795554785350701, 0.3202682563338301, 0.6768038097767829, 0.0, 0.056863201428419136, 0.3895634920634914, 0.2799766347980636, -0.1428030303030303, 0.285983914167367, -0.02927508396154346, 0.21469247680083153, 0.26639285714285654, 0.2573343109881584, 0.10203411046784544, 0.18236824191369647, 0.4165121359074678, 0.3000302763551002, 0.38194417522775737, 0.29783594552929044, 0.21716251982341062, 0.1929033780427222, 0.3341383776096008, 0.23610333243145704, 0.28964484957162706, 0.2264808740110464, 0.3338969840400552, 0.31955838876570586, 0.27988303864809877, 0.21255830489192237, 0.11732169040636783, 0.26751357527489916, 0.11254277422218144, 0.2678967817576681, 0.3359724305178784, 0.0, 0.23361816442187355, 0.43658008658008657, 0.32769051954722106, 0.3485067720519637, -0.41484374999999996, 0.25, 0.033030303030303014, 0.040876000061778994, 0.26419541603590685, 0.2863699114848536, 0.42108214046033376, -0.046032783474434937, 0.13141657539247897, 0.2118811938749958, 0.3343958037760562, 0.17050409357568186, 0.25711096835428365, 0.5406465677179958, 0.07439878104351784, 0.19326342376273953, 0.4970075573101226, 0.32572501028383377, 0.27572850828461093, 0.1778636363636364, 0.1342964158746281, 0.24956985233117546, 0.28146951229448053, 0.29476203649658794, 0.7292517875383026, 0.2079263013409355, 0.14336369780147076, 0.3129055268040223, 0.15990668422486562, 0.23407952986656663, 0.2580639891279205, 0.16286377436023217, 0.0, 0.2558238710830456, 0.7312392189774438, 0.22395210776278743, 0.2072975831614576, 0.26852408770091674, 0.2917888563049853, 0.23507705565147746, 0.0614056936921259, 0.12272727272727273, 0.17866624643974405, 0.178698922541173, 0.26638886791503064, 0.26476434855467096, 0.18283475511416705, 0.15183943566473684, 0.3722700851574081, -0.0948185761267169, 0.2389044543585908, 0.20779969126480716, 0.16109920556154123, 0.3061817151102864, 0.30289576569264054, 0.2733333333333334, 0.09518403049187144, 0.23636453184325526, 0.2561920361920347, 0.21166223927587585, 0.3005711758630539, 0.3072076231060595, 0.13117771464646494, 0.24862507058159197, 0.2643697462874677, 0.3039984243213722, 0.4910139103320918, 0.265563815140555, 0.22277548209366402, 0.19428299478299424, 0.275085379702457, 0.17224542708265572, 0.2131930767645051, 0.3877777777777778, 0.24111494482781565, 0.1966898513549065, 0.11101045296167251, 0.23840766152086867, -0.09999999999999995, 0.05845872613004594, 0.05189304591539228, 0.30696657781810655, 0.1157926345954516, 0.3288512677798389, 0.3424752654134946, -0.16666666666666663, 0.2803354978354975, 0.2905929065575362, 0.25855184297902717, 0.11917718783980599, 0.11965510111778775, 0.27710791327316686, 0.0, 0.08851234905445417, -0.3614512164768832, 0.4921200238729971, 0.23499861296657235, 0.4247977502947687, 0.22339066458779985, 0.7924183347233802, 0.21775771330119134, 0.27932575757575756, -0.021553479041283668, 0.2937445887445881, 0.5869781524753549, 0.3446180585418988, 0.30499084861217246, 0.1858225108225108, 0.29059645197145123, 0.25245512858526503, 0.1308583687174659, 0.4604271792818048, 0.3508084074717934, 0.20078856862921518, 0.3229309160883335, 0.3933831672203764, 0.1909611618540195, 0.15009817847593476, 0.26521345223211606, 0.32961333904191026, -0.00295584415584408, 0.27182296216489016, 0.3660754411548903, 0.2537518475676366, 0.415133851831582, 0.2688827776700904, 0.2115848017818969, 0.12917133700419772, 0.0709683871158632, 0.11941037357704018, 0.18456131045063828, 0.23666078389107426, 0.22957535885167465, 0.062396694214876064, 0.35714285714285715, 0.25097579743359794, 0.1502479338842975, 0.3046917971734142, 0.18234145860599327, 0.13758956237292472, 0.34092171921910813, 0.13636363636363635, 0.1665168666898579, 0.20237762910490165, 0.21105519480519483, -0.20203562933084834, 0.4464081373172284, 0.23571408529741866, 0.31449331345441367, 0.05897391846564027, 0.11957211662509667, 0.4051538786883642, 0.17127002113596582, 0.38570637452216344, 0.13659934947299038, 0.3421916620062554, 0.1469194468206442, 0.253212393369564, 0.15779566453447025, 0.2734866235144896, 0.0362735849056604, 0.45392138482689737, 0.24448051948051952, 0.24051948051948008, 0.23337489593739585, 0.11241277379337081, 0.12171501153537076, 0.066197670930817, 0.00487459213671888, 0.2138737576318568, 0.2744514971139961, 0.2053496790565756, 0.1345181134654819, 0.2407987883536328, 0.3002216437776776, 0.2458626478508364, 0.2361930226636105, 0.31299932995684104, 0.1541666666666667, 0.0, 0.27262931034482757, -0.20751253871869305, 0.39649527631076054, 0.424793388429752, 0.19687336917425183, 0.18764477969160723, 0.18382215007214994, 0.18369358419358411, 0.18275064935064947, -0.49657175167412326, 0.04677292404565133, 0.40239989880250066, 0.2731324008601662, 0.2835061235061235, 0.27469374911803873, 0.2543853953064476, 0.20380398137216268, 0.15927622605704797, 0.14755538579067967, 0.45755993716931187, 0.27480883757769103, 0.21714872047783276, 0.41351470100871995, 0.3760072959995728, 0.13638470673868897, 0.2703821401344984, 0.1761987976360295, 0.22202534546966857, 0.1992563758080998, 0.266477619143182, 0.27917265520723833, 0.17136912335979196, 0.6334769030141594, 0.5838366710320385, 0.17717173511949574, 0.17005171475231373, 0.3028879276211593, 0.15787634105025408, 0.16551767676767684, 0.19560589730342764, 0.5371520349844644, 0.11487741188310384, 0.12401515151515152, 0.12207736266384384, 0.2925302336274279, 0.3201542505113936, 0.14404780248000487, 0.3092677657573292, 0.30070332287917334, 0.45625, 0.2040516388373533, 0.3404616682571953, 0.09244616181940131, 0.42828036500944056, 0.2787968051232508, 0.24516678936373731, 0.3210797057880385, 0.3311018346732633, 0.32103607503607473, 0.38221400401600614, 0.7218537949047188, 0.05750768555116382, 0.14910161502172253, 0.292197446791414, 0.24139622062580468, 0.19017704432581714, 0.4417280134314368, 0.33488275613275564, 0.0867297754329005, -0.0017224189951462266, 0.4097170641657124, 0.22102285714285666, 0.2285529652233437, 0.3091260748787989, 0.28749492814877303, 0.1, 0.30715709728867624, 0.23334320987654308, 0.32222593582887715, 0.22518698731636724, 0.33372900002866834, 0.32489544432677486, 0.44917982617211416, 0.19796709455131872, 0.17925775880894568, 0.2640633964429147, 0.27833411667697316, 0.2539811515917704, 0.0, 0.22119195872620542, 0.3395724158882051, 0.13309500837213112, 0.2545466454395024, 0.22369096337745842, 0.4275284090909091, 0.462828316762832, 0.229553645895389, 0.21514264289010457, 0.33616308861206745, 0.18618609059785535, 0.20062813500504184, 0.20262173733129588, 0.254924085005903, 0.01689049586776857, 0.03183600756977829, 0.3106505364201016, 0.2191693722943724, 0.18592664056373717, 0.17857297925954585, 0.2013597480363946, 0.26564403504744305, 0.1278059875270173, 0.14213597009051554, 0.2559674790230349, 0.10454545454545455, 0.24054768041237143, 0.2804366018120665, 0.1956326711583205, 0.25012295081967173, 0.5658938692412787, 0.1721054053300428, 0.13636363636363635, 0.28001307470920633, 0.25553600117128417, 0.20803331689407617, 0.1750543642404107, 0.16247065969834498, 0.12, 0.012818372559752227, 0.13407003860098618, 0.03223905723905736, 0.38949115388280997, 0.22852379357904196, 0.3013077755577752, 0.28862571491768474, 0.3367565248760891, 0.3094389175238394, 0.3034778527181842, 0.2852525933186307, 0.3294565411114695, 0.4313662805662816, 0.1610917748917753, 0.18561419540724183, 0.03642239601194831, 0.359551246144696, 0.3105681508081225, 0.3326264576264574, 0.17942147551522497, 0.2729816497604954, -0.17960733029412748, 0.2815704416481613, 0.24940411685444738, 0.18993295322563597, 0.2509123035884653, 0.3007246703200459, 0.076090962041141, 0.24471590909090915, 0.24498012099476535, 0.3144556899590038, 0.11303633328541077, 0.093708787878788, 0.30389480933739327, 0.46230845892075956, 0.2778409090909091, 0.49508410880458, 0.12284205693296613, 0.36217152080682397, 0.2410070191713042, 0.31750841750841724, 0.07633576469192904, 0.40921509258341326, 0.21411069990615428, 0.2697945165945163, 0.21328929172679117, -0.21656038622835747, 0.2408225108225109, 0.2239790326188498, 0.2711093464015534, 0.3289049569394091, 0.2526516577235134, 0.11313561745272269, 0.23121694901293183, 0.2905738022716107, 0.1100521986495267, 0.15358700309842457, 0.2602492742216054, 0.07777519821874651, 0.21702839238950336, 0.3343216121675942, 0.348355977355977, -0.5983036343501467, 0.2331689435765515, -0.16666666666666666, 0.21632483370288252, 0.3051948051948052, 0.23678927168510522, 0.07553198323746284, 0.3175789141414141, 0.2469428528987345, 0.2825669990595361, 0.32265723000871505, 0.04316206280491995, -0.09141324940559244, 0.31158563342504103, 0.2183454438123856, 0.31593104962670177, 0.28080897770124263, 0.32366181116181103, 0.24319428129559545, 0.07451353238027358, 0.3492187750521084, 0.26878195392178406, 0.22429874009899595, -0.033520452976974605, 0.170914502164502, 0.23636290062276846, 0.12469174969174962, 0.5, 0.14993199368199353, 0.25537625857288776, 0.34967544180206445, 0.2902779312885693, 0.28646140274291515, 0.2837331030551365, 0.1768803713493977, 0.34446675912244706, 0.24720336330336284, 0.2292016579359014, 0.2848180208221524, 0.2236882514905487, 0.2698281083995368, 0.29036183073292526, 0.24931736656312933, 0.07120623141031308, 0.2563003180762329, 0.4944329783870242, 0.25150231738521656, 0.1159337314471243, 0.32383907314799576, 0.1906527978194642, 0.125, 0.2961399227170999, 0.35461876368245165, 0.3890409693954486, 0.2660040355770984, 0.22497483137018015, 0.24502954759761666, -0.0446640565317036, 0.11289557794230468, 0.15231633741844958, 0.24363146136042158, 0.13479412060807427, 0.14303623238463678, 0.25514057516432004, 0.3510864649929823, 0.28721609895951994, 0.22069021237303768, 0.5625, 0.27015966123205293, 0.0, 0.2068717837210986, 0.3551597051597052, 0.11190599173553722, 0.23249894671427465, 0.4025783506030237, 0.11336836262650997, -0.7666031932154855, 0.2777468442772167, 0.28373516915183605, -0.22798817074398273, 0.17187083150474794, 0.16612166760098412, 0.19247546058592568, 0.08992981482174567, 0.19130445625275758, 0.3143909943301534, 0.09433007725033589, 0.2513784947691197, 0.1341282700553035, 0.26186003973692423, 0.28217329545454545, 0.30712043638179964, 0.3467418162361986, 0.3343361487267181, 0.3526676081625494, 0.3327112887112888, 0.34626416840157265, 0.2636618976909356, 0.352028194506642, 0.2800828206880835, 0.2006730457501385, 0.1783974197899851, 0.20224542261017642, 0.2241521225809763, 0.19227954228477234, 0.008758544764787452, 0.21178849721706866, 0.20912785676501305, 0.28412414750054327, 0.2997490333291297, 0.32953175236069887, 0.29761836578846856, 0.3595144442311919, 0.1830458586596688, 0.1658435138308016, 0.07891913793470312, 0.31697082569781837, 0.27739973962467845, 0.3979555103531003, 0.23107936507936508, 0.3174693863235529, 0.31532535805316164, 0.1886394266111248, 0.29993217204434397, 0.23213299193047815, 0.1852342698315854, 0.14251762218045103, 0.11109138257575756, 0.24851539690929184, 0.7213219899259669, 0.13747334754797438, 0.2516089006534868, 0.16363636363636366, 0.41345947115947135, 0.08032085561497326, 0.09918036390692657, 0.29912023460410564, 0.2584688394672422, 0.3354338754338754, 0.36839190032354896, 0.29528100230918003, 0.22558881560664654, 0.17071075663466967, 0.14957912457912456, 0.4083959958959962, 0.42153382331953865, 0.2215674752244998, 0.3515607857055216, 0.35717281786371213, 0.3932603406326033, 0.341230260889552, 0.3073483953240383, 0.22974646257020373, 0.2774341033887346, -0.015909090909090914, 0.1870537294563843, 0.21629225932797366, 0.34007398901911084, 0.39243200489606156, 0.3321491008991009, 0.20728388710856163, 0.23712949243150577, 0.24545454545454548, 0.3691152648742775, 0.006818181818181818, 0.197526567213156, 0.21778125329954579, 0.20203921234820085, 0.25924187481153177, 0.2245564931463431, 0.2999168817724715, 0.1807547924712099, 0.15189287238583005, 0.3322165141468931, 0.3169548841962626, 0.28347659893350796, -0.5567488443759628, 0.22683084907516707, 0.27590236846486793, 0.1640494309061722, 0.23172236866543777, 0.20606612774980126, 0.279982018304068, 0.18318831168831173, 0.10991376011022373, 0.07531102866678571, 0.11803375121198471, 0.18488783943329395, 0.3278168879731393, 0.3183901772131073, 0.282072417792332, -0.038942739487345536, 0.2655086918290041, 0.22780517666690803, -0.019412008281573405, 0.23825511226775786, 0.2635379689754683, 0.34240736861704607, 0.3305383372988338, 0.1552377213869673, 0.25437389990961407, 0.23573525522728675, 0.25216213888152633, 0.21200613498988108, 0.18640076094406255, 0.35145398080180695, 0.3483595211372976, 0.2838462982595633, 0.37830119944281665, 0.15750765710324524, 0.3614092606739665, 0.3308228861697072, 0.2789232877111665, 0.24067355026685114, 0.3378739549254816, 0.22492728068962298, 0.38424378732041736, 0.29091821164700965, 0.1537337662337663, -0.024881854777267346, 0.23160395679087267, 0.35965681616327233, 0.1054637691853588, 0.05646267406102197, 0.20773407756626952, 0.09189882697947215, 0.3164056922609553, 0.41590869496357186, 0.35844869558897763, 0.23401391736918065, 0.12873477998794453, 0.2994169531448934, 0.08214150432900422, 0.43983059071294156, 0.208679223769897, 0.17908314803476108, 0.3193172335314192, 0.42142581339829116, 0.13928571428571426, 0.06273061429311419, 0.10378787878787878, 0.19317000413491658, 0.4687104033532611, 0.30396445659603544, 0.12509520140876101, 0.10402529336491614, -0.12477250258392124, 0.20148148148148157, 0.3575438532555873, 0.4549093045573596, 0.3186236424394316, 0.16305573988055486, 0.22769009564832504, 0.35241886764920455, 0.03787878787878788, 0.16063275253424922, 0.31536731452968525, 0.35120447081654, 0.19457641258699712, 0.14241782420478058, 0.32754874970953013, 0.09557489552294825, 0.2079974752093825, 0.38642801887080025, 0.23229381307648836, 0.2279590814982121, 0.25388637626964433, 0.238422201336675, 0.2818159246370569, 0.16729206123737358, 0.16723116883116876, 0.24559784193642445, 0.5962365783290324, 0.3051544258512472, 0.27063368648894953, 0.03225915875169607, 0.17926913512019896, 0.01727302873542429, 0.37098702735317657, 0.2587112536761835, 0.16258705063052886, 0.3262000542731251, 0.1972458042778236, 0.27473829201101935, 0.23350268558601886, 0.28617810760667906, 0.21149906934316173, 0.3532396873099346, -0.0199412941336473, 0.1470557016822839, 0.26639307707718135, 0.42646373513952046, 0.1968341519269591, 0.36169747591118473, 0.20308037489631955, 0.17303332897161616, 0.33235895824605527, 0.3108772599949072, 0.27804198342308006, 0.32273306784748435, 0.18144471026049988, 0.36043334298910523, 0.24108378153832694, 0.21243315508021401, 0.22155518539431546, 0.05997430917991666, 0.33588036404311755, 0.22806699356462298, 0.23092418418651714, 0.24993267631550953, 0.23613738462795067, 0.2648649063869884, 0.2448227183006975, -0.23969490854919287, 0.12645640074211503, 0.10930631048043125, 0.2766269841269841, 0.19625420875420874, 0.2582150472983807, 0.04404761904761904, 0.23098382275364843, 0.08375279810230177, 0.228632811349648, 0.13636363636363635, 0.16543120941558428, 0.25504101971554727, 0.2664432849403381, 0.08713323713323715, 0.20373551180002794, 0.1432806324110672, 0.2500245966155057, 0.3549844521675509, 0.28956137337089677, 0.1482886002886002, 0.15582233340430063, 0.15192916002126525, 0.45426618137283775, 0.44897470950102547, 0.35338827838827835, 0.4130591752261206, 0.10576813394655996, 0.2160320385320383, 0.050000000000000024, 0.12716047085674548, 0.1886968154631193, 0.29909531146819285, 0.13081550802139047, 0.5609656517925771, 0.27254542235954865, 0.2982038291820897, 0.3972070658647833, 0.12254156349487091, 0.2557958355102749, 0.7379818524970964, 0.30121554528334193, 0.3751738878937156, 0.31878984161878743, 0.24005697484570718, 0.0, 0.27933413855768763, 0.12717796431211068, 0.20484990352967858, 0.35960266233766186, 0.15320281012091366, 0.4247223579884861, 0.2385373772568895, 0.6195234641979915, 0.2998824766782505, 0.11249935580292737, 0.26237775226259596, 0.25319046731956596, 0.3080096304661523, -0.1509398353228756, 0.05531879153710159, 0.6000921189496612, 0.2972028728846918, 0.24722271039358185, 0.21145984438406196, 0.25972588791137174, 0.12906670101552156, 0.24847177128427123, 0.2963361476080768, 0.16162488631816363, 0.27497033189033093, 0.0, 0.29810382455010515, 0.18674149126735357, 0.1763714594928878, 0.2965810276679842, 0.3176360429693761, 0.22175678210678215, 0.21510111143538083, 0.1314382308867574, 0.395483517220243, -0.06117680339462664, 0.18528853552192856, 0.2353009044526899, 0.40195161447031696, 0.24829596504124804, 0.3097768765392441, -0.10232713075454987, 0.20035614503699628, 0.24193654693654645, 0.2646224146224147, 0.33857665800865683, 0.25992136223991047, 0.2879801382159214, 0.25119992683372927, 0.2980292580982235, 0.6258064516129017, 0.4747246127366606, 0.2704636591478698, 0.22358216825691327, 0.2, 0.3065395518090471, 0.0432341073288265, 0.2099062994259498, 0.20352628410914947, 0.2948147151993286, 0.24555985385772544, 0.10365021474396326, 0.35254409710094176, -0.037608818122516124, 0.1326994434137291, 0.13674055829228238, 0.3073818773818764, 0.2951489765378652, 0.22701274651274594, 0.1997526536176839, 0.33411271808999005, 0.11973472531514989, 0.1108698114055254, 0.3236362628055169, 0.3744037598204265, 0.264616402116402, 0.31255411255411264, 0.24893238110400936, 0.3922727272727272, 0.22028523875114792, -0.014519647019647015, 0.2204832225355204, 0.27621270684582383, 0.42075299544400613, 0.313744915991136, 0.2031347402597402, 0.27598829128652413, -0.34521423969072795, 0.2582877676958801, 0.2932913246244946, 0.21116274716274702, 0.23561372430775399, 0.27238755240073287, 0.23161312460149663, 0.19917891177042563, 0.41512727272727273, 0.25310328560328677, 0.20640764664407366, 0.19970385674931126, 0.20054322111009984, 0.11209270253555975, 0.2713719526087945, 0.32589285714285715, 0.4042859029349817, 0.27331346457372185, 0.35032321554414547, 0.1670228765487377, 0.007770177804601192, 0.08784350021200074, 0.35656555108309435, 0.12793371722617017, 0.1908459595959596, 0.24124554896736033, 0.10983997276132125, 0.19566312595240712, 0.23126484848484816, 0.1573305034783631, 0.25723005351130307, 0.46900260724124354, 0.13501369112814887, 0.37236224097391496, 0.2199221859970813, 0.33015873015873015, 0.20478515503635114, 0.142876618446094, 0.6094513516515206, 0.35890169936446453, 0.3043573008768255, 0.25991287948074004, 0.27345633497434446, 0.2760062889088328, 0.13553117903978293, 0.37041078954158435, 0.1590909090909091, 0.0, 0.2132871396895787, 0.14794561688311678, 0.2647441747015608, 0.2862325228961836, 0.4112160194968757, 0.3839702771879562, 0.3666573262685951, 0.2489292870871814, 0.10930138703863268, 0.18070057581573884, 0.0668750000000001, 0.14163183559735282, 0.3529200384215583, 0.15744094781365411, 0.23952883010486659, 0.2840109067053933, 0.3568052594171997, 0.16491847041847044, 0.18653337890180022, 0.269642857142857, 0.08509384611506063, 0.2135840256234993, 0.1340536937519694, 0.3301339166897501, 0.23177647698895437, 0.24471248078740035, 0.16911961079672685, 0.34121051844253475, 0.2604892419408547, 0.26759797220323533, 0.2748351158645276, 0.46967185496616687, 0.005376775155738536, 0.3743166770840562, 0.2654022837066317, 0.15815373445120284, 0.22421151498074565, 0.07983405483405481, 0.10733137829912028, 0.22944141579528426, 0.3999725791975618, 0.27484227807733397, 0.19860743554139776, 0.3451046288080442, 0.23085369470338749, 0.2899028772951186, 0.23030954482410776, 0.165625, 0.25435538495999666, 0.256804096744335, 0.187614265579382, 0.3657673566652435, 0.2723092627069894, 0.3919653880070539, 0.1823146508373778, 0.3463203463203463, 0.26979282926884635, 0.044444444444444446, 0.22799236623509173, 0.271660548786837, 0.13636363636363635, 0.13965367965367964, 0.09365710678210687, 0.29487565044383096, 0.25525566100566094, 0.38955699985934517, 0.15355152411283005, -0.039256232543704785, 0.2811761418853251, 0.2406587187516042, 0.2963976954418126, 0.08926700895394164, 0.2877107279693487, 0.19424885743771195, 0.2368121391164219, 0.3434314601136159, 0.035487873447092554, 0.20890147446538418, 0.25846047156726765, 0.24871415360851953, 0.25782156432417713, 0.10247121988419461, 0.32775974025974025, 0.2741709353428102, 0.21384148796939498, 0.1940340909090911, 0.09869240202498794, 0.3011099172985008, 0.37712583480171386, 0.1832582582582586, 0.24912219817219822, 0.26271106548680084, 0.2510263018095913, 0.07483187251705781, 0.01653756567998317, 0.14415584415584412, 0.3961313804866005, 0.3526312631263123, 0.2678977272727273, 0.24037472196311926, 0.17609183105451698, 0.35, 0.2404656285072948, 0.2739258948936369, 0.006106410673608911, 0.05805726531532986, 0.22530511929930547, 0.23738356471115105, 0.47922879637208576, 0.32703388565457553, -0.040804521968744616, 0.33877221282720577, 0.12829653359934015, 0.23024215367965342, 0.3116244084305524, 0.2612259016439074, 0.25180584866522365, 0.09299654150197627, 0.20921069600860873, 0.06381449245565347, 0.26198358245528064, 0.46044642060589114, 0.3720031223498575, 0.1780916853544936, 0.20210265924551638, 0.08530303030303028, 0.2800211438344571, 0.2184407616922957, 0.27858450488607667, 0.29434614428633543, 0.3053854817459303, 0.10385346976256067, 0.2310208250225313, 0.4444444444444444, 0.6763776713200397, 0.25722697174620174, 0.2608141411644868, 0.30405596924507566, 0.22848411392529022, 0.2562518678445075, 0.3760071194352893, 0.07638628732378747, 0.32864832535885175, 0.18098506279199345, 0.23811641763254676, 0.15542360493387886, 0.2731812432359304, 0.32071493066042406, 0.2624523047076861, 0.24729115757392675, 0.34191609848484816, 0.4001510692351445, 0.5101366979603863, 0.1191370435120434, 0.3305585745725409, 0.23414620568171388, 0.3110126289955838, 0.12934408941442177, 0.1980897707646409, 0.6535551296093453, 0.32285329899985094, 0.23518390069526376, 0.20672786652875078, 0.2597440583698854, 0.05, 0.7079836829836836, 0.7212662275784053, 0.32129938953468323, 0.16315789473684209, 0.21396828439964843, 0.320030303030303, 0.0898011826295, 0.3103277674706246, 0.38483907396950884, 0.18918357803278388, 0.2601848073940318, 0.2781425987363085, 0.20405933885629315, 0.26600535714285745, -0.09210930361449253, 0.3137361495303735, 0.2902678868750297, 0.2926939223458207, 0.0, 0.5180819339895759, 0.3771159874608152, -0.13130143789613247, 0.17661688311688314, 0.3632468721754433, 0.19078385303642348, 0.2399926395289296, 0.1672430830039525, 0.09478013608731627, 0.1694281486509818, 0.5515622032635548, 0.23681896282411719, 0.36141001855287563, 0.24633761968737317, 0.3343426590466055, 0.10519480519480519, 0.09090909090909091, 0.154736822001528, 0.3220560112402216, 0.3, 0.3072223252937539, 0.2679284182886364, 0.11864757775119628, 0.21841856060606066, 0.2506303614585825, 0.2013735795021745, -0.31999856992577985, 0.3536897404920648, 0.0, 0.09380165289256198, 0.21904088273787226, 0.35525717949293023, 0.14871212121212124, 0.3205953027715968, 0.29437881115300496, 0.01420062370846338, 0.22857756015629366, 0.1275060340126437, 0.30352520161882357, 0.18579106988249838, 0.31652358678849274, -0.10746954378954508, 0.2571036156665716, 0.18567372808709395, 0.24713442899283627, 0.29822307900432843, 0.4855249519477037, 0.19694512398684272, -0.13914422554082537, 0.2518801816264912, 0.2591575220644992, 0.08755298119456652, 0.508463969120896, 0.22942643816020394, 0.2663961645830806, 0.26666666666666666, 0.26908688533688535, 0.19221479366299646, 0.39524105812220445, 0.24246572871572872, 0.27817902967902947, 0.38804874040023346, 0.41774827774661716, 0.6050456657163976, 0.3084536361799438, 0.23237395274708672, 0.17249791652198015, -0.0618835187800701, -0.025000000000000022, 0.19458639317970763, 0.2086099105525596, 0.26606844506844496, 0.251617150242377, 0.27133544749823824, 0.34425834209732475, 0.24445263303326026, 0.1764554429310527, 0.6185571268676648, 0.298433660158825, 0.2085636363636364, 0.26104220779220777, 0.28750676199757286, 0.33216003162175367, 0.2857576142718491, -0.2542653739295581, 0.13181818181818178, 0.35004266858258387, 0.2612566988734151, 0.16266615013774108, 0.11000063661828367, 0.36018125393125267, 0.34236612306268854, 0.41276213865499717, 0.2106206007732715, -0.23827163065547632, 0.1596498894255766, 0.2609028471528472, 0.2525217311881324, 0.32866469115055125, 0.0, 0.13897605292389173, 0.20372185285978406, 0.16459699031127592, 0.14234921911913095, 0.3025466630246741, 0.26974896424180417, 0.220498762684878, 0.35885283454594963, -0.057499999999999996, 0.22795125164690386, 0.25335357181927515, 0.315040445359828, 0.0, 0.15091314935064942, 0.39145933323922455, 0.3192344961240314, 0.35907263578832166, 0.1522207792207793, 0.19725157306789914, 0.19317680840664717, 0.009032072275550532, 0.3495504495504495, 0.25913478847884797, 0.20118296272073244, 0.25449569716409054, 0.4956084036238777, 0.2703804652873203, 0.34766422235173, 0.3054521867021867, 0.19080605113905302, 0.3337343434343433, 0.2715025252525252, 0.30311004784688994, 0.35090103896103875, 0.22026421356421372, 0.2510730577666063, 0.12994608070500926, 0.3068381901020789, 0.25745983183483157, 0.3302066367514262, 0.2586363636363636, 0.36062570762570645, 0.2644281282733055, 0.11383273711506052, 0.2473566723131939, 0.23196593825336323, 0.04587702199580653, 0.31225403384494305, 0.21090909090909088, 0.1715634948708878, 0.1874562937062937, 0.1898096372936528, 0.28583446404341933, -0.007275537878228107, 0.1519535557035557, 0.45357142857142857, 0.2398545454545455, 0.23804272186147105, 0.3227232088234769, 0.09881141585687037, 0.24258826207805748, 0.2200953848411477, 0.1611713661713663, 0.21760044109413193, 0.11186121570736954, 0.35, 0.23242717675731994, 0.13633757752549047, -0.10923997697284064, 0.41709421402969804, 0.2560454033146331, 0.25789964866051834, 0.23411719233147796, 0.32453642516050435, 0.2700707496063445, 0.16730966810966824, 0.21704735626460858, 0.2028254933051445, 0.20848063973063977, 0.21683817084512594, 0.12181252379542276, 0.23960194537972346, 0.022178757365982033, 0.5042050545780389, 0.04380838459785828, 0.1092498050356506, 0.577145467132629, 0.26140463477789566, 0.4183283835558007, 0.35, 0.017580463015245677, 0.020265151515151503, 0.1755033154676009, 0.24948010849909566, 0.2247569176666562, 0.18326382013601736, 0.24126923729864902, 0.40839942161663356, 0.2982716644421369, 0.4439229267464554, 0.2323983886483886, 0.04140441115387812, 0.30226128411612213, 0.17083282996073657, 0.1416638616485552, 0.3074035115656368, 0.18973771326712507, 0.2620446596717783, 0.21275310623625224, 0.27148760330578514, 0.25910827297190897, 0.19461279461279463, 0.09111524537409503, 0.2812900725400722, 0.1559005875077304, 0.3283286664673486, 0.2969021044198976, 0.13742018398268396, 0.2730606321782788, 0.16351932950770132, 0.3239031702581618, 0.3156719095719094, 0.21904926175015457, 0.3877259327973615, 0.162730578781948, 0.23592884525113392, 0.44166666666666665, -0.1017195781780381, 0.15944842166115464, 0.5961984333822524, -0.6621000068572365, 0.23202933530314498, -0.04098254507474557, 0.3138361638361638, 0.3506150099900095, 0.04363876863876864, 0.2358225685425682, -0.06377614391422674, 0.24568762072730288, 0.19402958773871, 0.21567346938775456, -0.021682379545653822, 0.2460769954220428, 0.31017395594601477, 0.369567850121541, 0.36950559990468146, 0.5846263300166091, 0.22547787801989605, 0.2151311855731749, 0.31396163197533056, 0.2786273104733592, 0.4567368229222564, 0.32505873927806933, 0.2650716291610689, -0.05442777057853628, 0.1872494734994735, 0.2294315453454109, 0.07057706383067383, 0.22799732719987087, 0.2627350514069258, 0.19341989759752937, 0.5421633825944171, 0.270354860866343, 0.4056977253765053, 0.23573780070140823, 0.4068666246174191, 0.18995059404150305, 0.15777537068042288, 0.281422924901186, 0.27587053883136825, 0.2943334397842594, 0.3596155634582256, 0.20499813928761298, 0.2440449794108329, 0.41989153975795185, 0.2801019984581626, 0.16905438311688312, 0.18912871723576713, 0.49804803992303914, 0.178111420128628, 0.18191871005047844, 0.2612063656040927, 0.25191866422584486, 0.32900606895783674, 0.14579307533395996, 0.16218639315230224, 0.2586417900070131, 0.241186442123942, 0.23140388257575759, 0.2204053001672043, 0.20995664460338276, 0.08969006630136214, 0.2879219535254019, 0.2911131725417439, 0.19357317136144175, 0.2937455009868804, 0.24156093793135758, 0.1389879210975744, 0.3342735150597342, 0.23697673279626827, 0.09124625374625378, 0.30915330040329997, 0.3506602066146109, -0.04183083122144517, 0.2518552875695733, 0.5944521675507564, 0.16246705440549408, 0.3755262361861742, 0.4052990298032194, 0.32987699864634906, 0.20093067179733828, -0.2425680646410277, 0.4246498599439775, 0.2315442211085361, 0.29715193408741775, 0.30163961038960846, 0.31288866930171216, 0.24861387234319535, 0.2406567202638633, 0.10087493235930739, 0.211156626769774, 0.27195547761241196, 0.2411016271916085, 0.33699683401175956, 0.15257267743037461, 0.0, 0.22011402722478174, 0.2484413532754765, 0.3712154295786718, 0.09655464216634428, 0.32944601150483477, 0.2919812658605757, 0.19231925379472817, 0.2131141934988084, 0.35, 0.36026296594727175, 0.11962554596782801, 0.22701599326599264, 0.18787539922569257, 0.24069095998341242, 0.21135163321526937, 0.017991099809281628, -0.060687190366793264, 0.16547723527231706, 0.322840750867067, 0.3759376399462606, 0.11590517969368072, -0.041187377582361885, 0.2803074798764452, 0.22819407730912236, 0.1368705518799858, -0.0435178366879401, 0.2580452312523854, 0.2328956582633054, 0.2989501369703318, 0.29781880875327393, 0.2739698725667265, 0.3018867649204723, -0.26, 0.3373283641241383, 0.24031373785546734, 0.2153026224194564, 0.2228437765294508, 0.20908090744917096, 0.26584087787212796, 0.14672020323280824, 0.3021994134897361, 0.40622170772588556, 0.17545869096889483, 0.3604756106988239, -0.0041569693416493, 0.18061055520071886, 0.2579818181818182, 0.29163214788415615, 0.2593279161961228, 0.1867981884246944, 0.26032391705958574, 0.17993506493506492, 0.3939580856996093, 0.1003820542301428, 0.18149249482401653, 0.21788805950020793, 0.22963057541709364, 0.22400965747280036, 0.27300002095645187, 0.21804639376775947, 0.2380674723733855, 0.006441033713761007, 0.19248213512677767, 0.19823684751887238, 0.3687176792240185, 0.15644160817300767, 0.6120640066980082, 0.30101010101010117, 0.3544417308355362, 0.3469505984211871, 0.19991229426379772, 0.23566644155844138, 0.3424693844479941, 0.3565569493180911, 0.24875186289120718, 0.29875682667433123, 0.2809569677257939, 0.3023372363593763, -0.03322310765828101, 0.20219835129409575, 0.2841704339963832, 0.24456635318704284, 0.2033964042337246, 0.0, 0.3517112010531065, 0.20745989825777023, 0.256599025974026, 0.13656405323071985, 0.19099629957584538, 0.3181818181818182, 0.24035236081747707, 0.2884149029982364, 0.3051671753745483, 0.2546030129461734, 0.34502830057642875, 0.21981009154779618, -0.12181381164555945, 0.2872655122655122, 0.29728506554136713, 0.03389037238945725, 0.07730563744367387, 0.30611677305745044, 0.2854141950898, 0.21389103176569113, 0.2170254360283263, 0.26231302146527036, 0.087653588926044, 0.2757200802669546, 0.2145798473591025, 0.20311945534448667, 0.2597588924356593, 0.40324675324675324, 0.140899508352234, 0.20179980938601597, 0.30425172565721764, 0.8356317394726481, 0.23527316976947524, 0.2873879775195567, 0.09724338161838163, 0.2811684790263966, 0.41468650495509973, 0.3553929592420152, 0.19361469834784437, 0.2228299192216717, 0.5333333333333333, 0.1557486994797918, 0.267353577794754, 0.11131604254985084, 0.30890924660670777, 0.40493336251763207, -0.4788577624066778, 0.3817922680567685, 0.46809272227085286, 0.09763519564355828, 0.13636363636363635, 0.13600574794259834, 0.17878889339826845, 0.20525443193581655, 0.2534354868586243, 0.1984650969385101, 0.1413150615081953, 0.22058304163284653, 0.13583181233181224, 0.2458868608868609, 0.227019963667285, 0.18411638956281812, 0.20936363636363636, 0.33271959684955243, 0.13912478462368202, 0.20653233534912935, 0.31001192124288557, 0.2609509520980102, 0.2964980515404239, 0.37675469435023523, 0.29968215153341693, 0.21261395158239796, 0.18829842731108168, 0.09343905352807437, -0.06691848676437817, 0.20651364415448886, 0.33356334593676323, 0.2358232663206482, 0.275186706470263, 0.07997800254923723, 0.2932999118409445, 0.23123469387755047, 0.18414749738279193, 0.029507076847502364, 0.18627623022257964, 0.38170350845437956, 0.23757132335257328, 0.38930565048986127, 0.2808639850082801, 0.2582609022873275, 0.26395450311709445, 0.31535440558466593, 0.33818366358330876, 0.2166868044914468, 0.28721832221832216, 0.0, 0.08056758056758058, 0.6, 0.33317868639297177, 0.4652173913043478, 0.131153765741834, 0.12824261215740315, -0.0801543512757335, 0.10382113321605282, 0.1740004201968085, 0.2851037285515945, 0.2577420771052843, 0.29545904312138, 0.21087575757575763, 0.1918589760579558, 0.10651403856191091, 0.4938775510204082, 0.28058851299592036, 0.17857142857142858, 0.12767971845278567, 0.1764229421372276, 0.4688624071401846, 0.27600668562207015, 0.17778221673372774, 0.2604291068061923, 0.17947620246789203, 0.4004557441503634, 0.2774463458881003, 0.2886750465736532, 0.14688173572459315, 0.4421271364294629, 0.3400870199692709, 0.3122344336847817, 0.3356090146412725, 0.3251458214975059, 0.06439393939393939, 0.18343685377982893, 0.1855036034559178, 0.131940485767919, 0.044835404048631136, 0.08578472352110418, 0.25541926110419283, 0.34477784193070365, 0.3228578268984581, 0.2891543115974928, 0.0970081072479118, -0.28947368421052644, 0.24468432000899534, 0.07130299130299121, 0.2153649527693059, 0.33073001777471933, 0.21250897631779941, 0.1162576187350554, 0.3088796784505176, 0.23764634212747426, -0.16677602294127464, -0.0666625693555286, 0.15148395148395152, 0.06418625787849455, 0.22737937195080055, 0.17568327195192868, 0.22076494068701882, 0.1350635518327823, 0.21203168044077136, 0.2493155938264635, 0.1500586854460094, 0.16074254986085337, 0.1279436307587926, 0.2716509364859614, 0.14942496248771148, 0.420060597877233, 0.21375072816365684, 0.3163760661780465, 0.33517979622678507, 0.20301613537977126, 0.30649470899470876, 0.2696996021996018, 0.26307899770568005, 0.18704043426720607, -0.15, -0.20613833136560478, 0.22360635815927735, 0.44047623944682823, 0.29977796942640655, 0.1826545165945165, 0.22369935190534804, 0.24262884030617562, -0.14990469089734063, 0.2653334568031884, 0.2348537784679089, 0.13401715883999077, 0.2408626831883712, 0.3191343059352922, 0.4258406783916206, 0.0, 0.3252200351731592, 0.37878787878787873, 0.20501763821420282, 0.058046567368601296, -0.06645636933489088, 0.24833160552897401, 0.2770257366090695, -0.007062259923175411, 0.3808276393136773, 0.07331269397269377, 0.18702959514280262, 0.2980174927113696, 0.3621332548170779, 0.18994072668361217, 0.11694759074356277, 0.2612373097570909, 0.3943745884853673, 0.32429112554112494, -0.06088213295465209, 0.07682878655896944, 0.2594393602942826, 0.25394413567994367, 0.23616271284271215, 0.24798312014413693, 0.06955701078582432, 0.2167365121710488, 0.3655771109497821, 0.27572106728761, 0.3024956709956705, 0.2402750800961155, 0.12611968164866996, 0.23621479774705548, 0.2862840288828423, 0.2991522823168389, 0.35141881405062253, 0.2809978132089109, 0.2501209753176297, 0.3716011982188447, 0.42509058842392106, 0.22790335594465067, 0.24094489274351544, 0.34029382148666354, 0.1289551263433051, 0.3482954545454546, 0.19185064935064944, 0.26416708506270375, -0.057836990595611266, 0.23251632907210226, 0.352361131377985, 0.3416666666666666, 0.27792140243293534, 0.2372511471536955, 0.14733352960364363, 0.3463636363636364, 0.3167359256786824, 0.20485376267568006, 0.3067305857407897, 0.5785539215686275, 0.2404991029991021, 0.13328372802461766, 0.3144365389803071, 0.17348744385186377, 0.33805557332650904, 0.22038577538577556, 0.29199869424054226, 0.26316520416520384, 0.225466157289496, 0.19538703870387042, 0.2280187417815402, 0.17400913900913906, -0.009382081457035783, 0.18, 0.2709953417103513, 0.242963454685207, 0.30727515255828497, 0.184476848046468, 0.18040312324210603, 0.2734432864054717, 0.2877001356852103, 0.31751892269253357, 0.20382805098871576, 0.18377342677647557, 0.20695117170244684, 0.34567968619363143, 0.07851326921479133, 0.22169314181866454, 0.23991724738675968, 0.22833002983283893, 0.332213520735507, 0.2649563820018366, 0.17037660646645014, 0.2798030347113843, 0.2705292073628848, 0.2696144342275729, 0.2551968054385432, 0.41045436356360687, 0.25460424496138767, 0.18691937095162883, 0.31329205516705233, 0.3129644618946937, 0.44687499999999997, 0.22408697363242816, 0.1818885281385282, 0.30927292404565143, 0.32765825876786925, -0.4851128713240773, 0.06804811248776757, 0.20142743711042665, 0.2692580194132988, 0.13636363636363635, 0.3260129870129867, 0.1669000072451955, 0.1818799704889927, 0.22878560606060627, 0.34200414210956326, 0.26921997933796693, 0.22789289205418248, 0.18293807641633736, 0.23943951789766765, -0.048937103497525405, 0.23633531320464174, 0.18634115955208708, 0.28908705849406513, 0.18923549138632922, 0.2703770516471048, 0.2789315388912158, 0.26113317764683397, 0.25467492824635657, 0.07667736325727752, 0.38770020174571723, 0.33135580952380883, 0.2401253665242137, 0.3123398206731526, 0.19903173407317035, 0.3192608378322653, 0.1752201248988948, 0.3228991873429211, 0.28507098440099865, 0.0, 0.23446950907888425, 0.18539329988193629, 0.25582370902906604, 0.25927763165104956, 0.08996076839826826, -0.26504812717770415, 0.36739841269841234, 0.36187304075235105, 0.18209309712027022, 0.18407270759543498, 0.16383669282106775, 0.22454056258993635, 0.24959788215776257, 0.525, -0.14887399752408906, 0.41277680874090256, 0.32285631725930153, 0.44514674730757053, 0.2892189191017316, 0.6420563182325913, 0.16523795128692306, 0.14130645473929057, 0.5, 0.13454281107848176, 0.22570820991873625, 0.3057210031347964, 0.3541478669999794, 0.19468329504430573, -0.06851346124296069, 0.19226419120785318, 0.367861977586276, 0.2641638608305275, 0.2323956107183955, 0.27183937274846365, 0.1628544769531717, 0.06321042111792675, 0.2407841778051634, 0.18772771681206313, 0.12397017045454546, 0.2506229252411515, 0.15481818181818185, 0.09924843962523379, 0.28120744335029996, 0.37636667312786726, 0.3172337501108444, 0.25893280498543614, 0.24760124581857498, 0.7360175245881881, 0.27810606060606063, 0.19692660272841178, 0.21985275211365848, 0.17604023093077373, 0.023010216992471712, 0.38570900552734394, 0.3068750000000001, 0.27762393180412637, 0.3235360256182167, 0.35396915584415417, 0.2395525736721747, 0.18648982548277232, 0.3161743862198404, 0.5471177944862154, 0.24727272727272726, 0.21775588994338962, 0.23474346034524826, 0.23164557113232584, 0.3012867712561806, 0.3228146571896563, 0.18863833313833236, 0.49974464305109184, 0.11129495504495517, 0.2781645451678563, 0.047764024881532856, 0.07069732960248173, 0.2641432900432901, 0.3905520892151324, 0.3071018360452634, 0.34860389610389503, 0.1306453931640491, 0.2696612349914231, 0.3626481227460777, 0.14790242070854306, 0.33565827369908935, 0.21153470185728263, 0.22475416652897554, 0.20917369322220083, 0.2029647983595353, 0.26460658789393665, 0.27150496562261267, 0.24718884531903895, 0.12291739517005604, 0.1552315820543097, 0.20656033234652202, 0.16339750557812227, 0.19037715099389108, 0.25120159021674143, 0.30384942388711206, 0.3191298444299832, 0.4175788497217069, 0.19052477152477182, 0.06746509508443409, 0.10248050010518024, 0.22724051741908885, 0.2033680044854731, 0.28786897031539854, 0.3858602298685318, 0.30948482388823284, 0.5736994327511602, 0.13712121212121212, 0.2423133776792311, 0.35880857839478436, 0.24273083313553298, 0.300047069332789, 0.2511966997590552, 0.21143385485905172, 0.27793538100839404, 0.11863854219373705, 0.16247835497835494, 0.38247500945926455, 0.30911733147804493, 0.11489168726010833, 0.19725075822380875, 0.15876033057851244, 0.3736389667444027, 0.17036700030330618, 0.08485860440867195, 0.2872333807744764, 0.13939393939393938, 0.2894638694638694, 0.06777903363227598, 0.24321326042378857, 0.1974621313645703, 0.28757266542980825, 0.2152091263621431, 0.04242424242424243, 0.12165738516802331, 0.32328822625582465, -0.11386629674673243, 0.03377599843765259, 0.3311779769526249, 0.382471325403568, 0.151964611146429, 0.227522715157976, 0.27755315506656053, 0.29258027069749043, 0.22768362138620096, 0.15314669974220538, 0.2510958319278122, 0.17413326927646708, 0.21667358186772304, 0.45444069441004037, 0.32261533134648585, 0.27159457153112054, 0.07485164202599756, 0.30290312158266236, 0.4351054504594037, 0.2476289766827144, 0.17227251015445472, 0.23174282333718327, 0.17910282931354354, 0.2640274841437632, 0.3899413531646418, 0.20394296425224248, 0.2163225200725201, 0.2675843807433342, 0.1556587702421034, 0.40253176869668916, 0.34521878121878163, 0.37040049500953326, 0.25779582806573914, 0.2677041534317071, 0.1678803339517626, 0.22423074872582255, 0.08584970701322917, 0.06591483714698076, 0.37111415882967635, 0.16183330226392584, 0.31273621786376893, 0.0006791582401337816, 0.2437756687756687, 0.26885475635475636, 0.453896103896104, 0.16460743801652858, 0.21818432900432905, 0.2561112646219029, 0.3094953114127867, 0.18435204991087345, -0.06142191142191142, 0.3078907638860615, 0.05737951807228916, 0.06751101928374638, 0.21874771814530863, 0.26015617633191807, 0.14474378257796694, 0.23633099704528185, 0.11547674796274994, 0.2641675561881042, 0.23324151109307317, 0.19202607241243633, 0.19248113872129557, 0.24760912464159185, 0.2294889190411579, 1.0, 0.2545875162019974, 0.2697511564625847, 0.14044105245403943, 0.2773186092618862, 0.24878586103162367, 0.18941940412528646, 0.1766765092720824, 0.21769098548510307, 0.267950937950938, 0.3229695540308747, 0.05379258422736684, 0.1987763888094284, 0.3639491876192057, 0.057499999999999996, 0.3301166236047654, 0.2871410859136239, 0.2673137495284793, 0.2319855840538289, 0.20844930370833992, 0.14453806371745037, 0.29818171310889763, 0.20043372859025016, 0.3181116450216451, 0.38468553746722656, 0.29308319841856395, -0.16225354504152856, 0.1295975813177647, 0.21129074214275992, 0.250328808330776, 0.2049519856535447, -0.12564102564102575, -0.13980405559352932, 0.383281119994212, 0.32092326536725146, 0.2901838175517756, 0.31775681739185335, 0.3004310352306338, 0.21458847736625486, 0.45634828458254806, 0.2815026608729615, 0.2784292427948016, 0.25002686968204185, 0.07858090570144165, 0.22177903892555537, 0.10445226824618178, 0.3126218820861671, 0.31809938765897317, -0.030309267827980386, 0.12070707070707071, 0.31381345926800464, 0.29671463111356694, 0.29351980572556235, 0.4252933591231464, 0.24624245159790187, 0.18311339198435977, 0.35311089430547404, 0.3213330262414927, 0.18285796274432634, 0.20264158802827875, 0.1575226667272119, 0.2418538207823916, 0.2282059064124277, 0.3384167635846738, 0.23023246061528288, 0.19039806486461078, 0.2790502340562156, 0.018901029481870068, 0.2599671482363792, 0.3294341690871252, 0.2207238276990184, 0.2866980034890483, 0.03608699659961492, 0.3935580428343583, 0.19630681818181817, 0.4104389742910149, 0.12144293285928269, 0.2527172207512012, 0.3221239858539631, 0.16856060606060605, 0.28395979020979023, 0.24989570545540657, 0.3094405263610562, 0.3487218396327127, 0.17708373867081698, -0.37285802957546177, 0.2266482810561761, 0.3219583883413673, 0.34842078754578654, 0.29472531436817123, 0.09809362022625379, 0.381831943776387, 0.3150180785123967, 0.263145342312009, 0.2235787533125934, 0.3073011755422311, 0.03378561736770692, 0.22396972608855975, 0.2745551033665788, 0.41721105875831493, 0.19336150132870392, 0.3437029158580878, 0.2433167342861213, 0.17620146351110788, 0.2833644032567872, 0.2991898658347737, 0.2578789799132002, 0.36206539369330054, 0.3265169496652404, 0.34418119380619405, 0.4546663828535877, 0.22892578193964777, 0.17766595842882613, 0.2079764166182074, 0.3364027025459177, 0.22426323676323678, 0.2205799338256062, 0.1556084863412448, 0.2147709013889994, 0.05248356581689907, 0.04999999999999999, 0.2535446962075481, 0.23338737545895882, 0.33290645620089043, 0.1938481064390152, 0.6831313131313123, 0.2512987012987013, 0.24556912468844286, 0.23970825274016763, 0.3699704007285969, 0.22222221262779784, 0.11664951155958347, 0.15174825174825174, 0.3511763305850439, 0.18725633625633598, 0.14458868144690773, 0.30093024130044205, 0.05072784358498647, 0.2524560432127394, 0.34097356094426345, 0.11366285761022621, 0.231323438466295, 0.229400458177344, 0.02323232323232323, 0.1480716253443526, 0.4043534306195596, 0.07924012223359914, 0.2598447909376049, 0.23645040443427542, 0.06371778345340501, 0.23085676854473858, 0.5694527164706745, 0.15682645785586916, 0.15276785714285732, 0.45780789141414174, 0.10476562682374528, 0.18892512897414826, 0.23640696278511372, 0.03333333333333333, 0.33613801752154776, 0.17303340107729365, 0.14929951020675714, 0.19364478114478123, 0.15283500590318774, 0.25672695262483913, 0.28058794922749636, 0.26624271413110695, 0.1649092560857266, 0.2755433358875112, 0.20413202182432968, 0.4339123560055757, 0.3141743870051253, 0.08141167359008653, 0.24154465113967621, 0.2768132064694558, 0.21691190663593266, 0.29880902127170256, 0.04286233618905193, 0.19656344725937855, 0.273479209168864, 0.34945003469812624, 0.30148126130520464, 0.2715326302399199, 0.22573626343517852, 0.2967996365336781, 0.18828080741275197, -0.049295564099713696, 0.12500667669375914, 0.625, 0.173301058784294, 0.028558833179860077, 0.34627084877084924, 0.31129781618629143, 0.31501623376623383, 0.24829516765988402, 0.17616303108069578, 0.6007211148922342, 0.21757463954777984, 0.2939598575279155, 0.13264987122582017, 0.31771250679145413, 0.27634584114061744, 0.09759036076705246, 0.21943917748917735, 0.07644356896236583, 0.17755839122118205, 0.47777080597305316, 0.43572835242888286, 0.12240140912015873, 0.2538828217237301, 0.7202430440771356, 0.4150944293801434, 0.424111586589609, 0.30415560759822974, 0.16269754254678892, 0.24130926197458452, 0.26856293685323873, 0.18153988868274587, 0.2462921901946292, 0.31235713004943755, 0.22554266582356478, 0.3877572493643918, 0.2987099214043999, 0.159909950893636, 0.18117518187830664, 0.2587539171027974, 0.2911579890874637, 0.38571235474572313, 0.2772907466853512, 0.10630666733877728, 0.2765525701622652, 0.31480523607311267, 0.1918266369047612, 0.21150019437690676, 0.2706906446627257, 0.2736144681546622, 0.20396035754369074, 0.20978439829401357, 0.347262825525258, 0.019523423579887164, 0.34914338646815124, 0.0998554421768707, 0.16906723484848502, 0.16378869648869643, 0.3964059196617335, 0.15198154173000167, 0.0, 0.3638536060888994, 0.4797032008395725, 0.11755547465501656, 0.20125391849529778, 0.29735119047618946, 0.19558851792258827, 0.1537998091147699, 0.11421466433463313, 0.32262524875269943, 0.18302675937631627, 0.27736013986013985, 0.595069538056884, 0.21330073644814618, 0.23541087700178606, 0.19552733679047155, 0.27188747494116555, 0.3095326720523571, 0.2833038173947265, 0.23596380471380482, 0.3701433426386696, 0.334298138334012, 0.2474162846956959, 0.24518116758001168, 0.18286735098962154, 0.11826553635894797, 0.2308432044146328, 0.2355226953243555, 0.2847863197696675, 0.8, 0.2065714402556507, 0.380699438302743, 0.11452300666692354, 0.19751531801531771, 0.17930977424779082, 0.1643939393939394, 0.26720755629474996, 0.2697354957642034, -0.04555861169398415, 0.24100325700460978, -0.018043060497172747, 0.17823426573426568, 0.31765848841879774, 0.39612191969334687, 0.20096801346801343, 0.37469033546432934, 0.3185308099073913, 0.4067951119393431, 0.2191554352448556, 0.14919413919413935, 0.3927819307458476, 0.3152942801878971, 0.2219824075804288, 0.24937604912094724, 0.09410928693947558, 0.33281313541256635, -0.07150993337810556, 0.18206600361663655, 0.7139885605168294, 0.27942709506293223, 0.1846255727871421, 0.500641814081923, 0.3211696569829102, 0.20180735930735966, 0.35413855897987934, 0.17623209224827935, 0.22965367965367964, 0.23737781036168135, 0.23822680024007456, 0.21421288991382445, 0.2039270406128958, 0.2808485067860068, 0.22920983725619457, 0.27900613275613245, -0.06080262208551692, 0.14089271227460212, 0.284665222493956, 0.2505500996528223, 0.40788403515676275, 0.22219687639946192, 0.31833284724962263, 0.06818181818181818, 0.29030612244897896, 0.20914372209155682, 0.2984330952380946, 0.0641931754662329, 0.14689948263118996, 0.28069097102056434, 0.1516186711838886, 0.33703308596165665, 0.273107768583432, 0.17932792423810393, 0.18653011974584494, 0.2308664192949907, 0.26725389346425865, 0.3652897947864666, 0.2899426036926031, 0.2968500797448166, 0.12827237135076527, 0.3359910145876523, 0.38902120717781286, 0.22862971242062893, 0.20549504212004185, 0.1453879326941587, 0.27118692135115474, 0.2620409829691263, 0.027612863327149052, 0.3282938068586978, -0.3499999999999999, 0.36542449230436563, 0.0, 0.3320186285345857, 0.24094357536403033, 0.13791811558205005, 0.2173713114842145, 0.2837225591667216, 0.32842763542763515, -0.06495067843882085, 0.3244109068897201, 0.24882661198450678, 0.13993458922030358, 0.19152261767768075, 0.24236343959071244, 0.40446708463949854, 0.17914363414363393, 0.2194797652985805, 0.3024091244672641, 0.1640660809778457, 0.27794822661515606, 0.2634358572974644, 0.36311429758231406, 0.17895398377993302, 0.5036173646605692, 0.24994889253141653, 0.32864493996569466, 0.23906624102154844, 0.2476317784879693, 0.19749155882876832, 0.23095481297728454, 0.14052014896867804, 0.16869061454643797, 0.19402944648933942, 0.5, 0.36869277752898433, 0.26393540669856463, 0.3074451839240562, 0.0, 0.26158082505729496, 0.3431621049673781, 0.2365645104316978, 0.14943678160919538, 0.6148323071350903, 0.1405194465931141, 0.15023735733963003, 0.1922047203160743, 0.22526586118799238, 0.19756812317403283, 0.24171063311688304, 0.1315438871473355, 0.20489220147249326, 0.2423951762523192, 0.16333442979784427, 0.14583499104833883, 0.06560316111717983, -0.26893999806679103, 0.21435794581762316, 0.18097643097643096, 0.07813988515801999, 0.2014915144379432, 0.27828547098895934, 0.3531759506946245, -0.030148494915936783, 0.2651138287980381, 0.25454505790893256, 0.17655882807668521, 0.387677925903257, -0.09032364905209729, 0.2594430569430537, 0.19245154845154824, 0.3119746395336947, 0.30809153309153237, 0.23051257253384913, 0.2996759766338079, 0.26262014536775874, 0.3885352537230001, 0.21664771126309582, 0.25698350855493696, 0.28036323051948064, 0.1829415437917973, 0.5538372682571151, 0.336997204184704, 0.33126668891855776, 0.2857569345675265, 0.5251701434454056, 0.3189488089772123, 0.3572946915424789, 0.25894605394605386, 0.0, 0.34243254540873586, 0.1927944965407201, 0.28771153089334905, 0.2763679033033871, -0.26502071084132556, 0.327697148212612, 0.1, 0.24022173731303723, 1.0, 0.061076604554865424, 0.6581993146719742, 0.03928482021518998, 0.285466356967662, 0.1146326001525797, 0.40455222190623713, -0.32803383398210745, 0.211285123515628, 0.20036171474290232, 0.2771702373753366, 0.42000000000000004, 0.25193794763588806, 0.3122320547669385, 0.08566868833366255, 0.24763327496473564, 0.2025123525123526, -0.14203641426195204, 0.0, 0.28768632227837126, 0.24071097316380244, 0.34338782562466785, -0.6321660745449997, 0.195679830373708, 0.186414852752881, 0.2973756178809365, 0.7071342678485534, 0.30151515151515157, 0.08529684601113173, 0.23494673075841904, 0.1462216504669335, -0.011724091027369724, 0.287582085993103, 0.24785354796718434, -0.116370286609942, 0.23617327523529297, -0.12896290403617733, 0.18477669552669557, 0.42179480742625036, 0.18181818181818185, 0.24055325987144172, 0.2998962951372589, 0.34981552073657207, -0.024720973306187027, 0.04969887625328042, 0.33526371735168986, 0.18822721412822935, 0.13878838928367218, 0.2656719803644805, 0.3871527676443403, 0.20945266811172591, 0.22393061592753574, 0.23480559668344247, 0.26567758682420345, 0.32122519977504876, 0.10330541324119309, 0.2159791859925789, 0.34183999164963674, 0.22374043348656467, 0.1851514935927283, 0.3641947296889161, 0.690423916361425, 0.3093500871422945, 0.24648644360993804, 0.23083300942015697, 0.1682715280660484, 0.37945589095589116, 0.16615628507295163, 0.23802254722730015, 0.18345704980994557, 0.060979580419580334, 0.2904000373933924, 0.3120426913512012, 0.5561786444576917, 0.19999999999999998, 0.3289341514754353, 0.027168373879641956, 0.30916290822148573, 0.24859421175380567, 0.20011459129106188, 0.34096844016198835, 0.20007140389469372, 0.29211335435166147, 0.2475150805478664, 0.2754617604617603, 0.22951342874812253, 0.30775494996806474, 0.19422230198612125, 0.2682135138030335, 0.18046100583090402, 0.13615421105036452, 0.2511679902304903, 0.23404645994284992, 0.12170845173912663, 0.4640556010044194, 0.2684627641730955, 0.2136578248361689, 0.1743603702844771, 0.39641211312891755, 0.06183318331833189, 0.27534115699992473, 0.10037758321869618, 0.3918699172587305, 0.029863700655779868, 0.458263573775622, 0.24642616642616696, 0.13575932061136134, 0.5441568833688138, 0.23292657081821586, 0.1646447429899945, 0.23011645445019527, -0.3895652173913035, 0.36813298733188204, 0.41818181818181815, 0.2958847672005557, 0.28448849515133445, 0.18425585101737843, 0.45, 0.2420650985299424, 0.044245128290662426, 0.19386812374617254, 0.4411320740121914, 0.20954301075268822, 0.3338016928870575, 0.2806405943855875, 0.11224348170913055, 0.5791941410318933, -0.012267316017316015, 0.2144546713998673, 0.2848522601429577, 0.4191356107660454, 0.2501184259273355, 0.19928387675578674, 0.4278178449792278, 0.32091253204724035, 0.22944568637191567, 0.6921900672532443, 0.2578911329481674, 0.03756248047485161, 0.2788935295273317, 0.2453795356914358, 0.07962546897546899, 0.20619102416570786, 0.17856086070791938, 0.2545454545454545, 0.26242838246409644, 0.8035703814538964, 0.2193770484887425, 0.3666666666666667, 0.4387092955075673, 0.2675925344791512, 0.1698650618387453, 0.3015916529060859, -0.023402155079905982, 0.3524940968122785, 0.2604964196926501, 0.18962401690804753, 0.29484517586200537, 0.18516370651746128, 0.030500658761528344, -0.6155155872266255, 0.15794886153897764, 0.2044106443248923, 0.31285626898980934, 0.30498437006484136, 0.2897668240850056, 0.24947394779787516, 0.3937644693547104, 0.2843089918556012, 0.31727272727272726, 0.2478490559698987, 0.16887456097361758, 0.2621019848945382, 0.2640217969165338, 0.284174568817426, 0.19400691319452495, 0.1801586317275266, 0.3341301873413934, 0.08829715061058348, 0.07090607002899003, 0.27897563204895054, 0.16472310036454776, 0.22171558691789914, 0.3276086319695342, 0.328854833213434, 0.07617845117845112, 0.0, 0.0, 0.3104356552538369, 0.27832019171304884, 0.04285714285714286, 0.2144683316683312, 0.1068022659979303, 0.4766233766233766, 0.2300106649014419, 0.3170454545454546, 0.08505406989781966, 0.26841577540106937, 0.25825888326187285, 0.19486549165120592, 0.3562652812538998, 0.19209350723477384, 0.3036514807943377, 0.15333337031229657, 0.23127189788404742, 0.2925985509161373, 0.2593765160459374, 0.2768281926406923, 0.5620200305367671, 0.1533480313337459, 0.2942028197694473, 0.03908686149665525, 0.36237373737373735, 0.4163965501852081, 0.2947131412648655, 0.8, 0.25818155581791924, 0.29996480384582347, 0.22953289323787937, 0.43663149350649355, 0.1786233045733733, -0.06719901719901739, 0.2783228200371052, 0.2597559618743826, 0.2529002601172408, 0.3496934925024276, 0.24494000494000465, 0.30223648045076595, 0.1295203308596151, 0.0, 0.20156112588199196, 0.16114285714285717, 0.20569807022932007, 0.45902218112125115, 0.2613539556035837, 0.14821975162884257, 0.12606009947499341, -0.1685806574987134, 0.26332326043364995, 0.21208253495138818, 0.2875486451264998, 0.4542971055932696, -0.4780740312054506, 0.2758653726369546, 0.31811247394580744, 0.21895562770562726, 0.29756784351904564, 0.16043969804300381, 0.1540929225812948, 0.2711491310872298, 0.7602267275126272, 0.2146515151515146, 0.14722885824737672, 0.2410021546035263, 0.387818868435023, 0.0, 0.3819800685425697, 0.2382418005723084, 0.21842672689629192, 0.27687182788475867, 0.23846153846153847, 0.21606757964788548, 0.2185001604941488, 0.12580645161290324, 0.2392000028171393, 0.3376468282373793, 0.19279220779220774, 0.2942986488819816, -0.04922244730578074, 0.2391639610389611, 0.21150270330527832, 0.3644763259864778, 0.177651509326699, 0.23724285148813493, 0.2226902260702258, 0.237080781100684, 0.17776453566665998, 0.41454545454545455, 0.057699703746304974, 0.39257215007214874, 0.06198347107438015, 0.27643555512245743, 0.3521138339605674, 0.28190001628858313, 0.29330821592057565, 0.3130682000378969, 0.354578280835187, 0.25197003635156945, 0.3186704805285173, 0.31536796536796535, 0.3397501184946443, -0.2371441355657254, 0.23017075517075514, 0.3010566032141376, 0.052661641726602336, 0.2658520005635383, 0.1260537331442471, 0.2812759971934278, 0.09163998791905768, 0.41363636363636364, 0.12739786255411262, 0.3617247238742566, 0.07051378075760364, -0.03108934290641646, 0.2257126459399181, -0.016535588229915306, 0.0, 0.3138950480413895, 0.0974568770075936, 0.2378757933005508, 0.23563788099093427, 0.3498393021120295, 0.3508592532467533, 0.3174047876726444, 0.250416912632822, 0.41453823953823954, 0.3304908865931501, 0.2915429365286099, 0.29768740031897933, 0.3237740475292338, 0.14630178516704376, 0.20942214096582992, 0.45003308012741977, 0.29471689025260467, 0.2513794185076426, 0.1658548407806875, 0.13861641501299699, 0.08139184141603023, 0.1783980451002458, -0.3333333333333333, 0.18819721019721025, 0.1924687349687352, 0.28498224295811364, -0.12268776697916041, 0.6, 0.16127391547846118, 0.15127333691287148, 0.0, 0.22648709315375984, 0.08449336924467807, -0.12550535172097224, 0.43891130907659864, 0.22361839502016798, -0.07660403501183492, 0.2545664423295997, 0.16221885566505245, 0.26399278015049815, 0.3626001044725034, 0.27753254750175904, 0.24745989304812835, 0.1927597032597025, 0.1318225286688183, 0.16953779189180695, 0.3516622653705157, 0.520979020979021, 0.2832813982424761, 0.4039440373204974, 0.35630732133363713, 0.2342433899433893, 0.0, 0.9383116883116883, 0.3272568894520115, 0.345709550865801, 0.3835060492989589, 0.5200172458959255, 0.12655213240015006, 0.0040387834821428575, 0.1919187910854577, -0.03607324304708423, 0.15786796536796538, 0.2166529944875269, 0.21733862713513888, 0.0639141258561729, 0.22997846845160028, 0.27584132137703565, 0.15029776721294297, 0.24717201166180733, 0.3232170846394984, 0.20527696823980077, 0.31679651711924445, 0.13785150768771462, 0.16176712370092167, 0.25750473484848485, 0.25392536987374525, 0.22659521572312247, 0.36186240636065453, 0.12306963225777653, 0.21628203114090208, 0.24800942066881615, 0.22456740878169437, 0.1362774294670848, 0.4591379874059612, 0.237349542470024, 0.35, 0.3156479502682035, 0.34809738724632316, 0.24734685275680832, 0.2672715516645224, 0.062194192868535, 0.4047909591503531, 0.24744573338879386, 0.17165488657141428, 0.3744006806201928, 0.2585244689332463, 0.3078321374211786, 0.11998217468805694, 0.1487155823492334, 0.23892451298701303, 0.30204083008979105, 0.09744398902202771, 0.34565589152710285, 0.2335763161569613, 0.2803188874617449, 0.4095275095275098, 0.2956439393939408, 0.30308086113233146, 0.4288096482061995, 0.28534772781931783, 0.19768107002935464, 0.4524880480593832, 0.18782912374981303, 0.0647411145302711, 0.3142829616407824, 0.24605358605358568, 0.33094851576994455, 0.18371399277414324, 0.5137317336477807, 0.25147709873192126, 0.3409757877781126, 0.16799598103814967, 0.12560330988455984, 0.20788519233930652, 0.22572798040992242, 0.28448170995670957, 0.2814339643407434, 0.1367029834426741, 0.3440609576198745, 0.15893484102104796, 0.12037207444961458, -0.13580368906455803, 0.13790045005179696, 0.3432366805634696, 0.31667120513894725, 0.3505587311749283, 0.27952584328423263, 0.3699025974025974, 0.152220942140297, 0.17161784687332138, 0.5686868686868686, 0.37345446220446227, 0.4890360697983168, 0.46846952708144146, 0.7084280856705674, 0.2484485371890911, 0.23669407937371975, 0.0817471590909091, 0.1826207154096598, 0.11092529663773226, 0.1584194888563648, 0.37984227594780423, 0.2543312639741209, 0.20522727272727273, 0.2158462306260234, 0.2050090034729859, 0.010086291486291367, 0.209824327458256, 0.25, 0.29371826371826354, 0.33948366982243955, 0.2843754224734285, 0.2340485317894957, 0.3112353531884776, 0.23105682907696307, 0.2721089111253042, 0.2659028838808248, 0.2634559804836044, 0.15405382844489748, 0.08029982363315702, 0.28445520014964376, 0.31884712284269034, 0.10045553825526594, 0.14785404447702805, 0.0, -0.03942207792207791, 0.18398035377700417, -0.10778966442301635, 0.18866279069767436, 0.23543550434527882, 0.2836393267749196, 0.2337536656891495, 0.3090051135357822, -0.016239225376393874, 0.14225118123746178, 0.3218137113234467, 0.04815392940392939, 0.0, 0.1272220361208459, 0.10410452872409381, 0.19651252899546362, 0.3378967778044297, 0.2059213669542134, 0.2487723214285715, 0.18074721873108981, 0.26326705132783224, 0.06917241054797316, 0.24656546756205028, 0.2866446526957891, 0.10418923476344535, -0.08725391842777216, 0.2187461211355016, 0.16593154287233236, 0.32455511678709414, -0.07536268438351765, 0.19114532902994447, 0.4568803536888643, 0.394462005076314, 0.4594211097255583, 0.07369213095047851, 0.2896665854536979, 0.39248944592411095, 0.32592352092351634, 0.221749815225425, 0.1854009726765337, 0.239369946091644, 0.0902935606060606, 0.22913282859789377, 0.2729071081590164, 0.7390949348865775, 0.292736194699609, 0.41639380149619093, 0.27421286705795866, 0.2736686009026435, 0.24254327435849157, 0.20533165022207203, 0.35398756587615327, -0.03540451021846324, 0.29037859287859186, 0.4211279461279459, 0.17383040935672517, 0.20009831135785358, 0.09164467690064909, 0.254324494949495, 0.22912414965986366, 0.6689102564102556, 0.2121170885709654, 0.31084405964405937, 0.1531944444444442, 0.2663706563706564, 0.25668978475228516, 0.2095712809917354, -0.032413461063651186, 0.25326028138528134, 0.1262427188514817, 0.2692809092705358, 0.3568099483478378, 0.16448873625037344, 0.4545232748788127, 0.30871212121212116, 0.26504684088453706, 0.23827272727272727, 0.21067731773177345, 0.4500483602144574, 0.30356567324775374, 0.194496992248974, 0.4696820420958352, 0.07801433729144548, 0.26532828282828286, 0.06344159050825711, 0.21034800565288322, 0.3861129532406137, 0.41692106865517004, 0.14503630441491724, 0.35940438871473357, 0.18802381604339397, 0.3263516770344499, 0.3708532220703268, 0.12633587914675987, 0.3038287038341267, 0.2642020666143473, 0.17812533563482877, 0.10251797637390829, 0.26526737967914416, 0.056040669856459335, 0.2657301386296983, 0.14686825786825786, 0.3053191156801755, 0.2106195619561955, 0.24307555821371568, 0.20309663755784435, 0.23690909090909099, 0.3116161616161616, 0.20677835620470025, 0.20933834076371383, 0.27760773906731984, 0.2194754265342501, 0.2698194864950987, 0.35467578596267263, 0.12941176470588237, 0.19654936127992034, 0.251605103833364, 0.3303940085789395, -0.1674302712685893, 0.40100938665294944, 0.2637239356388288, 0.1431894693421326, 0.35711438440932, 0.21256337074921025, 0.35766769534096227, 0.28910551948051944, 0.2681818181818182, 0.1768510013022206, 0.3312743631754041, 0.27222363452150694, 0.2402855636859719, 0.11054416172063229, 0.223469336219336, 0.3280970963881323, 0.1628049280892883, 0.2696125354530527, 0.3147092265164555, 0.28506275722908164, 0.24646464646464647, 0.17821637037825547, 0.5604306055786379, 0.0, 0.20229599243072283, 0.2849372463474026, 0.29807874224540826, 0.2718173274094327, 0.29773976712942174, 0.3042937644547224, 0.42774601328629697, 0.45221558441558435, 0.14340159840159838, 0.2650329801777167, 0.27508670480181274, 0.1957150983260198, 0.18626873244791084, 0.31584201388888883, 0.33195713309247094, 0.256250159154571, 0.24643870460749412, 0.04375, 0.34444444444444444, 0.20896818725088182, -0.20129134823394076, 0.24523665862161442, 0.5898618510092907, 0.17610627887518632, 0.19485202297702298, 0.14622687012189517, 0.30955803681413446, 0.154157287157287, 0.42565789473684207, 0.11739206739206738, 0.2565180436250563, 0.384375, 0.1219477561163209, 0.24504182127396423, 0.19647901655376715, 0.3839285714285714, 0.2471324099792304, 0.17233813545288962, 0.29380346394473067, 0.23610423967566835, 0.3133662861801886, 0.25, 0.2294857648736958, 0.21608348832909102, 0.19231456006590655, 0.07885235332043838, 0.23564767129422248, 0.249337802485284, 0.33802155391778016, 0.32121200694730107, 0.2253398304057279, 0.34960097816856134, 0.20430685463068893, 0.25453780886716226, 0.22655588351042902, 0.3081811695724365, 0.24480621079600667, 0.2922751123990791, 0.3056989455498629, 0.022321428571428572, 0.17847962934501455, 0.23684650134998492, 0.1860172365374322, 0.17750144201037052, 0.314028963669847, 0.2657838765008579, 0.0, 0.3666666666666667, 0.1525948561242677, 0.18864853571688098, 0.10314339407362667, 0.2119209999827523, 0.29527015747410473, 0.1786127160821037, 0.28873014584621687, 0.08509415007043922, 0.24881750832337907, 0.22647453476138737, 0.23120774920443776, 0.2831952483212327, 0.44477733170856637, 0.11004723575036074, -0.08273195876288633, 0.06554653993349624, 0.17876739747707338, -0.006741598945492938, 0.17836179115338624, 0.06821859396909855, 0.2727616007332987, 0.2293155721347207, 0.20153180844530336, 0.4063587621030368, 0.33738618804990367, 0.014814814814814815, 0.27221706864564016, 0.27131161367368245, -0.2060763319507411, 0.36591224470825695, 0.19373376623376617, 0.22131628993161614, 0.2484453589615606, 0.133573057766606, 0.29276268943822087, 0.14387545346657502, 0.34610617950505473, 0.283335193985824, 0.1664148894154812, 0.13681010531756768, 0.15155991477981015, 0.3902994227994229, 0.13423903653640948, 0.1746103896103896, 0.1925660310153981, 0.10958806818181815, 0.2451618803731481, -0.025568181818181823, -0.2, 0.4065390749601276, 0.32075396825396857, 0.21157106782106774, 0.8, 0.20958638910109487, 0.2840909090909091, 0.2595882077922072, -0.09418757845587108, 0.11639380380991139, 0.21747409694130987, -0.23190805968603104, 0.2551749542792316, 0.3328538668538669, 0.20870121431524957, 0.3163057485150487, 0.37140582425589413, 0.43153504288920946, 0.1766393294440699, 0.2160341771754816, 0.3296747539141046, 0.32465486420710327, 0.08516251630075541, 0.16820281292384298, 0.20416666666666666, 0.38611971361971303, 0.28121741657573585, 0.2232188863767808, 0.29500000000000004, -0.44863293802370297, 0.1875, 0.2590283754226777, 0.2685995085995084, 0.30082816863392364, 0.19829545454545455, 0.26819837369837285, 0.2011229946524064, 0.12329545454545453, 0.3484904705683927, 0.2529822164179701, 0.22261154244306416, 0.1428039612717032, 0.20555518555518462, 0.07593989924129305, 0.15938160217064876, 0.17765221337801979, 0.30597068259121835, 0.16262219598583227, 0.35131574720950687, 0.05113230641685924, 0.11181766440730628, 0.16294258465374978, 0.29521760977118106, 0.17811756465109246, 0.22899114972897133, 0.1910885321672121, 0.4166178262781681, 0.17721457646830782, 0.20623694859678757, 0.2332917200170722, 0.2557284517650367, 0.2298004247679098, 0.32184172077922085, 0.4782408537074808, 0.11184902597402599, 0.13955376680212567, 0.34945116014320116, 0.28333965155999, 0.10207023541829195, 0.12938032474691594, 0.2232600732600734, 0.1768312609376438, 0.1862883493318276, 0.14803558067446965, 0.03466480003177251, 0.03634746250059906, 0.1613031097343023, 0.36288647399112434, 0.2795545486851443, 0.3023881939139291, 0.11098484848484848, 0.12947874885270524, 0.036451048951048955, 0.22931107330553813, 0.20664359763043955, 0.34452586669528806, 0.12740602147381808, 0.11071621995026269, 0.2210042979163267, 0.23105478692162096, 0.2234404277314725, -0.1397388175896453, 0.2737738229262995, 0.22254553412274003, 0.2079939834177123, 0.21614381430964286, 0.39673658738265516, 0.28396292378033766, 0.5242817876567883, 0.34396552141887965, 0.6, -0.1142857142857143, 0.3118779305454121, 0.19024662206480386, 0.15283135796242572, 0.5925104456074651, 0.19666361089890516, 0.3438349015083871, 0.266186057980381, 0.38088725433858167, 0.22569221238864098, 0.20984591586864315, 0.2731627103055671, -0.24806958521202233, 0.2788117862473525, 0.14182891005626186, 0.1662150920974448, 0.12777053436502078, 0.09915263972526543, 0.33478465896267257, 0.2580043859649124, 0.6226976911976899, 0.2083640240356659, 0.09254817708333353, 0.3542542069459352, 0.37800453514739224, 0.17091194968553464, 0.3387310606060607, 0.23046263813705647, 0.4320158102766798, 0.15467740838074806, 0.11699322195801078, 0.27980857204261456, 0.10939262757444584, 0.22096366668351125, 0.27064729248564384, 0.19941273671153784, 0.23536376731216596, 0.2484165454186197, 0.2114594540250274, 0.1605336441008522, 0.0827165459908823, -0.6671346375143852, 0.21884604047946482, 0.24719851576994445, -0.1357142857142857, 0.32452346041055713, 0.2507598784194528, 0.22527931520381173, 0.21700624724576803, 0.16170963364993216, 0.21666666666666665, 0.32278615991851317, 0.2672656574591552, 0.3625408850408851, 0.36622404068942926, 0.5996632923974399, 0.11540367600973614, 0.14906126482213444, 0.046903096903096894, 0.3059561906703155, 0.2564578014578009, 0.18618326118326128, 0.24545719620992562, 0.1998564524555904, -0.8, 0.33176701325464925, 0.2431167968129686, 0.09276291237498133, 0.12475533930520075, 0.35204839375252994, 0.19399543798977234, 0.27777072785971024, 0.07215898420828004, 0.21985523971493326, 0.20093986039165612, 0.3107964762510214, 0.11189867145229532, 0.1169100891344678, 0.3307603029154751, 0.544598567289008, 0.12637751236858386, 0.34956331608770574, 0.4076190476190479, 0.15520047273430196, 0.24420099023359934, 0.20194165187330615, 0.09495378017548384, 0.30716269334597984, 0.3745431354359955, 0.3213527764693562, 0.0, 0.27760942760942786, 0.37773086383313653, -0.02758788124167002, 0.0896462387853692, 0.28191231055392857, 0.2732962425923591, 0.24054396306372533, 0.36824226373662255, 0.24123589144628768, 0.2657433712121212, 0.39709557985873717, 0.18207881842084278, 0.25455297657425296, 0.19383981289778343, 0.21925062930208725, 0.34680966955680376, 0.18411085504007774, 0.3187102113572704, 0.27383592017738373, 0.3776540514981648, 0.3212121212121212, 0.32094634840468167, 0.32972651436155115, 0.191996513810673, 0.330278318903318, 0.3173928670717657, 0.3563738078963628, 0.3214147795645983, 0.31023419324439755, 0.193982683982684, 0.1912145065013917, 0.22083599149388627, 0.26760083282810465, 0.18756397826142415, 0.2898359297865871, 0.3272897219967532, 0.25243724334195405, 0.3086303436845227, 0.2799880497653603, 0.254469696969697, 0.14745875490788338, 0.3341363353422169, 0.281304438533354, 0.2766088935574236, 0.24252203153988863, 0.13264034878165343, 0.3545454545454545, 0.44223829962607036, 0.18783319787557062, 0.02181818181818182, 0.22525312650312637, 0.3392812778061047, 0.25164081574034164, 0.18923472279033196, 0.17516384144666372, 0.22142236179121433, 0.3330542602797795, 0.20905440115440108, 0.10672151408262519, 0.3336041305916306, 0.22384887839433293, 0.3840277777777777, 0.29494218975468994, 0.427940462234131, 0.1928525401801263, 0.24814440666111987, 0.2140362302426256, 0.04090909090909091, 0.5454694431083221, 0.23067532467532476, 0.28931248905237333, 0.2629072825908268, 0.18414659513063766, 0.30300460650460614, 0.1949519802402961, 0.32542674868990634, 0.0295829125877721, 0.7493142971637938, 0.7124999999999999, 0.19477801231809969, 0.3505410160384866, 0.21457382590848764, 0.2489788585030268, 0.17430000098274745, 0.3518531176425915, 0.3688323581180724, 0.16328023538960862, 0.1991067093144244, 0.31921999687059915, 0.19857093663911848, 0.2365858630952381, 0.25349102620703134, 0.4394414061741703, 0.25855606327828545, 0.23304689944308793, 0.15744931175595248, 0.23955392433653314, 0.3056256702013581, 0.23784977753727723, 0.2564322846465691, -0.1306812538177597, 0.002082623440915611, 0.16889379255585288, 0.22068783357498706, -0.09393939393939392, 0.29726757911383356, 0.3007410220806439, 0.20167886159733966, 0.21547097963764636, 0.34988357411322474, 0.26242141354668463, 0.20202597402597405, 0.04338080136917349, 0.21475599161939773, 0.05307946837561668, 0.1846323529411755, 0.1467154810926589, 0.32325148809523785, 0.19100730306438926, 0.19467712146283733, 0.2831452341114972, -0.06451788928893039, 0.4059225974025971, -0.04378743303312274, 0.24740250263455166, 0.2867704509269859, 0.11812920701649018, 0.1543909755528011, 0.3090616513403774, -0.077621949517436, 0.4277465357608896, 0.3328488425416382, 0.24198972618879266, 0.2568637690925425, -0.18186554796378654, 0.3294450308000102, 0.294414420366455, 0.21968928001822746, 0.1589682640450795, 0.07644080502345918, 0.38055068479719917, 0.24185944264069267, 0.24916937229437217, 0.18505729075786656, 0.0, 0.24820206188234065, 0.20566276580562276, 0.22117483003220484, 0.22371387138713908, 0.25145827451533964, 0.22740124855594027, 0.10748102623329471, 0.22452087886323838, 0.19513098396738904, 0.0, 0.1882644261766602, 0.2250606833642548, 0.24772611560347385, 0.10141415402779033, 0.1689244507236136, 0.4145016502834187, 0.19363217427733564, 0.4879851470368716, 0.24038742156719725, 0.2885795646433943, 0.23184982648205768, 0.29853012327925826, 0.15993862904013256, 0.21122241503707012, 0.33135281385281384, 0.23974054032387374, 0.0854382434382434, 0.28100035307482085, 0.24409188924283248, 0.16245791245791247, 0.15757429686877544, 0.2777162319689011, 0.06298941944259168, 0.05, 0.38461538461538464, 0.2376922155225727, 0.0799861369506709, 0.20913836426454716, 0.1185603520110567, 0.1937574019245, 0.26781335838442394, 0.24061172472387432, 0.35469318263435856, 0.13217471848124465, 0.3618553613989021, 0.6260724267641639, 0.3159699608464015, 0.18963140806561846, 0.20925408763897957, 0.2712158799284546, 0.3969869922740722, 0.16920952513743928, 0.36071610437312895, 0.2786438296952663, 0.1989370182662866, 0.2570770487917461, 0.20495358593296753, 0.25418992821524417, 0.29133224698798443, 0.1467970056417709, 0.2626290782388344, 0.2752733279935924, 0.22311443021264357, 0.14604326396495115, 0.14135896018874744, 0.15382309005548445, 0.07589018221109024, 0.2705519480519481, 0.059878118495499885, 0.2830255251994377, 0.21465071827012117, 0.14524850035180598, 0.16712018919958396, 0.23392740592740568, 0.29860863095238077, 0.06369343124621098, 0.3969641574854838, 0.05258616547172614, 0.1136414596414593, 0.1843453837397938, 0.2497652053443935, 0.2580716200165656, 0.14024766323641755, 0.22465867465867465, 0.24007601487170543, 0.3175214494340999, -0.03296919734871901, 0.15915071687302007, 0.0, 0.23927692523203983, 0.21825884965728665, 0.12288536851566527, 0.30182218341882167, 0.3938577369527458, 0.2111030949228758, 0.12315079513231457, 0.5379166666666666, 0.2069650980910516, -0.10768973214285692, 0.16724941724941722, 0.7441012487618609, -0.04316368471953582, 0.12207831588896262, 0.31162282632621513, 0.306512040281881, 0.25166707576501385, 0.30659090909090914, 0.21422009962826272, 0.25532883782883686, 0.2568965517241379, 0.1470545394180795, 0.036969696969696986, 0.40532004916560244, 0.4014501471306913, 0.11471976604955332, 0.1774271664008507, 0.14305306186095174, 0.2644687205025551, 0.2518510722993478, 0.2604629241726015, 0.21025745840504875, 0.15541636170731804, 0.40372081201626797, 0.37688121640684985, 0.30597527081682, 0.10714906619241236, 0.06677514298750183, 0.3132895233473521, 0.1498359167713973, 0.1597381796071306, 0.25133111577964495, 0.15889279348102872, 0.2508180330262034, 0.08580206328118638, 0.47807408298148946, 0.23269327809205093, 0.17072966507177034, 0.1758884766027622, 0.297361594380462, 0.14257703081232495, 0.4391971664698947, 0.2067222384357215, 0.29403552476709144, 0.21684453116163316, 0.6257371240926242, 0.12614839901477737, 0.1357047302291206, 0.2812124733545556, 0.30151515151515146, 0.1702439287403264, 0.0875, 0.17341383134771557, -0.18584809130263685, 0.27349019080707, 0.1838095427963851, 0.27734187687312695, -0.14133690785405037, 0.18759953087358938, 0.21192580194133023, 0.15628362017386385, 0.3433416750936418, 0.22632656400474965, 0.1754498321726579, 0.46503205803206044, 0.24571462994172888, 0.23319747840485155, 0.1721220646287403, 0.33719841345629215, 0.18528976044036213, 0.23317799847211615, 0.24591282725211291, 0.1989290442567147, 0.25563746905489976, 0.23945266153599448, 0.07223152594629963, 0.3027378627736617, 0.2930755256648119, 0.19428369224547565, 0.3102917814508725, 0.3349500983171743, 0.053173068269526114, 0.3988674770699849, 0.09451864868866885, 0.10780834317197964, 0.25737561327561337, 0.2310551348554262, 0.34637593735954386, 0.41682206266567484, 0.029527848546987354, 0.304955415636186, 0.18656038961038948, 0.14039570814757382, 0.27101137530242, 0.052309076176877224, 0.2606605073469678, 0.39281441298521913, 0.17176863000325415, 0.3538138497992249, 0.4036924034869239, 0.2411565088643796, 0.1289770046266505, 0.2043194212059241, 0.2775675158175152, 0.17182970823214716, 0.5, 0.2496861471861468, 0.2751244588744588, 0.3359506125682587, 0.23855079365079396, 0.13722800979995226, 0.33313065953654214, 0.27157015116031435, 0.29486027463261816, 0.3897272318324946, 0.21909071583178716, 0.24189454172398495, 0.058606824470928576, 0.24012643558876406, 0.2047134923758298, 0.10105234588879436, 0.3389618181818183, 0.2663189261718669, 0.17440624138657856, 0.1878643237911239, 0.25825062876697275, 0.2765278438838647, 0.1961192828910216, 0.287926602086438, 0.3511560826179468, 0.17363636363636367, 0.05138888888888892, 0.19757087982440083, 0.09503171247357295, 0.2581351046912272, 0.26903380307635605, 0.3832075480910218, 0.25012417285095834, 0.17763495369878338, 0.29745747210535894, 0.1985104807473229, 0.30026309738420226, -0.40625, 0.3575943892708595, 0.15543928944618596, -0.06370866217845256, 0.18629358655043596, 0.1626816036816036, 0.17811175079216324, 0.3021635472370766, 0.18379226349630728, 0.312372712514758, 0.19261333573833544, 0.2928213091256571, 0.22633692006074196, 0.31103567659537806, 0.361754998598525, 0.1586391932416191, 0.24668831168831168, 0.2542223780007873, 0.22455529194783233, 0.049646098023009504, 0.13636363636363635, 0.22277821218920654, 0.25593689643689577, 0.4086927743038846, 0.3399695359087367, 0.2666416765053124, -0.060787070748036694, 0.33152221620971506, 0.3049388111888111, 0.23645815877670723, 0.3122727272727273, 0.4335057691652178, 0.21056729954827774, 0.25532054015636096, 0.0984647358541164, 0.3286372067693899, 0.30230723774405516, 0.280134250669965, 0.2705909368409362, 0.24440352746212035, 0.1735878174991076, 0.30791788856304997, 0.04263576391761121, 0.23274724939939404, 0.10267379679144388, 0.24728987993138943, 0.2811729968145058, 0.17461444805194803, 0.1595598845598846, 0.2594259926676192, 0.24490165748230228, 0.15179425837320576, 0.2684652509652505, 0.15794473755411234, 0.26837238970010946, 0.20645023997741346, 0.4648983296341927, 0.3272260949834479, 0.2990951121729415, 0.28948087286862767, 0.3227536954408352, 0.3340909090909091, 0.28295994314791306, -0.08474564305459456, 0.19960983697153892, 0.09222567621503792, 0.19513682036617808, -0.05305657648560041, 0.24687655300603692, 0.15630305077113354, 0.20323691460055102, 0.3109643451442586, 0.28257531967069544, 0.27842615227909323, 0.19454545454545452, 0.25458679519238464, 0.24590780462706718, 0.3198713667285094, 0.39220848300635475, 0.37052762819835844, 0.2594475777222252, 0.27392047055508556, 0.2060353786372673, 0.19135414909765575, 0.27875573122529634, 0.23380506116448785, 0.21416149141616397, 0.2954434596934596, 0.31478485162180686, 0.4739035970033815, 0.2801907322068608, 0.3983559159487379, 0.13954364071682476, 0.5050218704906219, 0.1530587974469373, 0.34834131859131756, 0.8060382869725423, 0.24261947331538833, 0.09198917748917747, 0.2658455703364527, 0.39398907103825154, 0.149004124806012, 0.20092512814062427, 0.14367303094915035, 0.1203967553482118, 0.2183415524910368, -0.20969524314854956, 0.2235000494339807, 0.10652116608377288, 0.2676851170548056, 0.15617356359291826, 0.018259740259740254, 0.3148830997045277, 0.1986486737034543, 0.25897698118788737, 0.23416267942583752, 0.22274366432178916, 0.3230235894810578, 0.3653544791122183, 0.13636363636363635, 0.24334960401126754, 0.4574829931972789, 0.1967341930370099, 0.40933526109307367, 0.22499748313701817, 0.3009062534104546, 0.198121237628813, 0.19525796442979065, 0.10671526186232068, 0.19580098365034826, 0.3913385336309208, 0.22828282828282828, 0.21473337268791823, 0.8062148563289576, 0.1946770794121338, -0.26912056977053805, 0.21476985254329004, 0.07622436174370995, 0.17905203463203476, 0.349341068081403, 0.33144652363402455, 0.17957645563628083, 0.15528495957437213, 0.2025114252172364, 0.19567277215225393, 0.36595581248020276, 0.18783340750630464, 0.3911505416981619, 0.2881221354403166, 0.4254582204084617, 0.3097217831510594, 0.2515458182097927, 0.22967441223881493, 0.31789990873324103, 0.1086622579030453, 0.627509950248743, 0.18976090135030557])\n"
     ]
    }
   ],
   "source": [
    "# with open('movies_clean_tweets_combined.pkl', 'r') as picklefile:\n",
    "#     movies_clean_tweets_combined = pickle.load(picklefile)\n",
    "#print movies_clean_tweets_combined\n",
    "with open('movies_clean_features.pkl', 'r') as picklefile:\n",
    "    clean_features = pickle.load(picklefile)\n",
    "print clean_features"
   ]
  },
  {
   "cell_type": "code",
   "execution_count": 14,
   "metadata": {
    "collapsed": false
   },
   "outputs": [],
   "source": [
    "directories = glob('data2/*')"
   ]
  },
  {
   "cell_type": "code",
   "execution_count": null,
   "metadata": {
    "collapsed": false
   },
   "outputs": [],
   "source": [
    "movies_after_2008 = {}\n",
    "for directory in directories:\n",
    "    try:\n",
    "        movies_after_2008[directory.rsplit('/',1)[1]] = pd.read_csv(directory, sep='\",\"', engine='python', quoting=csv.QUOTE_ALL)\n",
    "    except:\n",
    "        print \"something wrong with\"+directory\n",
    "with open('movies_after_2008_tweets.pkl', 'w') as picklefile:\n",
    "    pickle.dump(movies_after_2008, picklefile, protocol=pickle.HIGHEST_PROTOCOL)"
   ]
  },
  {
   "cell_type": "code",
   "execution_count": 15,
   "metadata": {
    "collapsed": true
   },
   "outputs": [],
   "source": [
    "def clean(text):\n",
    "    _text = text.lower()\n",
    "    for char in string.punctuation:\n",
    "        _text = _text.replace(char, \" \")\n",
    "    return _text\n",
    "\n",
    "# create features for the 'text' column in df\n",
    "def get_features(df):\n",
    "#     trees = [parsetree(clean(text), lemmata=True)[0] for text in df['text']]\n",
    "#     processed_tweets = df.assign(text=[\n",
    "#         [word.lemma for word in tree if word.tag.startswith(('JJ', 'NN', 'VB', '!'))] # only keep verbs, noun, adjective\n",
    "#         for tree in trees\n",
    "#     ])\n",
    "    processed_tweets = df\n",
    "    rare_words = get_rare_words(processed_tweets) # get rare words\n",
    "    lengths = [len(tweet) for tweet in processed_tweets['text']] # get length of words remaining\n",
    "    sentiments = [sentiment(tweet)[0] for tweet in processed_tweets['text']] # get sentiment -1.0 ~ 1.0\n",
    "    # create TfidfVectorizer, CountVectorizer and corresponding feature matrix\n",
    "    tfidf, X_tfidf, count, X_count = create_features(processed_tweets, rare_words) \n",
    "    return tfidf, X_tfidf, count, X_count, lengths, sentiments\n",
    "\n",
    "# combine multiple data frames into one by combining all texts in a data frame into one string\n",
    "def combine_df(dfs):\n",
    "    X = pd.DataFrame()\n",
    "    text = []\n",
    "    names = []\n",
    "    for df_key in dfs:\n",
    "        text.append(clean(' '.join(dfs[df_key]['text'])))\n",
    "        names.append(df_key)\n",
    "    X['name'] = names\n",
    "    return X.assign(text=text)\n",
    "\n",
    "def get_topn_words(processed_tweets,n):\n",
    "    counter = Counter()\n",
    "    for _, row in processed_tweets.iterrows():\n",
    "        counter.update(row['text'])\n",
    "    return counter"
   ]
  },
  {
   "cell_type": "code",
   "execution_count": 16,
   "metadata": {
    "collapsed": true
   },
   "outputs": [],
   "source": []
  },
  {
   "cell_type": "code",
   "execution_count": null,
   "metadata": {
    "collapsed": false
   },
   "outputs": [],
   "source": [
    "combined_df = combine_df(movies_after_2008)\n",
    "combined_df.to_pickle(\"movies_tweets_combined.pkl\")\n",
    "tknzr = TweetTokenizer()\n",
    "counter = Counter()\n",
    "tmp = []\n",
    "for _,row in combined_df.iterrows():\n",
    "    tmp.append([ word for word in tknzr.tokenize(row['text']) if word not in stopwords.words('english')])\n",
    "combined_df['text'] = tmp\n",
    "with open('movies_clean_tweets_combined.pkl', 'w') as picklefile:\n",
    "    pickle.dump(combined_df, picklefile)\n"
   ]
  },
  {
   "cell_type": "code",
   "execution_count": null,
   "metadata": {
    "collapsed": false
   },
   "outputs": [],
   "source": [
    "topn_words =  get_topn_words(movies_clean_tweets_combined,500)\n",
    "clean_features = get_features(movies_clean_tweets_combined)\n",
    "with open('movies_clean_features.pkl', 'w') as picklefile:\n",
    "    pickle.dump(clean_features, picklefile)\n"
   ]
  },
  {
   "cell_type": "markdown",
   "metadata": {},
   "source": [
    "# ------------do not delete below--------------------"
   ]
  },
  {
   "cell_type": "code",
   "execution_count": 42,
   "metadata": {
    "collapsed": false
   },
   "outputs": [
    {
     "data": {
      "text/plain": [
       "TruncatedSVD(algorithm='randomized', n_components=100, n_iter=15,\n",
       "       random_state=42, tol=0.0)"
      ]
     },
     "execution_count": 42,
     "metadata": {},
     "output_type": "execute_result"
    }
   ],
   "source": [
    "# Latent Semantic Analysis (Trucated SVD) reduce dimension of feature matrix\n",
    "svd_tfidf = TruncatedSVD(n_components=100, n_iter=15, random_state=42)\n",
    "svd_count = TruncatedSVD(n_components=100, n_iter=15, random_state=42)\n",
    "svd_tfidf.fit(clean_features[1])\n",
    "svd_count.fit(clean_features[3])"
   ]
  },
  {
   "cell_type": "code",
   "execution_count": 43,
   "metadata": {
    "collapsed": false
   },
   "outputs": [
    {
     "name": "stdout",
     "output_type": "stream",
     "text": [
      "0.0533529862208\n",
      "0.170975991361\n"
     ]
    }
   ],
   "source": [
    "# percentage of variance explained\n",
    "print(svd_tfidf.explained_variance_ratio_.sum()) \n",
    "print(svd_count.explained_variance_ratio_.sum())"
   ]
  },
  {
   "cell_type": "markdown",
   "metadata": {},
   "source": [
    "# ------------do not delete above--------------------"
   ]
  },
  {
   "cell_type": "code",
   "execution_count": 22,
   "metadata": {
    "collapsed": false
   },
   "outputs": [
    {
     "name": "stdout",
     "output_type": "stream",
     "text": [
      "(5278, 477)\n"
     ]
    }
   ],
   "source": [
    "tfidf = clean_features[1].todense()\n",
    "count = clean_features[3].todense()\n",
    "with open('movies_features.pkl', 'r') as picklefile:\n",
    "    ori_features = pickle.load(picklefile)\n",
    "length = ori_features[4]\n",
    "sentiments = ori_features[5]\n",
    "maxlength = max(length)*1.0\n",
    "normal_length = [item/maxlength for item in length]\n",
    "feature_matrix = np.append(tfidf, np.array(normal_length).reshape(5278,1), 1)\n",
    "feature_matrix = np.append(feature_matrix, np.array(sentiments).reshape(5278,1), 1)\n",
    "print feature_matrix.shape"
   ]
  },
  {
   "cell_type": "code",
   "execution_count": 7,
   "metadata": {
    "collapsed": true
   },
   "outputs": [
    {
     "ename": "NameError",
     "evalue": "name 'ori_features' is not defined",
     "output_type": "error",
     "traceback": [
      "\u001b[0;31m---------------------------------------------------------------------------\u001b[0m",
      "\u001b[0;31mNameError\u001b[0m                                 Traceback (most recent call last)",
      "\u001b[0;32m<ipython-input-7-b475634088bb>\u001b[0m in \u001b[0;36m<module>\u001b[0;34m()\u001b[0m\n\u001b[0;32m----> 1\u001b[0;31m \u001b[0mlength\u001b[0m \u001b[0;34m=\u001b[0m \u001b[0mori_features\u001b[0m\u001b[0;34m[\u001b[0m\u001b[0;36m4\u001b[0m\u001b[0;34m]\u001b[0m\u001b[0;34m\u001b[0m\u001b[0m\n\u001b[0m\u001b[1;32m      2\u001b[0m \u001b[0msentiments\u001b[0m \u001b[0;34m=\u001b[0m \u001b[0mori_features\u001b[0m\u001b[0;34m[\u001b[0m\u001b[0;36m5\u001b[0m\u001b[0;34m]\u001b[0m\u001b[0;34m\u001b[0m\u001b[0m\n\u001b[1;32m      3\u001b[0m \u001b[0mmaxlength\u001b[0m \u001b[0;34m=\u001b[0m \u001b[0mmax\u001b[0m\u001b[0;34m(\u001b[0m\u001b[0mlength\u001b[0m\u001b[0;34m)\u001b[0m\u001b[0;34m*\u001b[0m\u001b[0;36m1.0\u001b[0m\u001b[0;34m\u001b[0m\u001b[0m\n\u001b[1;32m      4\u001b[0m \u001b[0mnormal_length\u001b[0m \u001b[0;34m=\u001b[0m \u001b[0;34m[\u001b[0m\u001b[0mitem\u001b[0m\u001b[0;34m/\u001b[0m\u001b[0mmaxlength\u001b[0m \u001b[0;32mfor\u001b[0m \u001b[0mitem\u001b[0m \u001b[0;32min\u001b[0m \u001b[0mlength\u001b[0m\u001b[0;34m]\u001b[0m\u001b[0;34m\u001b[0m\u001b[0m\n\u001b[1;32m      5\u001b[0m \u001b[0;32mprint\u001b[0m \u001b[0mnormal_length\u001b[0m\u001b[0;34m,\u001b[0m\u001b[0msentiments\u001b[0m\u001b[0;34m\u001b[0m\u001b[0m\n",
      "\u001b[0;31mNameError\u001b[0m: name 'ori_features' is not defined"
     ]
    }
   ],
   "source": []
  },
  {
   "cell_type": "markdown",
   "metadata": {},
   "source": [
    "# Prediction\n",
    "1. Linear Regression\n",
    "2. Logistic Regression"
   ]
  },
  {
   "cell_type": "code",
   "execution_count": 23,
   "metadata": {
    "collapsed": false
   },
   "outputs": [],
   "source": [
    "with open('movies_after_2008_tweets.pkl', 'r') as picklefile:\n",
    "    movies_after_2008 = pickle.load(picklefile)"
   ]
  },
  {
   "cell_type": "code",
   "execution_count": 27,
   "metadata": {
    "collapsed": false
   },
   "outputs": [
    {
     "name": "stdout",
     "output_type": "stream",
     "text": [
      "5278\n",
      "[  5.14900000e+03   5.50526700e+06   5.94780000e+04   6.19796800e+07\n",
      "   4.97000000e+03   1.07352000e+05   1.23960000e+04   4.94940000e+04\n",
      "   2.86639000e+05   2.79558000e+05]\n"
     ]
    }
   ],
   "source": [
    "box_office =[]\n",
    "for name in movies_clean_tweets_combined['name']:\n",
    "    box_office.append(new_movies.loc[new_movies['BOM_id'] == name]['domestic_total_gross'].iloc[0])\n",
    "box_office = np.array(box_office)\n",
    "print len(box_office)\n",
    "print box_office[:10]\n"
   ]
  },
  {
   "cell_type": "code",
   "execution_count": 45,
   "metadata": {
    "collapsed": false
   },
   "outputs": [
    {
     "data": {
      "image/png": "[encoded data removed]",
      "text/plain": [
       "<matplotlib.figure.Figure at 0x24ddc9b90>"
      ]
     },
     "metadata": {},
     "output_type": "display_data"
    },
    {
     "name": "stdout",
     "output_type": "stream",
     "text": [
      "[  8.  15.  10. ...,  10.  17.   9.]\n"
     ]
    }
   ],
   "source": [
    "%matplotlib inline\n",
    "box_office_log = np.trunc(np.log(box_office))\n",
    "box_office_log_2 = np.trunc(np.log(box_office)/2)\n",
    "box_office_log_4 = np.trunc(np.log(box_office)/4)\n",
    "box_office_log_8 = np.trunc(np.log(box_office)/8)\n",
    "\n",
    "plt.hist(box_office_log)\n",
    "plt.hist(box_office_log_2)\n",
    "plt.hist(box_office_log_4)\n",
    "plt.hist(box_office_log_8)\n",
    "\n",
    "plt.show()\n",
    "print box_office_log"
   ]
  },
  {
   "cell_type": "code",
   "execution_count": 47,
   "metadata": {
    "collapsed": false
   },
   "outputs": [
    {
     "name": "stdout",
     "output_type": "stream",
     "text": [
      "20.0\n",
      "10.0\n",
      "5.0\n",
      "2.0\n"
     ]
    }
   ],
   "source": [
    "print max(box_office_log)\n",
    "print max(box_office_log_2)\n",
    "print max(box_office_log_4)\n",
    "print max(box_office_log_8)"
   ]
  },
  {
   "cell_type": "code",
   "execution_count": 48,
   "metadata": {
    "collapsed": false
   },
   "outputs": [
    {
     "name": "stdout",
     "output_type": "stream",
     "text": [
      "Validation accuracy USING LINEAR REGRESSION: 0.533285171396 in 0.324118852615 seconds\n",
      "Validation accuracy USING LOGESTIC REGRESSION 20 GROUP: 0.19 in 4.61636209488 seconds\n",
      "Validation accuracy USING LOGESTIC REGRESSION 10 GROUP: 0.345 in 2.87497591972 seconds\n",
      "Validation accuracy USING LOGESTIC REGRESSION 5 GROUP: 0.625 in 1.43918585777 seconds\n",
      "Validation accuracy USING LOGESTIC REGRESSION 2 GROUP: 0.835 in 0.859684944153 seconds\n"
     ]
    }
   ],
   "source": [
    "from sklearn import linear_model\n",
    "import time\n",
    "def linear(X, y, X_te):\n",
    "    \"\"\" Given labelsf and VGG features, predict the breed of the testing set. \n",
    "    Args: \n",
    "        X (numpy ndarray) : 2D array of VGG features, each row is a set of features for a single example\n",
    "        y (numpy ndarray) : 1D array of labels corresponding to the features in X\n",
    "        X_te (numpy ndarray) : 2D array of VGG features for unlabeled examples\n",
    "    Returns: \n",
    "        (numpy ndarray) 1D array of predicted labels for the unlabeled examples in X_te\n",
    "    \"\"\"\n",
    "    model = linear_model.LinearRegression()\n",
    "    model.fit(X,y)\n",
    "    return model.predict(X_te)\n",
    "def logestic(X, y, X_te):\n",
    "    \"\"\" Given labelsf and VGG features, predict the breed of the testing set. \n",
    "    Args: \n",
    "        X (numpy ndarray) : 2D array of VGG features, each row is a set of features for a single example\n",
    "        y (numpy ndarray) : 1D array of labels corresponding to the features in X\n",
    "        X_te (numpy ndarray) : 2D array of VGG features for unlabeled examples\n",
    "    Returns: \n",
    "        (numpy ndarray) 1D array of predicted labels for the unlabeled examples in X_te\n",
    "    \"\"\"\n",
    "    model = linear_model.LogisticRegression(C=1)\n",
    "    model.fit(X,y)\n",
    "    return model.predict(X_te)\n",
    "\n",
    "\n",
    "start = time.time()\n",
    "y_p = linear(feature_matrix[:5000], box_office[:5000], feature_matrix[-200:])\n",
    "end = time.time()\n",
    "print \"Validation accuracy USING LINEAR REGRESSION: {} in {} seconds\".format(np.mean(np.abs(y_p-box_office[-200:])/y_p), end-start)\n",
    "\n",
    "start = time.time()\n",
    "y_p = logestic(feature_matrix[:5000], box_office_log[:5000], feature_matrix[-200:])\n",
    "end = time.time()\n",
    "print \"Validation accuracy USING LOGESTIC REGRESSION 20 GROUP: {} in {} seconds\".format(np.mean(y_p==box_office_log[-200:]), end-start)\n",
    "\n",
    "start = time.time()\n",
    "y_p = logestic(feature_matrix[:5000], box_office_log_2[:5000], feature_matrix[-200:])\n",
    "end = time.time()\n",
    "print \"Validation accuracy USING LOGESTIC REGRESSION 10 GROUP: {} in {} seconds\".format(np.mean(y_p==box_office_log_2[-200:]), end-start)\n",
    "\n",
    "start = time.time()\n",
    "y_p = logestic(feature_matrix[:5000], box_office_log_4[:5000], feature_matrix[-200:])\n",
    "end = time.time()\n",
    "print \"Validation accuracy USING LOGESTIC REGRESSION 5 GROUP: {} in {} seconds\".format(np.mean(y_p==box_office_log_4[-200:]), end-start)\n",
    "\n",
    "start = time.time()\n",
    "y_p = logestic(feature_matrix[:5000], box_office_log_8[:5000], feature_matrix[-200:])\n",
    "end = time.time()\n",
    "print \"Validation accuracy USING LOGESTIC REGRESSION 2 GROUP: {} in {} seconds\".format(np.mean(y_p==box_office_log_8[-200:]), end-start)\n"
   ]
  },
  {
   "cell_type": "code",
   "execution_count": null,
   "metadata": {
    "collapsed": false
   },
   "outputs": [],
   "source": []
  },
  {
   "cell_type": "markdown",
   "metadata": {
    "collapsed": true
   },
   "source": [
    "## References\n",
    "Asur, Sitaram, and Bernardo A. Huberman. \"Predicting the future with social media.\" Web Intelligence and Intelligent Agent Technology (WI-IAT), 2010 IEEE/WIC/ACM International Conference on. Vol. 1. IEEE, 2010.\n",
    "\n",
    "Bermingham, Adam, and Alan F. Smeaton. \"On using Twitter to monitor political sentiment and predict election results.\" (2011).\n",
    "\n",
    "Bollen, Johan, Huina Mao, and Xiaojun Zeng. \"Twitter mood predicts the stock market.\" Journal of Computational Science 2.1 (2011): 1-8.\n",
    "\n",
    "De Vries, Lisette, Sonja Gensler, and Peter SH Leeflang. \"Popularity of brand posts on brand fan pages: An investigation of the effects of social media marketing.\" Journal of Interactive Marketing 26.2 (2012): 83-91.\n",
    "\n",
    "Oghina, Andrei, et al. \"Predicting imdb movie ratings using social media.\" European Conference on Information Retrieval. Springer Berlin Heidelberg, 2012."
   ]
  },
  {
   "cell_type": "code",
   "execution_count": null,
   "metadata": {
    "collapsed": true
   },
   "outputs": [],
   "source": []
  }
 ],
 "metadata": {
  "anaconda-cloud": {},
  "kernelspec": {
   "display_name": "Python [Root]",
   "language": "python",
   "name": "Python [Root]"
  },
  "language_info": {
   "codemirror_mode": {
    "name": "ipython",
    "version": 2
   },
   "file_extension": ".py",
   "mimetype": "text/x-python",
   "name": "python",
   "nbconvert_exporter": "python",
   "pygments_lexer": "ipython2",
   "version": "2.7.12"
  }
 },
 "nbformat": 4,
 "nbformat_minor": 0
}
