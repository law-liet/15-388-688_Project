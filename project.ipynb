{
 "cells": [
  {
   "cell_type": "markdown",
   "metadata": {},
   "source": [
    "# Midterm Report \n",
    "\n",
    "\n",
    "\n",
    "## Background\n",
    "\n",
    "Social media has become a new way of communication. It has revolutionized the relationship between users and digital products. The social media users are not only consumers, they are also content (comments) creators and spreaders. A massive amount of data has been generated directly by users and this allows us to measure people’s attention and attitude regarding a product in large scale. \n",
    "\n",
    "However, can the social media activities reflect our behaviors in real life?  Previous research showed that the tweets in a critical time period can successfully predict real world outcomes. A study on movie showed that both tweet - rate (number of tweets per hour) and sentiments could predict the box-office revenue (Asur, 2010) and the rating (Oghina,2012) of a particular movie. Also, the overall attitude of tweets has high correlations with people’s behavior in the stock market (Bollen,2011), political elections (Bermingham,2011), and etc.,\n",
    "\n",
    "However, it may go beyond our expectations in the ways how these social media indicators are correlated with the real world outcomes. For example, products (De Vries,2012) and movies (e.g., [Tiny Times](https://en.wikipedia.org/wiki/Tiny_Times)) that have received negative comments were even more popular than those who received relatively higher ratings in social media. \n",
    "In this project, we are interested in how social media is related with users’ behavior in recreational activities. Also, we are curious about how the accuracy affected by factors such as the popularity of the social media and the diversity of information sources. \n",
    "\n",
    "Our hypothesis are:\n",
    "- Both attention and attitude can predict the outcomes. Polarity will cause more attention \n",
    "- The popularity of social media and the diversity of information sources positively related with the accuracy.\n",
    "\n",
    "In this project, we use movie as our subject area because:\n",
    "- This subject area has research basis, which is both a good foundation of our project and a credible resource for comparing the project results.\n",
    "- The real world outcomes (purchase behavior) can be easily measured by the box-office revenue.\n",
    "- The “quality” of a product can be indicated by the IMDb score.\n",
    "\n",
    "\n"
   ]
  },
  {
   "cell_type": "markdown",
   "metadata": {},
   "source": [
    "## Data-preparation & analysis\n",
    "\n",
    "### 1. Movie Box Office Data  \n",
    "   \n",
    "   In the data preparation section, the first step of the project is to grasp movie data and twitter data separately:\n",
    "For the movie data part, the main information we care about are movie’s name, total domestic box office amount (we narrow down the research area for only focus on North America region), movie’s release date, genre, and distributors. The first two features are the main identifier for the movie marked as our label. The third feature (release date) is used for targeting a specific time range for tweets search, and the rest of the features can be used for movie classification since we assume that correlations between twitter and a movie’s box office may also depends on movie’s type.\n",
    "\n",
    "During the searching for box office data, we found that most of the movie box office information is either not complete or not freely available. There is no public free API available for large scale movie box office query. Therefore, we decide to write web scrapper by ourselves to collect box office data from [Boxoffice-Mojo](www.boxofficemojo.com). Boxoffice-Mojo is a website that tracks box office for more than 16,000 movies, basically, we use [Beautiful Soup](https://www.crummy.com/software/BeautifulSoup/) and python [urllib2](https://docs.python.org/2/library/urllib2.html) library  to do web data scrapping and saved the data into ‘movies_data.pkl’ file. \n",
    "\n",
    "In the following code, movie data is exported and sorted by its domestic total gross in decreasing order. The top 5 ranking movies are shown below:\n"
   ]
  },
  {
   "cell_type": "code",
   "execution_count": null,
   "metadata": {
    "collapsed": false,
    "scrolled": true
   },
   "outputs": [],
   "source": [
    "import pickle\n",
    "import pandas as pd\n",
    "import datetime\n",
    "import unirest\n",
    "from glob import glob\n",
    "from collections import Counter\n",
    "from get_tweets import get_tweets"
   ]
  },
  {
   "cell_type": "code",
   "execution_count": null,
   "metadata": {
    "collapsed": true,
    "scrolled": true
   },
   "outputs": [],
   "source": [
    "with open('movies_data.pkl', 'r') as picklefile:\n",
    "    movies_scraped, movies_skipped = pickle.load(picklefile)"
   ]
  },
  {
   "cell_type": "code",
   "execution_count": null,
   "metadata": {
    "collapsed": true,
    "scrolled": true
   },
   "outputs": [],
   "source": [
    "movies = pd.DataFrame(movies_scraped)\n",
    "movies.dropna(axis=0, subset=['domestic_total_gross'], inplace=True)\n",
    "movies.sort_values(by='domestic_total_gross', ascending=False, inplace=True)"
   ]
  },
  {
   "cell_type": "code",
   "execution_count": null,
   "metadata": {
    "collapsed": false,
    "scrolled": true
   },
   "outputs": [],
   "source": [
    "print len(movies)\n",
    "print movies[:5]"
   ]
  },
  {
   "cell_type": "markdown",
   "metadata": {},
   "source": [
    "We can see that 14,682 movies’ information is dumped from the website and we checked our data by sorting their domestic total box office in descending order. We can see that the top 5 movies are:\n",
    "* Star War VII        : 936,662,225 \n",
    "* Avatar              : 749,766,139\n",
    "* Jurassic Park IV    : 652,270,625\n",
    "* Avengers II         : 623,357,910\n",
    "* Titanic             : 600,788,188\n",
    "\n",
    "It is already verified by other resource which means our data is reliable.\n",
    "Here is the genre information for the collected movies and their counting distribution:"
   ]
  },
  {
   "cell_type": "code",
   "execution_count": null,
   "metadata": {
    "collapsed": false,
    "scrolled": true
   },
   "outputs": [],
   "source": [
    "print movies['genre'].unique()\n",
    "print movies['genre'].value_counts()"
   ]
  },
  {
   "cell_type": "markdown",
   "metadata": {},
   "source": [
    "### 2. Twitter comments data\n",
    "  \n",
    "  When collecting twitter data, we also met some challenges. Our task is to collect tweets related to a specific film during the time period of the film release. By ‘related to a film’, we use keyword and hashtag search within one tweet. If one tweet contains a film’s name or hash-tag, we regard this tweet as related to this film. Unfortunately, Twitter [streaming API](https://dev.twitter.com/streaming/overview) only allows us to fetch the latest tweets within a week when given keywords and hashtag. Therefore, most of the films’ related tweets which posted earlier than a week cannot be fetched. We also tried several reliable open-sourced twitter data fetching library, since most of them are based on Twitter streaming API so they cannot satisfy our requirement. One of a not-very-popular library is found [here](https://github.com/Jefferson-Henrique/GetOldTweets-python). The basic idea is that when you enter on Twitter page a scroll loader starts, if you scroll down you start to get more and more tweets, all through calls to a JSON provider. After mimic we get the best advantage of Twitter Search on browsers, it can search the deepest oldest tweets. The good thing is that this library can fit most of our requirement, and the bad thing is that it is not a very reliable library due to its popularity, but so far we do not find any side effect or flaws when using this library.\n",
    " \n",
    "Blocks below are codes we used to collect tweets data. Temporarily, we set the max tweets number for each movie to be 1,000. We will adjust this number in the future if the training/testing performance does not go well. Basic features we used for each tweet are its word count, retweet number, and whether it contains links. Besides, we conduct sentimental analysis from a [public API](http://text-processing.com/api/sentiment/). Due to the daily usage limitation for sentimental analysis API, we only choose seven films to do the sentimental analysis here, among the seven movies, four of them are popular movies which have very high box office,while the other threes are relatively normal movies:\n"
   ]
  },
  {
   "cell_type": "code",
   "execution_count": null,
   "metadata": {
    "collapsed": true,
    "scrolled": true
   },
   "outputs": [],
   "source": [
    "time_range = datetime.timedelta(days=45)\n",
    "maxtweets = 1000\n",
    "\n",
    "def fetch_tweets(row):\n",
    "    BOM_id = row['BOM_id']\n",
    "    movie_title = row['movie_title']\n",
    "    query = BOM_id + ' OR #' + BOM_id + ' OR ' + movie_title + ' OR #' + movie_title\n",
    "    date = row['release_date']\n",
    "    start = date.date().strftime('%Y-%m-%d')\n",
    "    end = (date.date() + time_range).strftime('%Y-%m-%d')\n",
    "    get_tweets(filename='data/' + BOM_id, maxtweets=maxtweets, query=query, since=start, until=end)\n",
    "    print movie_title, start, end"
   ]
  },
  {
   "cell_type": "code",
   "execution_count": null,
   "metadata": {
    "collapsed": false,
    "scrolled": true
   },
   "outputs": [],
   "source": [
    "for _, row in movies[:5].iterrows():\n",
    "    fetch_tweets(row)\n",
    "    \n",
    "for _, row in movies[-2005:-2000].iterrows():\n",
    "    fetch_tweets(row)"
   ]
  },
  {
   "cell_type": "code",
   "execution_count": null,
   "metadata": {
    "collapsed": false,
    "scrolled": true
   },
   "outputs": [],
   "source": [
    "fetched_movie = {}\n",
    "directories = glob('data/*')\n",
    "\n",
    "for directory in directories:\n",
    "    BOM_id = directory[5:]\n",
    "    print BOM_id\n",
    "    fetched_movie[BOM_id] = pd.read_csv(directory, sep=';', index_col=0)"
   ]
  },
  {
   "cell_type": "code",
   "execution_count": null,
   "metadata": {
    "collapsed": false,
    "scrolled": true
   },
   "outputs": [],
   "source": [
    "def sentiment(text):\n",
    "    # response = requests.post('http://text-processing.com/api/sentiment/', data={'text': text})\n",
    "    response = unirest.post(\"https://japerk-text-processing.p.mashape.com/sentiment/\",\n",
    "        headers={\n",
    "            \"X-Mashape-Key\": \"EMrBfg9GO4mshgbevq2BtBZCdet3p1iXIWejsnKRDuWRNljYxI\",\n",
    "            \"Content-Type\": \"application/x-www-form-urlencoded\",\n",
    "            \"Accept\": \"application/json\"\n",
    "          },\n",
    "        params={\n",
    "            \"language\": \"english\",\n",
    "            \"text\": text\n",
    "          }\n",
    "    )\n",
    "    if response.code != 200:\n",
    "        print response.code\n",
    "        print response.body\n",
    "        print 'failed: {}'.format(text)\n",
    "        return {'sentiment': None, 'probability': None}\n",
    "    sentiment = response.body['label']\n",
    "    if sentiment == 'pos':\n",
    "        return {'sentiment': 1, 'probability': response.body['probability']}\n",
    "    elif sentiment == 'neg':\n",
    "        return {'sentiment': -1, 'probability': response.body['probability']}\n",
    "    else:\n",
    "        return {'sentiment': 0, 'probability': response.body['probability']}"
   ]
  },
  {
   "cell_type": "code",
   "execution_count": null,
   "metadata": {
    "collapsed": false,
    "scrolled": true
   },
   "outputs": [],
   "source": [
    "def get_sentiments(movie_dict)\n",
    "    for BOM_id, movie in movie_dict.items():\n",
    "        sentiments = pd.DataFrame([sentiment(text) for text in movie['text']])\n",
    "        movie_dict[BOM_id] = pd.concat([movie, sentiments], axis=1)\n",
    "        #movie.to_csv('data/' + BOM_id, sep=';')\n",
    "        print BOM_id"
   ]
  },
  {
   "cell_type": "code",
   "execution_count": null,
   "metadata": {
    "collapsed": true
   },
   "outputs": [],
   "source": [
    "def ouput_csv(movie_dict):\n",
    "    for BOM_id, movie in movie_dict.items():\n",
    "        movie.to_csv('data/' + BOM_id, sep=';')"
   ]
  },
  {
   "cell_type": "markdown",
   "metadata": {},
   "source": [
    "From the following result we can see that, according to the sample we collected, popular movies tend to have more positive reviews and more tweets and retweets amount as a whole. More detailed research and their correlation will be studied after midterm report."
   ]
  },
  {
   "cell_type": "code",
   "execution_count": null,
   "metadata": {
    "collapsed": false,
    "scrolled": false
   },
   "outputs": [],
   "source": [
    "for title, movie in fetched_movie.items():\n",
    "    counter = Counter(movie['sentiment'])\n",
    "    print title, \" : \", counter, 'total: ', sum(counter.values())"
   ]
  },
  {
   "cell_type": "markdown",
   "metadata": {
    "collapsed": true
   },
   "source": [
    "## References\n",
    "Asur, Sitaram, and Bernardo A. Huberman. \"Predicting the future with social media.\" Web Intelligence and Intelligent Agent Technology (WI-IAT), 2010 IEEE/WIC/ACM International Conference on. Vol. 1. IEEE, 2010.\n",
    "\n",
    "Bermingham, Adam, and Alan F. Smeaton. \"On using Twitter to monitor political sentiment and predict election results.\" (2011).\n",
    "\n",
    "Bollen, Johan, Huina Mao, and Xiaojun Zeng. \"Twitter mood predicts the stock market.\" Journal of Computational Science 2.1 (2011): 1-8.\n",
    "\n",
    "De Vries, Lisette, Sonja Gensler, and Peter SH Leeflang. \"Popularity of brand posts on brand fan pages: An investigation of the effects of social media marketing.\" Journal of Interactive Marketing 26.2 (2012): 83-91.\n",
    "\n",
    "Oghina, Andrei, et al. \"Predicting imdb movie ratings using social media.\" European Conference on Information Retrieval. Springer Berlin Heidelberg, 2012."
   ]
  }
 ],
 "metadata": {
  "anaconda-cloud": {},
  "kernelspec": {
   "display_name": "Python [Root]",
   "language": "python",
   "name": "Python [Root]"
  },
  "language_info": {
   "codemirror_mode": {
    "name": "ipython",
    "version": 2
   },
   "file_extension": ".py",
   "mimetype": "text/x-python",
   "name": "python",
   "nbconvert_exporter": "python",
   "pygments_lexer": "ipython2",
   "version": "2.7.12"
  }
 },
 "nbformat": 4,
 "nbformat_minor": 0
}
