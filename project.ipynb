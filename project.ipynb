{
 "cells": [
  {
   "cell_type": "markdown",
   "metadata": {},
   "source": [
    "# Midterm Report \n",
    "\n",
    "\n",
    "\n",
    "## Background\n",
    "\n",
    "Social media has become a new way of communication. It has revolutionized the relationship between users and digital products. The social media users are not only consumers, they are also content (comments) creators and spreaders. A massive amount of data has been generated directly by users and this allows us to measure people’s attention and attitude regarding a product in large scale. \n",
    "\n",
    "However, can the social media activities reflect our behaviors in real life?  Previous research showed that the tweets in a critical time period can successfully predict real world outcomes. A study on movie showed that both tweet - rate (number of tweets per hour) and sentiments could predict the box-office revenue (Asur, 2010) and the rating (Oghina,2012) of a particular movie. Also, the overall attitude of tweets has high correlations with people’s behavior in the stock market (Bollen,2011), political elections (Bermingham,2011), and etc.,\n",
    "\n",
    "However, it may go beyond our expectations in the ways how these social media indicators are correlated with the real world outcomes. For example, products (De Vries,2012) and movies (e.g., [Tiny Times](https://en.wikipedia.org/wiki/Tiny_Times)) that have received negative comments were even more popular than those who received relatively higher ratings in social media. \n",
    "In this project, we are interested in how social media is related with users’ behavior in recreational activities. Also, we are curious about how the accuracy affected by factors such as the popularity of the social media and the diversity of information sources. \n",
    "\n",
    "Our hypothesis are:\n",
    "- Both attention and attitude can predict the outcomes. Polarity will cause more attention \n",
    "- The popularity of social media and the diversity of information sources positively related with the accuracy.\n",
    "\n",
    "In this project, we use movie as our subject area because:\n",
    "- This subject area has research basis, which is both a good foundation of our project and a credible resource for comparing the project results.\n",
    "- The real world outcomes (purchase behavior) can be easily measured by the box-office revenue.\n",
    "- The “quality” of a product can be indicated by the IMDb score.\n",
    "\n",
    "\n"
   ]
  },
  {
   "cell_type": "markdown",
   "metadata": {},
   "source": [
    "## Data-preparation & analysis\n",
    "\n",
    "### 1. Movie Box Office Data  \n",
    "   \n",
    "   In the data preparation section, the first step of the project is to grasp movie data and twitter data separately:\n",
    "For the movie data part, the main information we care about are movie’s name, total domestic box office amount (we narrow down the research area for only focus on North America region), movie’s release date, genre, and distributors. The first two features are the main identifier for the movie marked as our label. The third feature (release date) is used for targeting a specific time range for tweets search, and the rest of the features can be used for movie classification since we assume that correlations between twitter and a movie’s box office may also depends on movie’s type.\n",
    "\n",
    "During the searching for box office data, we found that most of the movie box office information is either not complete or not freely available. There is no public free API available for large scale movie box office query. Therefore, we decide to write web scrapper by ourselves to collect box office data from [Boxoffice-Mojo](www.boxofficemojo.com). Boxoffice-Mojo is a website that tracks box office for more than 16,000 movies, basically, we use [Beautiful Soup](https://www.crummy.com/software/BeautifulSoup/) and python [urllib2](https://docs.python.org/2/library/urllib2.html) library  to do web data scrapping and saved the data into ‘movies_data.pkl’ file. \n",
    "\n",
    "In the following code, movie data is exported and sorted by its domestic total gross in decreasing order. The top 5 ranking movies are shown below:\n"
   ]
  },
  {
   "cell_type": "code",
   "execution_count": 1,
   "metadata": {
    "collapsed": false,
    "scrolled": true
   },
   "outputs": [],
   "source": [
    "import pickle\n",
    "import pandas as pd\n",
    "import numpy as np\n",
    "import datetime\n",
    "import unirest\n",
    "from nltk import compat\n",
    "import matplotlib.pyplot as plt\n",
    "import nltk\n",
    "import sklearn\n",
    "import string\n",
    "import csv\n",
    "import ast\n",
    "from pytagcloud import create_tag_image, make_tags\n",
    "from pytagcloud.lang.counter import get_tag_counts\n",
    "from sklearn.decomposition import TruncatedSVD\n",
    "from pattern.en import sentiment, parsetree\n",
    "from glob import glob\n",
    "from collections import Counter\n",
    "from get_tweets import get_tweets\n",
    "from text_classification import process_all, get_rare_words, create_features"
   ]
  },
  {
   "cell_type": "code",
   "execution_count": 2,
   "metadata": {
    "collapsed": false,
    "scrolled": true
   },
   "outputs": [],
   "source": [
    "with open('movies_data1.pkl', 'r') as picklefile:\n",
    "    movies_scraped, movies_skipped = pickle.load(picklefile)"
   ]
  },
  {
   "cell_type": "code",
   "execution_count": 44,
   "metadata": {
    "collapsed": true,
    "scrolled": true
   },
   "outputs": [],
   "source": [
    "movies = pd.DataFrame(movies_scraped)\n",
    "movies.dropna(axis=0, subset=['domestic_total_gross'], inplace=True)\n",
    "movies.sort_values(by='domestic_total_gross', ascending=True, inplace=True)\n",
    "movies = movies.set_index('BOM_id')"
   ]
  },
  {
   "cell_type": "code",
   "execution_count": 4,
   "metadata": {
    "collapsed": false,
    "scrolled": true
   },
   "outputs": [
    {
     "data": {
      "text/html": [
       "<div>\n",
       "<table border=\"1\" class=\"dataframe\">\n",
       "  <thead>\n",
       "    <tr style=\"text-align: right;\">\n",
       "      <th></th>\n",
       "      <th>actors</th>\n",
       "      <th>budget</th>\n",
       "      <th>director</th>\n",
       "      <th>distributor</th>\n",
       "      <th>domestic_total_gross</th>\n",
       "      <th>genre</th>\n",
       "      <th>movie_title</th>\n",
       "      <th>opening_income_wend</th>\n",
       "      <th>opening_theaters</th>\n",
       "      <th>rating</th>\n",
       "      <th>release_date</th>\n",
       "      <th>runtime_mins</th>\n",
       "    </tr>\n",
       "    <tr>\n",
       "      <th>BOM_id</th>\n",
       "      <th></th>\n",
       "      <th></th>\n",
       "      <th></th>\n",
       "      <th></th>\n",
       "      <th></th>\n",
       "      <th></th>\n",
       "      <th></th>\n",
       "      <th></th>\n",
       "      <th></th>\n",
       "      <th></th>\n",
       "      <th></th>\n",
       "      <th></th>\n",
       "    </tr>\n",
       "  </thead>\n",
       "  <tbody>\n",
       "    <tr>\n",
       "      <th>turntheriver</th>\n",
       "      <td>Famke Janssen</td>\n",
       "      <td>NaN</td>\n",
       "      <td>None</td>\n",
       "      <td>Screen Media</td>\n",
       "      <td>5149.0</td>\n",
       "      <td>Drama</td>\n",
       "      <td>Turn the River</td>\n",
       "      <td>2722.0</td>\n",
       "      <td>1.0</td>\n",
       "      <td>R</td>\n",
       "      <td>2008-05-09</td>\n",
       "      <td>92.0</td>\n",
       "    </tr>\n",
       "    <tr>\n",
       "      <th>shinealight</th>\n",
       "      <td>None</td>\n",
       "      <td>NaN</td>\n",
       "      <td>Martin Scorsese</td>\n",
       "      <td>Paramount Vantage</td>\n",
       "      <td>5505267.0</td>\n",
       "      <td>Documentary</td>\n",
       "      <td>Shine a Light</td>\n",
       "      <td>1488081.0</td>\n",
       "      <td>276.0</td>\n",
       "      <td>PG-13</td>\n",
       "      <td>2008-04-04</td>\n",
       "      <td>122.0</td>\n",
       "    </tr>\n",
       "    <tr>\n",
       "      <th>womaninblack2</th>\n",
       "      <td>Jeremy Irvine</td>\n",
       "      <td>NaN</td>\n",
       "      <td>None</td>\n",
       "      <td>Relativity</td>\n",
       "      <td>26501323.0</td>\n",
       "      <td>Horror</td>\n",
       "      <td>The Woman in Black 2: Angel of Death</td>\n",
       "      <td>15027415.0</td>\n",
       "      <td>2602.0</td>\n",
       "      <td>PG-13</td>\n",
       "      <td>2015-01-02</td>\n",
       "      <td>98.0</td>\n",
       "    </tr>\n",
       "    <tr>\n",
       "      <th>girlonabicycle</th>\n",
       "      <td>Paddy Considine</td>\n",
       "      <td>NaN</td>\n",
       "      <td>None</td>\n",
       "      <td>Monterey Media, Inc.</td>\n",
       "      <td>91401.0</td>\n",
       "      <td>Romantic Comedy</td>\n",
       "      <td>Girl on a Bicycle</td>\n",
       "      <td>37610.0</td>\n",
       "      <td>52.0</td>\n",
       "      <td>R</td>\n",
       "      <td>2014-02-14</td>\n",
       "      <td>101.0</td>\n",
       "    </tr>\n",
       "    <tr>\n",
       "      <th>talkingdirtyafterdark</th>\n",
       "      <td>Martin Lawrence</td>\n",
       "      <td>NaN</td>\n",
       "      <td>None</td>\n",
       "      <td>New Line</td>\n",
       "      <td>978775.0</td>\n",
       "      <td>Comedy</td>\n",
       "      <td>Talking Dirty After Dark</td>\n",
       "      <td>NaN</td>\n",
       "      <td>NaN</td>\n",
       "      <td>R</td>\n",
       "      <td>1991-05-17</td>\n",
       "      <td>86.0</td>\n",
       "    </tr>\n",
       "  </tbody>\n",
       "</table>\n",
       "</div>"
      ],
      "text/plain": [
       "                                actors  budget         director  \\\n",
       "BOM_id                                                            \n",
       "turntheriver             Famke Janssen     NaN             None   \n",
       "shinealight                       None     NaN  Martin Scorsese   \n",
       "womaninblack2            Jeremy Irvine     NaN             None   \n",
       "girlonabicycle         Paddy Considine     NaN             None   \n",
       "talkingdirtyafterdark  Martin Lawrence     NaN             None   \n",
       "\n",
       "                                distributor  domestic_total_gross  \\\n",
       "BOM_id                                                              \n",
       "turntheriver                   Screen Media                5149.0   \n",
       "shinealight               Paramount Vantage             5505267.0   \n",
       "womaninblack2                    Relativity            26501323.0   \n",
       "girlonabicycle         Monterey Media, Inc.               91401.0   \n",
       "talkingdirtyafterdark              New Line              978775.0   \n",
       "\n",
       "                                 genre                           movie_title  \\\n",
       "BOM_id                                                                         \n",
       "turntheriver                     Drama                        Turn the River   \n",
       "shinealight                Documentary                         Shine a Light   \n",
       "womaninblack2                   Horror  The Woman in Black 2: Angel of Death   \n",
       "girlonabicycle         Romantic Comedy                     Girl on a Bicycle   \n",
       "talkingdirtyafterdark           Comedy              Talking Dirty After Dark   \n",
       "\n",
       "                       opening_income_wend  opening_theaters rating  \\\n",
       "BOM_id                                                                \n",
       "turntheriver                        2722.0               1.0      R   \n",
       "shinealight                      1488081.0             276.0  PG-13   \n",
       "womaninblack2                   15027415.0            2602.0  PG-13   \n",
       "girlonabicycle                     37610.0              52.0      R   \n",
       "talkingdirtyafterdark                  NaN               NaN      R   \n",
       "\n",
       "                      release_date  runtime_mins  \n",
       "BOM_id                                            \n",
       "turntheriver            2008-05-09          92.0  \n",
       "shinealight             2008-04-04         122.0  \n",
       "womaninblack2           2015-01-02          98.0  \n",
       "girlonabicycle          2014-02-14         101.0  \n",
       "talkingdirtyafterdark   1991-05-17          86.0  "
      ]
     },
     "execution_count": 4,
     "metadata": {},
     "output_type": "execute_result"
    }
   ],
   "source": [
    "movies.head()"
   ]
  },
  {
   "cell_type": "markdown",
   "metadata": {},
   "source": [
    "We can see that 14,682 movies’ information is dumped from the website and we checked our data by sorting their domestic total box office in descending order. We can see that the top 5 movies are:\n",
    "* Star War VII        : 936,662,225 \n",
    "* Avatar              : 749,766,139\n",
    "* Jurassic Park IV    : 652,270,625\n",
    "* Avengers II         : 623,357,910\n",
    "* Titanic             : 600,788,188\n",
    "\n",
    "It is already verified by other resource which means our data is reliable.\n",
    "Here is the genre information for the collected movies and their counting distribution:"
   ]
  },
  {
   "cell_type": "code",
   "execution_count": 5,
   "metadata": {
    "collapsed": false,
    "scrolled": true
   },
   "outputs": [],
   "source": [
    "# print movies['genre'].unique()\n",
    "# print movies['genre'].value_counts()"
   ]
  },
  {
   "cell_type": "markdown",
   "metadata": {},
   "source": [
    "### 2. Twitter comments data\n",
    "  \n",
    "  When collecting twitter data, we also met some challenges. Our task is to collect tweets related to a specific film during the time period of the film release. By ‘related to a film’, we use keyword and hashtag search within one tweet. If one tweet contains a film’s name or hash-tag, we regard this tweet as related to this film. Unfortunately, Twitter [streaming API](https://dev.twitter.com/streaming/overview) only allows us to fetch the latest tweets within a week when given keywords and hashtag. Therefore, most of the films’ related tweets which posted earlier than a week cannot be fetched. We also tried several reliable open-sourced twitter data fetching library, since most of them are based on Twitter streaming API so they cannot satisfy our requirement. One of a not-very-popular library is found [here](https://github.com/Jefferson-Henrique/GetOldTweets-python). The basic idea is that when you enter on Twitter page a scroll loader starts, if you scroll down you start to get more and more tweets, all through calls to a JSON provider. After mimic we get the best advantage of Twitter Search on browsers, it can search the deepest oldest tweets. The good thing is that this library can fit most of our requirement, and the bad thing is that it is not a very reliable library due to its popularity, but so far we do not find any side effect or flaws when using this library.\n",
    " \n",
    "Blocks below are codes we used to collect tweets data. Temporarily, we set the max tweets number for each movie to be 1,000. We will adjust this number in the future if the training/testing performance does not go well. Basic features we used for each tweet are its word count, retweet number, and whether it contains links. Besides, we conduct sentimental analysis from a [public API](http://text-processing.com/api/sentiment/). Due to the daily usage limitation for sentimental analysis API, we only choose seven films to do the sentimental analysis here, among the seven movies, four of them are popular movies which have very high box office,while the other threes are relatively normal movies:\n"
   ]
  },
  {
   "cell_type": "code",
   "execution_count": 6,
   "metadata": {
    "collapsed": true,
    "scrolled": true
   },
   "outputs": [],
   "source": [
    "# time_range = datetime.timedelta(days=45)\n",
    "# maxtweets = 1000\n",
    "\n",
    "# def fetch_tweets(row):\n",
    "#     BOM_id = row['BOM_id']\n",
    "#     movie_title = row['movie_title']\n",
    "#     query = BOM_id + ' OR #' + BOM_id + ' OR ' + movie_title + ' OR #' + movie_title\n",
    "#     date = row['release_date']\n",
    "#     start = date.date().strftime('%Y-%m-%d')\n",
    "#     end = (date.date() + time_range).strftime('%Y-%m-%d')\n",
    "#     try:\n",
    "#         get_tweets(filename='data2/' + BOM_id, maxtweets=maxtweets, query=query, since=start, until=end)\n",
    "#         print movie_title, start, end\n",
    "#     except:\n",
    "#         print \"Problem with fetching tweets of\" + BOM_id\n",
    "#         return    "
   ]
  },
  {
   "cell_type": "code",
   "execution_count": 7,
   "metadata": {
    "collapsed": false
   },
   "outputs": [],
   "source": [
    "# # fetched index: 0 ~ 20, 200 ~ 220, 400 ~ 420\n",
    "# start = 400 \n",
    "# end = 420\n",
    "\n",
    "# for _, row in movies.iloc[start:end].iterrows():\n",
    "#     fetch_tweets(row)  "
   ]
  },
  {
   "cell_type": "code",
   "execution_count": 8,
   "metadata": {
    "collapsed": false,
    "scrolled": true
   },
   "outputs": [],
   "source": [
    "# fetched_movie = {}\n",
    "# directories = glob('data/*')\n",
    "# print directories\n",
    "# for directory in directories:\n",
    "#     BOM_id = directory[5:]\n",
    "#     print BOM_id\n",
    "#     fetched_movie[BOM_id] = pd.read_csv(directory, sep=';', index_col=0, dtype={'probability':dict})"
   ]
  },
  {
   "cell_type": "code",
   "execution_count": 9,
   "metadata": {
    "collapsed": false,
    "scrolled": true
   },
   "outputs": [],
   "source": [
    "# def sentiment(text):\n",
    "#     # response = requests.post('http://text-processing.com/api/sentiment/', data={'text': text})\n",
    "#     response = unirest.post(\"https://japerk-text-processing.p.mashape.com/sentiment/\",\n",
    "#         headers={\n",
    "#             \"X-Mashape-Key\": \"EMrBfg9GO4mshgbevq2BtBZCdet3p1iXIWejsnKRDuWRNljYxI\",\n",
    "#             \"Content-Type\": \"application/x-www-form-urlencoded\",\n",
    "#             \"Accept\": \"application/json\"\n",
    "#           },\n",
    "#         params={\n",
    "#             \"language\": \"english\",\n",
    "#             \"text\": text\n",
    "#           }\n",
    "#     )\n",
    "#     if response.code != 200:\n",
    "#         print response.code\n",
    "#         print response.body\n",
    "#         print 'failed: {}'.format(text)\n",
    "#         return {'sentiment': None, 'probability': None}\n",
    "#     sentiment = response.body['label']\n",
    "#     if sentiment == 'pos':\n",
    "#         return {'sentiment': 1, 'probability': response.body['probability']}\n",
    "#     elif sentiment == 'neg':\n",
    "#         return {'sentiment': -1, 'probability': response.body['probability']}\n",
    "#     else:\n",
    "#         return {'sentiment': 0, 'probability': response.body['probability']}"
   ]
  },
  {
   "cell_type": "code",
   "execution_count": 10,
   "metadata": {
    "collapsed": false,
    "scrolled": true
   },
   "outputs": [],
   "source": [
    "# def get_sentiments(movie_dict):\n",
    "#     for BOM_id, movie in movie_dict.items():\n",
    "#         sentiments = pd.DataFrame([sentiment(text) for text in movie['text']])\n",
    "#         movie_dict[BOM_id] = pd.concat([movie, sentiments], axis=1)\n",
    "#         #movie.to_csv('data/' + BOM_id, sep=';')\n",
    "#         print BOM_id"
   ]
  },
  {
   "cell_type": "markdown",
   "metadata": {},
   "source": [
    "From the following result we can see that, according to the sample we collected, popular movies tend to have more positive reviews and more tweets and retweets amount as a whole. More detailed research and their correlation will be studied after midterm report."
   ]
  },
  {
   "cell_type": "code",
   "execution_count": 11,
   "metadata": {
    "collapsed": false,
    "scrolled": false
   },
   "outputs": [],
   "source": [
    "# for title, movie in fetched_movie.items():\n",
    "#     counter = Counter(movie['sentiment'])\n",
    "#     print title, \" : \", counter, 'total: ', sum(counter.values())"
   ]
  },
  {
   "cell_type": "markdown",
   "metadata": {},
   "source": [
    "## Data Visualization\n",
    "\n",
    "The first step towards a successful ML model is understanding what's in the dataset.\n",
    "By using basic statistic metholody and data visualization, we could easily achieve that.\n",
    "\n",
    "First, let's load the tweets data we scraped"
   ]
  },
  {
   "cell_type": "code",
   "execution_count": 45,
   "metadata": {
    "collapsed": false
   },
   "outputs": [],
   "source": [
    "with open('movies_tweets_combined.pkl', 'r') as picklefile:\n",
    "    movies_tweets_combined = pickle.load(picklefile)\n",
    "    \n",
    "with open('movies_after_2008_tweets.pkl', 'r') as picklefile:\n",
    "    tweets = pickle.load(picklefile)\n",
    "\n",
    "    "
   ]
  },
  {
   "cell_type": "code",
   "execution_count": 134,
   "metadata": {
    "collapsed": false
   },
   "outputs": [],
   "source": [
    "all_movies = movies.loc[movies_tweets_combined['name']]\n",
    "all_movies.sort_values(by='domestic_total_gross', ascending=True, inplace=True)"
   ]
  },
  {
   "cell_type": "markdown",
   "metadata": {},
   "source": [
    "### Diversity\n",
    "the first thing we want to explore is the diversity of tweets.\n",
    "This includes:\n",
    "1. Are the tweets from a few users or widely spread users?\n",
    "2. Are the tweets from a few locations or globally?\n",
    "\n",
    "we define the diversity of users as the ratio of `{# of unique users} / {# of posts}`.\n",
    "Similarly, the diversity of locations as the ratio of `{# of unique locations} / {# of posts}`"
   ]
  },
  {
   "cell_type": "code",
   "execution_count": 86,
   "metadata": {
    "collapsed": false
   },
   "outputs": [
    {
     "data": {
      "image/png": "[encoded data removed]",
      "text/plain": [
       "<matplotlib.figure.Figure at 0x21e6d5310>"
      ]
     },
     "metadata": {},
     "output_type": "display_data"
    }
   ],
   "source": [
    "def diversity_user(df):\n",
    "    return float(df['\"username'].unique().shape[0]) / df.shape[0]\n",
    "    \n",
    "def diversity_location(df):    \n",
    "    return float(df['geo'].unique().shape[0]) / df.shape[0]\n",
    "\n",
    "diversity_users = np.array([diversity_user(tweets[BOM_id]) for BOM_id in all_movies.index])\n",
    "diversity_locations = np.array([diversity_location(tweets[BOM_id]) for BOM_id in all_movies.index])\n",
    "\n",
    "# N = len(diversity_users)\n",
    "# Plot outputs\n",
    "diversity_users.sort()\n",
    "diversity_locations.sort()\n",
    "fig, ax = plt.subplots()\n",
    "ax.plot(diversity_users, 'r,', label='user diversity')\n",
    "ax.plot(diversity_locations, 'b,', label='location diversity')\n",
    "legend = ax.legend(loc='center right', shadow=True)\n",
    "plt.show()"
   ]
  },
  {
   "cell_type": "markdown",
   "metadata": {},
   "source": [
    "The figure above gives us a visible understanding of our dataset:\n",
    "1. the posts for each movie are generally from a pretty widely spread user base\n",
    "2. However, the geo locations are pretty centralized. After a close investigation, it turns out for most of the tweets, there are actually no geo infomation at all. This indicates that the data quality of geo is pretty bad and we should not consider use it for training."
   ]
  },
  {
   "cell_type": "markdown",
   "metadata": {},
   "source": [
    "Then we have to ask, would the tweets diversity has something to do with the box office gross of that movie?\n",
    "The following image can explain this."
   ]
  },
  {
   "cell_type": "code",
   "execution_count": 89,
   "metadata": {
    "collapsed": false
   },
   "outputs": [
    {
     "data": {
      "image/png": "[encoded data removed]",
      "text/plain": [
       "<matplotlib.figure.Figure at 0x1cff1c950>"
      ]
     },
     "metadata": {},
     "output_type": "display_data"
    }
   ],
   "source": [
    "diversity_users = np.array([diversity_user(tweets[BOM_id]) for BOM_id in all_movies.index])\n",
    "plt.plot(all_movies['domestic_total_gross'], diversity_users, 'r,')\n",
    "plt.show()"
   ]
  },
  {
   "cell_type": "markdown",
   "metadata": {},
   "source": [
    "You can see that for those few high gross movies, there user diversities are pretty good, but just as good as the remaining. so we can hardly relate user diversity with movie gross."
   ]
  },
  {
   "cell_type": "markdown",
   "metadata": {},
   "source": [
    "### Sparsity\n",
    "\n",
    "we notices that in the dataset, there are some othere fields that maybe useful. These fields include `retweets`, `favorites`, `mentions`, `hashtags` and of course `geo`. we want to know if these fields have something to do with the box office gross."
   ]
  },
  {
   "cell_type": "code",
   "execution_count": 131,
   "metadata": {
    "collapsed": false
   },
   "outputs": [
    {
     "data": {
      "image/png": "[encoded data removed]",
      "text/plain": [
       "<matplotlib.figure.Figure at 0x1b99b9410>"
      ]
     },
     "metadata": {},
     "output_type": "display_data"
    }
   ],
   "source": [
    "def sparsity_int(s):\n",
    "    return np.sum(s != 0) / float(len(s))\n",
    "\n",
    "def sparsity_str(s):\n",
    "    return np.sum(s.apply(lambda x: type(x) != float)) / float(len(s))\n",
    "\n",
    "sparsity_retweets = np.array([sparsity_int(tweets[BOM_id]['retweets']) for BOM_id in all_movies.index])\n",
    "sparsity_favorites = np.array([sparsity_int(tweets[BOM_id]['favorites']) for BOM_id in all_movies.index])\n",
    "sparsity_mentions = np.array([sparsity_str(tweets[BOM_id]['mentions']) for BOM_id in all_movies.index])\n",
    "sparsity_hashtags = np.array([sparsity_str(tweets[BOM_id]['hashtags']) for BOM_id in all_movies.index])\n",
    "\n",
    "fig, ((ax1, ax2), (ax3, ax4)) = plt.subplots(2, 2, sharex='col', sharey='row')\n",
    "ax1.plot(sparsity_retweets, 'r,', label='retweets sparsity')\n",
    "ax2.plot(sparsity_favorites, 'b,', label='favorites sparsity')\n",
    "ax3.plot(sparsity_mentions, 'g,', label='mentions sparsity')\n",
    "ax4.plot(sparsity_hashtags, 'y,', label='hashtags sparsity')\n",
    "plt.show()"
   ]
  },
  {
   "cell_type": "markdown",
   "metadata": {},
   "source": [
    "Sadly the results are pretty much the same as `geo`. Most of these fields are very sparse. and these aren't any very strong correlation between these fields and the box office gross. \n",
    "\n",
    "However, during the calculation, we found following interesting plot. it shows that the more people mentions others in their posts about centain movie, the bigger chance that movie could have more gorss. We'll see if we can levarage this in our training phase"
   ]
  },
  {
   "cell_type": "code",
   "execution_count": 133,
   "metadata": {
    "collapsed": false
   },
   "outputs": [
    {
     "data": {
      "image/png": "[encoded data removed]",
      "text/plain": [
       "<matplotlib.figure.Figure at 0x1b20b13d0>"
      ]
     },
     "metadata": {},
     "output_type": "display_data"
    }
   ],
   "source": [
    "count_mentions = np.array([np.sum(tweets[BOM_id]['mentions'].apply(lambda x: type(x) != float)) for BOM_id in all_movies.index])\n",
    "plt.plot(count_mentions, 'r,')\n",
    "plt.show()\n",
    "                           "
   ]
  },
  {
   "cell_type": "markdown",
   "metadata": {},
   "source": [
    "### Tag Cloud\n",
    "An interesting visualization is tag cloud. It's pretty popular around the social network nowadays. You probably already saw many of them. Here we could use the `pytagcloud` to easily create our own tag cloud. Let's build one for the best selling movie and one for the worst. "
   ]
  },
  {
   "cell_type": "code",
   "execution_count": 13,
   "metadata": {
    "collapsed": false
   },
   "outputs": [],
   "source": [
    "# print movies_tweets_combined.head()\n",
    "aggregated_tweets = movies_tweets_combined.set_index('name')\n",
    "all_movies = movies.loc[movies_tweets_combined['name']]"
   ]
  },
  {
   "cell_type": "code",
   "execution_count": 14,
   "metadata": {
    "collapsed": false
   },
   "outputs": [],
   "source": [
    "best_movie = all_movies.loc[all_movies['domestic_total_gross'].idxmax()]\n",
    "worst_movie = all_movies.loc[all_movies['domestic_total_gross'].idxmin()]\n",
    "\n",
    "tags = make_tags(get_tag_counts(aggregated_tweets.loc[best_movie.name].text)[:60], maxsize=120)\n",
    "create_tag_image(tags, 'best_movie.png', size=(600, 300), background=(0, 0, 0, 255), fontname='Lobster')\n",
    "\n",
    "tags = make_tags(get_tag_counts(aggregated_tweets.loc[worst_movie.name].text)[:60], maxsize=120)\n",
    "create_tag_image(tags, 'worst_movie.png', size=(600, 300), background=(0, 0, 0, 255), fontname='Lobster')"
   ]
  },
  {
   "cell_type": "markdown",
   "metadata": {},
   "source": [
    "The following two images is the tag cloud we created.\n",
    "<img src=\"best_movie.png\">"
   ]
  },
  {
   "cell_type": "markdown",
   "metadata": {},
   "source": [
    "<img src=\"worst_movie.png\">\n"
   ]
  },
  {
   "cell_type": "markdown",
   "metadata": {},
   "source": [
    "From the above tag cloud, we could observe that :\n",
    "1. see that some common words are everywhere. These words are generally something like 'twitter', 'http', 'com', 'www' that actually belongs to the link of a tweet. \n",
    "2. Movie name is another popular tag but may actually meaningless for our training purpose\n",
    "3. There are some words like 'million', 'billion' that seems to be interesting. \n",
    "\n",
    "In the trining section, we should see if we could make use of all the observations above."
   ]
  },
  {
   "cell_type": "markdown",
   "metadata": {},
   "source": [
    "# Feature Extraction\n",
    "\n",
    "Current Idea: Extract features from raw text but also try to reduce feature space.\n",
    "1. Create parse tree and lemmatize each tweet.\n",
    "2. Keep nouns, adjectives, and verbs.\n",
    "3. Create word count, DF-IDF, sentiment, and length features\n",
    "4. (If needed) use latent semantics analysis (i.e. Trucated SVD)\n",
    "5. Add gaussian noise to response values"
   ]
  },
  {
   "cell_type": "code",
   "execution_count": null,
   "metadata": {
    "collapsed": false
   },
   "outputs": [],
   "source": [
    "directories = glob('data2/*')"
   ]
  },
  {
   "cell_type": "code",
   "execution_count": null,
   "metadata": {
    "collapsed": false
   },
   "outputs": [],
   "source": [
    "avatar = pd.read_csv(\"data2/avatar\", sep='\",\"', engine='python')\n",
    "avenger = pd.read_csv(\"data2/avengers2\", sep='\",\"', engine='python')"
   ]
  },
  {
   "cell_type": "code",
   "execution_count": null,
   "metadata": {
    "collapsed": true
   },
   "outputs": [],
   "source": [
    "def clean(text):\n",
    "    _text = text.lower()\n",
    "    for char in string.punctuation:\n",
    "        _text = _text.replace(char, \" \")\n",
    "    return _text\n",
    "\n",
    "# create features for the 'text' column in df\n",
    "def get_features(df):\n",
    "    trees = [parsetree(clean(text), lemmata=True)[0] for text in df['text']]\n",
    "    processed_tweets = df.assign(text=[\n",
    "        [word.lemma for word in tree if word.tag.startswith(('JJ', 'NN', 'VB', '!'))] # only keep verbs, noun, adjective\n",
    "        for tree in trees\n",
    "    ])\n",
    "    rare_words = get_rare_words(processed_tweets) # get rare words\n",
    "    lengths = [len(tweet) for tweet in processed_tweets['text']] # get length of words remaining\n",
    "    sentiments = [sentiment(tweet)[0] for tweet in processed_tweets['text']] # get sentiment -1.0 ~ 1.0\n",
    "    # create TfidfVectorizer, CountVectorizer and corresponding feature matrix\n",
    "    tfidf, X_tfidf, count, X_count = create_features(processed_tweets, rare_words) \n",
    "    return tfidf, X_tfidf, count, X_count, lengths, sentiments\n"
   ]
  },
  {
   "cell_type": "code",
   "execution_count": null,
   "metadata": {
    "collapsed": true
   },
   "outputs": [],
   "source": [
    "# combine multiple data frames into one by combining all texts in a data frame into one string\n",
    "def combine_df(dfs):\n",
    "    X = pd.DataFrame()\n",
    "    text = []\n",
    "    for df in dfs:\n",
    "        text.append(' '.join(df['text']))\n",
    "    return X.assign(text=text)"
   ]
  },
  {
   "cell_type": "code",
   "execution_count": null,
   "metadata": {
    "collapsed": true
   },
   "outputs": [],
   "source": [
    "combined_df = combine_df([avatar, avenger])"
   ]
  },
  {
   "cell_type": "code",
   "execution_count": null,
   "metadata": {
    "collapsed": false
   },
   "outputs": [],
   "source": [
    "features = get_features(combined_df)"
   ]
  },
  {
   "cell_type": "code",
   "execution_count": null,
   "metadata": {
    "collapsed": false
   },
   "outputs": [],
   "source": [
    "features"
   ]
  },
  {
   "cell_type": "code",
   "execution_count": null,
   "metadata": {
    "collapsed": false
   },
   "outputs": [],
   "source": [
    "# Latent Semantic Analysis (Trucated SVD) reduce dimension of feature matrix\n",
    "svd_tfidf = TruncatedSVD(n_components=10, n_iter=7, random_state=42)\n",
    "svd_count = TruncatedSVD(n_components=10, n_iter=7, random_state=42)\n",
    "svd_tfidf.fit(features[1])\n",
    "svd_count.fit(features[3])"
   ]
  },
  {
   "cell_type": "code",
   "execution_count": null,
   "metadata": {
    "collapsed": false
   },
   "outputs": [],
   "source": [
    "# percentage of variance explained\n",
    "# print(svd_tfidf.explained_variance_ratio_.sum()) \n",
    "# print(svd_count.explained_variance_ratio_.sum())"
   ]
  },
  {
   "cell_type": "code",
   "execution_count": 16,
   "metadata": {
    "collapsed": false
   },
   "outputs": [
    {
     "ename": "KeyError",
     "evalue": "'probability'",
     "output_type": "error",
     "traceback": [
      "\u001b[0;31m---------------------------------------------------------------------------\u001b[0m",
      "\u001b[0;31mKeyError\u001b[0m                                  Traceback (most recent call last)",
      "\u001b[0;32m<ipython-input-16-11a4940a4b91>\u001b[0m in \u001b[0;36m<module>\u001b[0;34m()\u001b[0m\n\u001b[1;32m     68\u001b[0m \u001b[0;31m# print fetched_movie['avatar'].dtypes\u001b[0m\u001b[0;34m\u001b[0m\u001b[0;34m\u001b[0m\u001b[0m\n\u001b[1;32m     69\u001b[0m \u001b[0;34m\u001b[0m\u001b[0m\n\u001b[0;32m---> 70\u001b[0;31m \u001b[0mX\u001b[0m \u001b[0;34m=\u001b[0m \u001b[0mnp\u001b[0m\u001b[0;34m.\u001b[0m\u001b[0marray\u001b[0m\u001b[0;34m(\u001b[0m\u001b[0;34m[\u001b[0m\u001b[0mfeature_extraction\u001b[0m\u001b[0;34m(\u001b[0m\u001b[0mBOM_id\u001b[0m\u001b[0;34m,\u001b[0m \u001b[0mdf\u001b[0m\u001b[0;34m,\u001b[0m \u001b[0mmovies\u001b[0m\u001b[0;34m)\u001b[0m \u001b[0;32mfor\u001b[0m \u001b[0mBOM_id\u001b[0m\u001b[0;34m,\u001b[0m \u001b[0mdf\u001b[0m \u001b[0;32min\u001b[0m \u001b[0mtweets\u001b[0m\u001b[0;34m.\u001b[0m\u001b[0mitems\u001b[0m\u001b[0;34m(\u001b[0m\u001b[0;34m)\u001b[0m\u001b[0;34m]\u001b[0m\u001b[0;34m)\u001b[0m\u001b[0;34m\u001b[0m\u001b[0m\n\u001b[0m\u001b[1;32m     71\u001b[0m \u001b[0my\u001b[0m \u001b[0;34m=\u001b[0m \u001b[0mnp\u001b[0m\u001b[0;34m.\u001b[0m\u001b[0marray\u001b[0m\u001b[0;34m(\u001b[0m\u001b[0;34m[\u001b[0m\u001b[0mmovies\u001b[0m\u001b[0;34m[\u001b[0m\u001b[0mmovies\u001b[0m\u001b[0;34m.\u001b[0m\u001b[0mloc\u001b[0m\u001b[0;34m[\u001b[0m\u001b[0mBOM_id\u001b[0m\u001b[0;34m]\u001b[0m\u001b[0;34m.\u001b[0m\u001b[0mname\u001b[0m\u001b[0;34m]\u001b[0m\u001b[0;34m[\u001b[0m\u001b[0;34m'domestic_total_gross'\u001b[0m\u001b[0;34m]\u001b[0m\u001b[0;34m.\u001b[0m\u001b[0miloc\u001b[0m\u001b[0;34m[\u001b[0m\u001b[0;36m0\u001b[0m\u001b[0;34m]\u001b[0m \u001b[0;32mfor\u001b[0m \u001b[0mBOM_id\u001b[0m\u001b[0;34m,\u001b[0m \u001b[0mdf\u001b[0m \u001b[0;32min\u001b[0m \u001b[0mtweets\u001b[0m\u001b[0;34m.\u001b[0m\u001b[0mitems\u001b[0m\u001b[0;34m(\u001b[0m\u001b[0;34m)\u001b[0m\u001b[0;34m]\u001b[0m\u001b[0;34m)\u001b[0m\u001b[0;34m\u001b[0m\u001b[0m\n",
      "\u001b[0;32m<ipython-input-16-11a4940a4b91>\u001b[0m in \u001b[0;36mfeature_extraction\u001b[0;34m(BOM_id, df, movie)\u001b[0m\n\u001b[1;32m     22\u001b[0m         \u001b[0;32mreturn\u001b[0m \u001b[0meval\u001b[0m\u001b[0;34m(\u001b[0m\u001b[0mx\u001b[0m\u001b[0;34m)\u001b[0m\u001b[0;34m\u001b[0m\u001b[0m\n\u001b[1;32m     23\u001b[0m \u001b[0;34m\u001b[0m\u001b[0m\n\u001b[0;32m---> 24\u001b[0;31m     \u001b[0mdf\u001b[0m\u001b[0;34m[\u001b[0m\u001b[0;34m'probability'\u001b[0m\u001b[0;34m]\u001b[0m \u001b[0;34m=\u001b[0m \u001b[0mdf\u001b[0m\u001b[0;34m[\u001b[0m\u001b[0;34m'probability'\u001b[0m\u001b[0;34m]\u001b[0m\u001b[0;34m.\u001b[0m\u001b[0mapply\u001b[0m\u001b[0;34m(\u001b[0m\u001b[0mconvert\u001b[0m\u001b[0;34m)\u001b[0m\u001b[0;34m\u001b[0m\u001b[0m\n\u001b[0m\u001b[1;32m     25\u001b[0m \u001b[0;34m\u001b[0m\u001b[0m\n\u001b[1;32m     26\u001b[0m \u001b[0;34m\u001b[0m\u001b[0m\n",
      "\u001b[0;32m/Users/muyang/anaconda2/lib/python2.7/site-packages/pandas/core/frame.pyc\u001b[0m in \u001b[0;36m__getitem__\u001b[0;34m(self, key)\u001b[0m\n\u001b[1;32m   1995\u001b[0m             \u001b[0;32mreturn\u001b[0m \u001b[0mself\u001b[0m\u001b[0;34m.\u001b[0m\u001b[0m_getitem_multilevel\u001b[0m\u001b[0;34m(\u001b[0m\u001b[0mkey\u001b[0m\u001b[0;34m)\u001b[0m\u001b[0;34m\u001b[0m\u001b[0m\n\u001b[1;32m   1996\u001b[0m         \u001b[0;32melse\u001b[0m\u001b[0;34m:\u001b[0m\u001b[0;34m\u001b[0m\u001b[0m\n\u001b[0;32m-> 1997\u001b[0;31m             \u001b[0;32mreturn\u001b[0m \u001b[0mself\u001b[0m\u001b[0;34m.\u001b[0m\u001b[0m_getitem_column\u001b[0m\u001b[0;34m(\u001b[0m\u001b[0mkey\u001b[0m\u001b[0;34m)\u001b[0m\u001b[0;34m\u001b[0m\u001b[0m\n\u001b[0m\u001b[1;32m   1998\u001b[0m \u001b[0;34m\u001b[0m\u001b[0m\n\u001b[1;32m   1999\u001b[0m     \u001b[0;32mdef\u001b[0m \u001b[0m_getitem_column\u001b[0m\u001b[0;34m(\u001b[0m\u001b[0mself\u001b[0m\u001b[0;34m,\u001b[0m \u001b[0mkey\u001b[0m\u001b[0;34m)\u001b[0m\u001b[0;34m:\u001b[0m\u001b[0;34m\u001b[0m\u001b[0m\n",
      "\u001b[0;32m/Users/muyang/anaconda2/lib/python2.7/site-packages/pandas/core/frame.pyc\u001b[0m in \u001b[0;36m_getitem_column\u001b[0;34m(self, key)\u001b[0m\n\u001b[1;32m   2002\u001b[0m         \u001b[0;31m# get column\u001b[0m\u001b[0;34m\u001b[0m\u001b[0;34m\u001b[0m\u001b[0m\n\u001b[1;32m   2003\u001b[0m         \u001b[0;32mif\u001b[0m \u001b[0mself\u001b[0m\u001b[0;34m.\u001b[0m\u001b[0mcolumns\u001b[0m\u001b[0;34m.\u001b[0m\u001b[0mis_unique\u001b[0m\u001b[0;34m:\u001b[0m\u001b[0;34m\u001b[0m\u001b[0m\n\u001b[0;32m-> 2004\u001b[0;31m             \u001b[0;32mreturn\u001b[0m \u001b[0mself\u001b[0m\u001b[0;34m.\u001b[0m\u001b[0m_get_item_cache\u001b[0m\u001b[0;34m(\u001b[0m\u001b[0mkey\u001b[0m\u001b[0;34m)\u001b[0m\u001b[0;34m\u001b[0m\u001b[0m\n\u001b[0m\u001b[1;32m   2005\u001b[0m \u001b[0;34m\u001b[0m\u001b[0m\n\u001b[1;32m   2006\u001b[0m         \u001b[0;31m# duplicate columns & possible reduce dimensionality\u001b[0m\u001b[0;34m\u001b[0m\u001b[0;34m\u001b[0m\u001b[0m\n",
      "\u001b[0;32m/Users/muyang/anaconda2/lib/python2.7/site-packages/pandas/core/generic.pyc\u001b[0m in \u001b[0;36m_get_item_cache\u001b[0;34m(self, item)\u001b[0m\n\u001b[1;32m   1348\u001b[0m         \u001b[0mres\u001b[0m \u001b[0;34m=\u001b[0m \u001b[0mcache\u001b[0m\u001b[0;34m.\u001b[0m\u001b[0mget\u001b[0m\u001b[0;34m(\u001b[0m\u001b[0mitem\u001b[0m\u001b[0;34m)\u001b[0m\u001b[0;34m\u001b[0m\u001b[0m\n\u001b[1;32m   1349\u001b[0m         \u001b[0;32mif\u001b[0m \u001b[0mres\u001b[0m \u001b[0;32mis\u001b[0m \u001b[0mNone\u001b[0m\u001b[0;34m:\u001b[0m\u001b[0;34m\u001b[0m\u001b[0m\n\u001b[0;32m-> 1350\u001b[0;31m             \u001b[0mvalues\u001b[0m \u001b[0;34m=\u001b[0m \u001b[0mself\u001b[0m\u001b[0;34m.\u001b[0m\u001b[0m_data\u001b[0m\u001b[0;34m.\u001b[0m\u001b[0mget\u001b[0m\u001b[0;34m(\u001b[0m\u001b[0mitem\u001b[0m\u001b[0;34m)\u001b[0m\u001b[0;34m\u001b[0m\u001b[0m\n\u001b[0m\u001b[1;32m   1351\u001b[0m             \u001b[0mres\u001b[0m \u001b[0;34m=\u001b[0m \u001b[0mself\u001b[0m\u001b[0;34m.\u001b[0m\u001b[0m_box_item_values\u001b[0m\u001b[0;34m(\u001b[0m\u001b[0mitem\u001b[0m\u001b[0;34m,\u001b[0m \u001b[0mvalues\u001b[0m\u001b[0;34m)\u001b[0m\u001b[0;34m\u001b[0m\u001b[0m\n\u001b[1;32m   1352\u001b[0m             \u001b[0mcache\u001b[0m\u001b[0;34m[\u001b[0m\u001b[0mitem\u001b[0m\u001b[0;34m]\u001b[0m \u001b[0;34m=\u001b[0m \u001b[0mres\u001b[0m\u001b[0;34m\u001b[0m\u001b[0m\n",
      "\u001b[0;32m/Users/muyang/anaconda2/lib/python2.7/site-packages/pandas/core/internals.pyc\u001b[0m in \u001b[0;36mget\u001b[0;34m(self, item, fastpath)\u001b[0m\n\u001b[1;32m   3288\u001b[0m \u001b[0;34m\u001b[0m\u001b[0m\n\u001b[1;32m   3289\u001b[0m             \u001b[0;32mif\u001b[0m \u001b[0;32mnot\u001b[0m \u001b[0misnull\u001b[0m\u001b[0;34m(\u001b[0m\u001b[0mitem\u001b[0m\u001b[0;34m)\u001b[0m\u001b[0;34m:\u001b[0m\u001b[0;34m\u001b[0m\u001b[0m\n\u001b[0;32m-> 3290\u001b[0;31m                 \u001b[0mloc\u001b[0m \u001b[0;34m=\u001b[0m \u001b[0mself\u001b[0m\u001b[0;34m.\u001b[0m\u001b[0mitems\u001b[0m\u001b[0;34m.\u001b[0m\u001b[0mget_loc\u001b[0m\u001b[0;34m(\u001b[0m\u001b[0mitem\u001b[0m\u001b[0;34m)\u001b[0m\u001b[0;34m\u001b[0m\u001b[0m\n\u001b[0m\u001b[1;32m   3291\u001b[0m             \u001b[0;32melse\u001b[0m\u001b[0;34m:\u001b[0m\u001b[0;34m\u001b[0m\u001b[0m\n\u001b[1;32m   3292\u001b[0m                 \u001b[0mindexer\u001b[0m \u001b[0;34m=\u001b[0m \u001b[0mnp\u001b[0m\u001b[0;34m.\u001b[0m\u001b[0marange\u001b[0m\u001b[0;34m(\u001b[0m\u001b[0mlen\u001b[0m\u001b[0;34m(\u001b[0m\u001b[0mself\u001b[0m\u001b[0;34m.\u001b[0m\u001b[0mitems\u001b[0m\u001b[0;34m)\u001b[0m\u001b[0;34m)\u001b[0m\u001b[0;34m[\u001b[0m\u001b[0misnull\u001b[0m\u001b[0;34m(\u001b[0m\u001b[0mself\u001b[0m\u001b[0;34m.\u001b[0m\u001b[0mitems\u001b[0m\u001b[0;34m)\u001b[0m\u001b[0;34m]\u001b[0m\u001b[0;34m\u001b[0m\u001b[0m\n",
      "\u001b[0;32m/Users/muyang/anaconda2/lib/python2.7/site-packages/pandas/indexes/base.pyc\u001b[0m in \u001b[0;36mget_loc\u001b[0;34m(self, key, method, tolerance)\u001b[0m\n\u001b[1;32m   1945\u001b[0m                 \u001b[0;32mreturn\u001b[0m \u001b[0mself\u001b[0m\u001b[0;34m.\u001b[0m\u001b[0m_engine\u001b[0m\u001b[0;34m.\u001b[0m\u001b[0mget_loc\u001b[0m\u001b[0;34m(\u001b[0m\u001b[0mkey\u001b[0m\u001b[0;34m)\u001b[0m\u001b[0;34m\u001b[0m\u001b[0m\n\u001b[1;32m   1946\u001b[0m             \u001b[0;32mexcept\u001b[0m \u001b[0mKeyError\u001b[0m\u001b[0;34m:\u001b[0m\u001b[0;34m\u001b[0m\u001b[0m\n\u001b[0;32m-> 1947\u001b[0;31m                 \u001b[0;32mreturn\u001b[0m \u001b[0mself\u001b[0m\u001b[0;34m.\u001b[0m\u001b[0m_engine\u001b[0m\u001b[0;34m.\u001b[0m\u001b[0mget_loc\u001b[0m\u001b[0;34m(\u001b[0m\u001b[0mself\u001b[0m\u001b[0;34m.\u001b[0m\u001b[0m_maybe_cast_indexer\u001b[0m\u001b[0;34m(\u001b[0m\u001b[0mkey\u001b[0m\u001b[0;34m)\u001b[0m\u001b[0;34m)\u001b[0m\u001b[0;34m\u001b[0m\u001b[0m\n\u001b[0m\u001b[1;32m   1948\u001b[0m \u001b[0;34m\u001b[0m\u001b[0m\n\u001b[1;32m   1949\u001b[0m         \u001b[0mindexer\u001b[0m \u001b[0;34m=\u001b[0m \u001b[0mself\u001b[0m\u001b[0;34m.\u001b[0m\u001b[0mget_indexer\u001b[0m\u001b[0;34m(\u001b[0m\u001b[0;34m[\u001b[0m\u001b[0mkey\u001b[0m\u001b[0;34m]\u001b[0m\u001b[0;34m,\u001b[0m \u001b[0mmethod\u001b[0m\u001b[0;34m=\u001b[0m\u001b[0mmethod\u001b[0m\u001b[0;34m,\u001b[0m \u001b[0mtolerance\u001b[0m\u001b[0;34m=\u001b[0m\u001b[0mtolerance\u001b[0m\u001b[0;34m)\u001b[0m\u001b[0;34m\u001b[0m\u001b[0m\n",
      "\u001b[0;32mpandas/index.pyx\u001b[0m in \u001b[0;36mpandas.index.IndexEngine.get_loc (pandas/index.c:4154)\u001b[0;34m()\u001b[0m\n",
      "\u001b[0;32mpandas/index.pyx\u001b[0m in \u001b[0;36mpandas.index.IndexEngine.get_loc (pandas/index.c:4018)\u001b[0;34m()\u001b[0m\n",
      "\u001b[0;32mpandas/hashtable.pyx\u001b[0m in \u001b[0;36mpandas.hashtable.PyObjectHashTable.get_item (pandas/hashtable.c:12368)\u001b[0;34m()\u001b[0m\n",
      "\u001b[0;32mpandas/hashtable.pyx\u001b[0m in \u001b[0;36mpandas.hashtable.PyObjectHashTable.get_item (pandas/hashtable.c:12322)\u001b[0;34m()\u001b[0m\n",
      "\u001b[0;31mKeyError\u001b[0m: 'probability'"
     ]
    }
   ],
   "source": [
    "fetched_movie = {}\n",
    "directories = glob('data/*')\n",
    "# print directories\n",
    "for directory in directories:\n",
    "    BOM_id = directory[5:]\n",
    "#     print BOM_id\n",
    "    fetched_movie[BOM_id] = pd.read_csv(directory, sep=';', index_col=0)\n",
    "    \n",
    "    \n",
    "def clean(text):\n",
    "    _text = text.lower()\n",
    "    for char in string.punctuation:\n",
    "        _text = _text.replace(char, \" \")\n",
    "    return _text\n",
    "\n",
    "def feature_extraction(BOM_id, df, movie):\n",
    "    df['date'] = pd.to_datetime(df['date'])\n",
    "    \n",
    "    def convert(x):\n",
    "        if type(x) != str:\n",
    "            return {'pos':0.0, 'neg':0.0, 'neutual':0.0}\n",
    "        return eval(x)\n",
    "    \n",
    "    df['probability'] = df['probability'].apply(convert)\n",
    "    \n",
    "    \n",
    "#     release_time = movie[movie['BOM_id']==BOM_id]['release_date'].iloc[0]\n",
    "#     two_month_before_release = release_time - np.timedelta64(2, 'M')\n",
    "#     one_month_after_release = release_time + np.timedelta64(1, 'M')\n",
    "        \n",
    "#     critical_tweet = df[(df['date'] > two_month_before_release) & (df['date'] < one_month_after_release)]\n",
    "    # not possible to get critica_tweet with current data\n",
    "    # for example, for avatar, it's release on 2009-12-18 and all the tweets collected are posted on 2010-01-31\n",
    "    # so the following three treat all tweets as critical tweets\n",
    "    \n",
    "    critical_tweet = df\n",
    "    critical_tweet_count = critical_tweet.shape[0]\n",
    "    critical_tweet_rate = critical_tweet_count / ((df['date'].max() - df['date'].min()).seconds / 3600.0)\n",
    "    # all the tweets here are all from 2010-01-31 18:04:00 to 2010-01-31 18:59:00 \n",
    "    critical_tweet_average_length = critical_tweet['text'].apply(lambda x: len(x)).mean()\n",
    "    \n",
    "    avg_sentiment = df['sentiment'].mean()\n",
    "    contrast = df['sentiment'].std()\n",
    "    \n",
    "    positive_tweet = df[df['sentiment'] == 1]\n",
    "    negative_tweet = df[df['sentiment'] == -1]\n",
    "    polarity = positive_tweet.shape[0] / float(negative_tweet.shape[0])\n",
    "    polarity_2 = polarity * (df[df['sentiment'] != 0].shape[0] / float(df.shape[0]))\n",
    "    \n",
    "    avg_sentiment_prob = df.apply(lambda x: x['probability']['pos'] * (x['sentiment'] == 1) + x['probability']['neg'] * (x['sentiment'] == -1), axis=1).mean()\n",
    "    polarity_prob = positive_tweet['probability'].apply(lambda x: x['pos']).sum() / negative_tweet['probability'].apply(lambda x: x['neg']).sum()\n",
    "    \n",
    "    return np.array([\n",
    "            critical_tweet_count,\n",
    "            critical_tweet_rate,\n",
    "            critical_tweet_average_length,\n",
    "            avg_sentiment,\n",
    "            contrast,\n",
    "            polarity,\n",
    "            polarity_2,\n",
    "            avg_sentiment_prob,\n",
    "            polarity_prob,\n",
    "        ])\n",
    "    \n",
    "# print fetched_movie['avatar'].head()\n",
    "# feature_extraction('avatar', fetched_movie['avatar'], movies)\n",
    "\n",
    "# print fetched_movie['avatar'].dtypes\n",
    "\n",
    "X = np.array([feature_extraction(BOM_id, df, movies) for BOM_id, df in tweets.items()])\n",
    "y = np.array([movies[movies.loc[BOM_id].name]['domestic_total_gross'].iloc[0] for BOM_id, df in tweets.items()])"
   ]
  },
  {
   "cell_type": "markdown",
   "metadata": {},
   "source": [
    "# Prediction\n",
    "1. Linear Regression\n",
    "2. Logistic Regression"
   ]
  },
  {
   "cell_type": "code",
   "execution_count": null,
   "metadata": {
    "collapsed": false
   },
   "outputs": [],
   "source": [
    "print len(X), len(y)\n",
    "P = np.random.permutation(range(len(X)))\n",
    "tr_end = np.floor(0.75 * len(P))\n",
    "\n",
    "X_tr, X_eval = X[P[:tr_end],:], X[P[tr_end:],:]\n",
    "y_tr, y_eval = y[P[:tr_end]], y[P[tr_end:]]\n"
   ]
  },
  {
   "cell_type": "code",
   "execution_count": null,
   "metadata": {
    "collapsed": false
   },
   "outputs": [],
   "source": [
    "def train_and_eval(X_tr, y_tr, X_eval, y_eval):\n",
    "    lr = sklearn.linear_model.LinearRegression()\n",
    "    lr.fit(X_tr,y_tr)\n",
    "    # The coefficients\n",
    "    print('Coefficients: \\n', lr.coef_)\n",
    "    # The mean squared error\n",
    "    print(\"Mean squared error: %.2f\"\n",
    "          % np.mean((lr.predict(X_eval) - y_eval) ** 2))\n",
    "    # Explained variance score: 1 is perfect prediction\n",
    "    print('Variance score: %.2f' % lr.score(X_eval, y_eval))\n",
    "    # Plot outputs\n",
    "    fig, ax = plt.subplots()\n",
    "    ax.scatter(y_eval, lr.predict(X_eval))\n",
    "    ax.plot([y_eval.min(), y_eval.max()], [y_eval.min(), y_eval.max()], 'k--', lw=1)\n",
    "    ax.set_xlabel('Measured')\n",
    "    ax.set_ylabel('Predicted')\n",
    "    plt.show()\n",
    "    \n",
    "train_and_eval(X_tr, y_tr, X, y)"
   ]
  },
  {
   "cell_type": "code",
   "execution_count": null,
   "metadata": {
    "collapsed": false
   },
   "outputs": [],
   "source": [
    "# with open('movies_features.pkl', 'r') as picklefile:\n",
    "#     movies_features = pickle.load(picklefile)\n",
    "    \n",
    "# with open('movies_tweets_combined.pkl', 'r') as picklefile:\n",
    "#     movies_tweets_combined = pickle.load(picklefile)\n",
    "\n",
    "# a,b,c,d,e,f = movies_features\n",
    "# print movies_features\n",
    "# print type(a),type(b),type(c),type(d),type(e),type(f)\n",
    "\n",
    "print movies_tweets_combined.dtypes\n",
    "# print movies_tweets_combined.iloc[0]['text']"
   ]
  },
  {
   "cell_type": "markdown",
   "metadata": {
    "collapsed": true
   },
   "source": [
    "## References\n",
    "Asur, Sitaram, and Bernardo A. Huberman. \"Predicting the future with social media.\" Web Intelligence and Intelligent Agent Technology (WI-IAT), 2010 IEEE/WIC/ACM International Conference on. Vol. 1. IEEE, 2010.\n",
    "\n",
    "Bermingham, Adam, and Alan F. Smeaton. \"On using Twitter to monitor political sentiment and predict election results.\" (2011).\n",
    "\n",
    "Bollen, Johan, Huina Mao, and Xiaojun Zeng. \"Twitter mood predicts the stock market.\" Journal of Computational Science 2.1 (2011): 1-8.\n",
    "\n",
    "De Vries, Lisette, Sonja Gensler, and Peter SH Leeflang. \"Popularity of brand posts on brand fan pages: An investigation of the effects of social media marketing.\" Journal of Interactive Marketing 26.2 (2012): 83-91.\n",
    "\n",
    "Oghina, Andrei, et al. \"Predicting imdb movie ratings using social media.\" European Conference on Information Retrieval. Springer Berlin Heidelberg, 2012."
   ]
  }
 ],
 "metadata": {
  "anaconda-cloud": {},
  "kernelspec": {
   "display_name": "Python 2",
   "language": "python",
   "name": "python2"
  },
  "language_info": {
   "codemirror_mode": {
    "name": "ipython",
    "version": 2
   },
   "file_extension": ".py",
   "mimetype": "text/x-python",
   "name": "python",
   "nbconvert_exporter": "python",
   "pygments_lexer": "ipython2",
   "version": "2.7.12"
  }
 },
 "nbformat": 4,
 "nbformat_minor": 0
}
